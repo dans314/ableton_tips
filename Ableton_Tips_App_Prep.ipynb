{
  "cells": [
    {
      "cell_type": "markdown",
      "metadata": {
        "id": "fePv5AppbE3Z"
      },
      "source": [
        "# YouTube Playlist to Tip Repository\n",
        "\n",
        "As an avid music producer, I identified a common challenge in the creative process: the disruption of workflow when seeking quick tips from lengthy tutorial videos. To address this, I spearheaded an innovative project to streamline access to valuable production advice. Drawing inspiration from Ableton's One Thing series, which features diverse genre producers sharing creative tips, I developed a script to transcribe and translate video content into accessible text. This script not only transcribes but also intelligently translates content where needed, ensuring universal accessibility.\n",
        "\n",
        "To elevate the utility of these transcriptions, I integrated them with OpenAI's GPT model for fine-tuning and enhancing the tips, providing succinct, relevant, and context-rich advice. The culmination of this project is a user-friendly app, seamlessly integrated into Ableton's Max for Live. This integration ensures that invaluable tips are readily available within the digital audio workstation (DAW), preserving the artistic flow and enhancing the music creation process. This tool not only demonstrates my technical prowess in programming and AI but also reflects a deep understanding of the needs and challenges within the music production community"
      ]
    },
    {
      "cell_type": "code",
      "execution_count": null,
      "metadata": {
        "id": "pRSmtFMcbE3b",
        "outputId": "8437d1a2-dc22-4149-ff91-563430480e87"
      },
      "outputs": [
        {
          "name": "stdout",
          "output_type": "stream",
          "text": [
            "Defaulting to user installation because normal site-packages is not writeable\n",
            "Requirement already satisfied: langdetect in /Users/abnormalisdope/Library/Python/3.9/lib/python/site-packages (1.0.9)\n",
            "Requirement already satisfied: six in /Library/Developer/CommandLineTools/Library/Frameworks/Python3.framework/Versions/3.9/lib/python3.9/site-packages (from langdetect) (1.15.0)\n",
            "\u001b[33mWARNING: You are using pip version 21.2.4; however, version 23.3.2 is available.\n",
            "You should consider upgrading via the '/Library/Developer/CommandLineTools/usr/bin/python3 -m pip install --upgrade pip' command.\u001b[0m\n",
            "Note: you may need to restart the kernel to use updated packages.\n"
          ]
        }
      ],
      "source": [
        "pip install langdetect # recognize multiple languages from a given text string"
      ]
    },
    {
      "cell_type": "code",
      "execution_count": null,
      "metadata": {
        "id": "z1yoYWWJbE3d",
        "outputId": "19465ef1-3b91-4d47-c6c6-625b2415ac25"
      },
      "outputs": [
        {
          "name": "stdout",
          "output_type": "stream",
          "text": [
            "Defaulting to user installation because normal site-packages is not writeable\n",
            "Requirement already satisfied: googletrans in /Users/abnormalisdope/Library/Python/3.9/lib/python/site-packages (3.0.0)\n",
            "Requirement already satisfied: httpx==0.13.3 in /Users/abnormalisdope/Library/Python/3.9/lib/python/site-packages (from googletrans) (0.13.3)\n",
            "Requirement already satisfied: rfc3986<2,>=1.3 in /Users/abnormalisdope/Library/Python/3.9/lib/python/site-packages (from httpx==0.13.3->googletrans) (1.5.0)\n",
            "Requirement already satisfied: hstspreload in /Users/abnormalisdope/Library/Python/3.9/lib/python/site-packages (from httpx==0.13.3->googletrans) (2024.1.5)\n",
            "Requirement already satisfied: sniffio in /Users/abnormalisdope/Library/Python/3.9/lib/python/site-packages (from httpx==0.13.3->googletrans) (1.3.0)\n",
            "Requirement already satisfied: idna==2.* in /Users/abnormalisdope/Library/Python/3.9/lib/python/site-packages (from httpx==0.13.3->googletrans) (2.10)\n",
            "Requirement already satisfied: certifi in /Users/abnormalisdope/Library/Python/3.9/lib/python/site-packages (from httpx==0.13.3->googletrans) (2023.11.17)\n",
            "Requirement already satisfied: httpcore==0.9.* in /Users/abnormalisdope/Library/Python/3.9/lib/python/site-packages (from httpx==0.13.3->googletrans) (0.9.1)\n",
            "Requirement already satisfied: chardet==3.* in /Users/abnormalisdope/Library/Python/3.9/lib/python/site-packages (from httpx==0.13.3->googletrans) (3.0.4)\n",
            "Requirement already satisfied: h11<0.10,>=0.8 in /Users/abnormalisdope/Library/Python/3.9/lib/python/site-packages (from httpcore==0.9.*->httpx==0.13.3->googletrans) (0.9.0)\n",
            "Requirement already satisfied: h2==3.* in /Users/abnormalisdope/Library/Python/3.9/lib/python/site-packages (from httpcore==0.9.*->httpx==0.13.3->googletrans) (3.2.0)\n",
            "Requirement already satisfied: hyperframe<6,>=5.2.0 in /Users/abnormalisdope/Library/Python/3.9/lib/python/site-packages (from h2==3.*->httpcore==0.9.*->httpx==0.13.3->googletrans) (5.2.0)\n",
            "Requirement already satisfied: hpack<4,>=3.0 in /Users/abnormalisdope/Library/Python/3.9/lib/python/site-packages (from h2==3.*->httpcore==0.9.*->httpx==0.13.3->googletrans) (3.0.0)\n",
            "\u001b[33mWARNING: You are using pip version 21.2.4; however, version 23.3.2 is available.\n",
            "You should consider upgrading via the '/Library/Developer/CommandLineTools/usr/bin/python3 -m pip install --upgrade pip' command.\u001b[0m\n",
            "Note: you may need to restart the kernel to use updated packages.\n"
          ]
        }
      ],
      "source": [
        "pip install googletrans # Google Translate's AJAX API."
      ]
    },
    {
      "cell_type": "code",
      "execution_count": null,
      "metadata": {
        "id": "Sttbc0eHbE3d",
        "outputId": "7130f3ca-2d76-49be-f18c-97abc3806a5d"
      },
      "outputs": [
        {
          "name": "stdout",
          "output_type": "stream",
          "text": [
            "Defaulting to user installation because normal site-packages is not writeable\n",
            "Requirement already satisfied: pytube in /Users/abnormalisdope/Library/Python/3.9/lib/python/site-packages (15.0.0)\n",
            "\u001b[33mWARNING: You are using pip version 21.2.4; however, version 23.3.2 is available.\n",
            "You should consider upgrading via the '/Library/Developer/CommandLineTools/usr/bin/python3 -m pip install --upgrade pip' command.\u001b[0m\n",
            "Note: you may need to restart the kernel to use updated packages.\n"
          ]
        }
      ],
      "source": [
        "pip install pytube # Downloads youtube videos"
      ]
    },
    {
      "cell_type": "code",
      "execution_count": null,
      "metadata": {
        "id": "Pf_KBXrbbE3e",
        "outputId": "e7f3f1e2-1749-49b4-94c2-50e40d998903"
      },
      "outputs": [
        {
          "name": "stdout",
          "output_type": "stream",
          "text": [
            "Defaulting to user installation because normal site-packages is not writeable\n",
            "Requirement already satisfied: requests in /Users/abnormalisdope/Library/Python/3.9/lib/python/site-packages (2.31.0)\n",
            "Requirement already satisfied: certifi in /Users/abnormalisdope/Library/Python/3.9/lib/python/site-packages (2023.11.17)\n",
            "Requirement already satisfied: idna<4,>=2.5 in /Users/abnormalisdope/Library/Python/3.9/lib/python/site-packages (from requests) (2.10)\n",
            "Requirement already satisfied: urllib3<3,>=1.21.1 in /Users/abnormalisdope/Library/Python/3.9/lib/python/site-packages (from requests) (2.1.0)\n",
            "Requirement already satisfied: charset-normalizer<4,>=2 in /Users/abnormalisdope/Library/Python/3.9/lib/python/site-packages (from requests) (3.3.2)\n",
            "\u001b[33mWARNING: You are using pip version 21.2.4; however, version 23.3.2 is available.\n",
            "You should consider upgrading via the '/Library/Developer/CommandLineTools/usr/bin/python3 -m pip install --upgrade pip' command.\u001b[0m\n",
            "Note: you may need to restart the kernel to use updated packages.\n"
          ]
        }
      ],
      "source": [
        "pip install --upgrade requests certifi"
      ]
    },
    {
      "cell_type": "code",
      "execution_count": null,
      "metadata": {
        "id": "4F341j2TbE3f",
        "outputId": "11b7200e-7448-42b7-fbca-aa5ee4ed2024"
      },
      "outputs": [
        {
          "name": "stdout",
          "output_type": "stream",
          "text": [
            "Defaulting to user installation because normal site-packages is not writeable\n",
            "Collecting git+https://github.com/openai/whisper.git\n",
            "  Cloning https://github.com/openai/whisper.git to /private/var/folders/rh/gn0gbrrn0rg6r7x003hh5mb00000gn/T/pip-req-build-w08u_lwa\n",
            "  Running command git clone -q https://github.com/openai/whisper.git /private/var/folders/rh/gn0gbrrn0rg6r7x003hh5mb00000gn/T/pip-req-build-w08u_lwa\n",
            "  Resolved https://github.com/openai/whisper.git to commit ba3f3cd54b0e5b8ce1ab3de13e32122d0d5f98ab\n",
            "\u001b[33m  WARNING: Value for prefixed-purelib does not match. Please report this to <https://github.com/pypa/pip/issues/10151>\n",
            "  distutils: /private/var/folders/rh/gn0gbrrn0rg6r7x003hh5mb00000gn/T/pip-build-env-838haz63/normal/lib/python3.9/site-packages\n",
            "  sysconfig: /Library/Python/3.9/site-packages\u001b[0m\n",
            "\u001b[33m  WARNING: Value for prefixed-platlib does not match. Please report this to <https://github.com/pypa/pip/issues/10151>\n",
            "  distutils: /private/var/folders/rh/gn0gbrrn0rg6r7x003hh5mb00000gn/T/pip-build-env-838haz63/normal/lib/python3.9/site-packages\n",
            "  sysconfig: /Library/Python/3.9/site-packages\u001b[0m\n",
            "\u001b[33m  WARNING: Additional context:\n",
            "  user = False\n",
            "  home = None\n",
            "  root = None\n",
            "  prefix = '/private/var/folders/rh/gn0gbrrn0rg6r7x003hh5mb00000gn/T/pip-build-env-838haz63/normal'\u001b[0m\n",
            "\u001b[33m  WARNING: Value for prefixed-purelib does not match. Please report this to <https://github.com/pypa/pip/issues/10151>\n",
            "  distutils: /private/var/folders/rh/gn0gbrrn0rg6r7x003hh5mb00000gn/T/pip-build-env-838haz63/overlay/lib/python3.9/site-packages\n",
            "  sysconfig: /Library/Python/3.9/site-packages\u001b[0m\n",
            "\u001b[33m  WARNING: Value for prefixed-platlib does not match. Please report this to <https://github.com/pypa/pip/issues/10151>\n",
            "  distutils: /private/var/folders/rh/gn0gbrrn0rg6r7x003hh5mb00000gn/T/pip-build-env-838haz63/overlay/lib/python3.9/site-packages\n",
            "  sysconfig: /Library/Python/3.9/site-packages\u001b[0m\n",
            "\u001b[33m  WARNING: Additional context:\n",
            "  user = False\n",
            "  home = None\n",
            "  root = None\n",
            "  prefix = '/private/var/folders/rh/gn0gbrrn0rg6r7x003hh5mb00000gn/T/pip-build-env-838haz63/overlay'\u001b[0m\n",
            "  Installing build dependencies ... \u001b[?25ldone\n",
            "\u001b[?25h  Getting requirements to build wheel ... \u001b[?25ldone\n",
            "\u001b[?25h    Preparing wheel metadata ... \u001b[?25ldone\n",
            "\u001b[?25hRequirement already satisfied: numpy in /Users/abnormalisdope/Library/Python/3.9/lib/python/site-packages (from openai-whisper==20231117) (1.26.3)\n",
            "Requirement already satisfied: torch in /Users/abnormalisdope/Library/Python/3.9/lib/python/site-packages (from openai-whisper==20231117) (2.1.2)\n",
            "Requirement already satisfied: tiktoken in /Users/abnormalisdope/Library/Python/3.9/lib/python/site-packages (from openai-whisper==20231117) (0.5.2)\n",
            "Requirement already satisfied: numba in /Users/abnormalisdope/Library/Python/3.9/lib/python/site-packages (from openai-whisper==20231117) (0.58.1)\n",
            "Requirement already satisfied: more-itertools in /Users/abnormalisdope/Library/Python/3.9/lib/python/site-packages (from openai-whisper==20231117) (10.2.0)\n",
            "Requirement already satisfied: tqdm in /Users/abnormalisdope/Library/Python/3.9/lib/python/site-packages (from openai-whisper==20231117) (4.66.1)\n",
            "Requirement already satisfied: llvmlite<0.42,>=0.41.0dev0 in /Users/abnormalisdope/Library/Python/3.9/lib/python/site-packages (from numba->openai-whisper==20231117) (0.41.1)\n",
            "Requirement already satisfied: requests>=2.26.0 in /Users/abnormalisdope/Library/Python/3.9/lib/python/site-packages (from tiktoken->openai-whisper==20231117) (2.31.0)\n",
            "Requirement already satisfied: regex>=2022.1.18 in /Users/abnormalisdope/Library/Python/3.9/lib/python/site-packages (from tiktoken->openai-whisper==20231117) (2023.12.25)\n",
            "Requirement already satisfied: charset-normalizer<4,>=2 in /Users/abnormalisdope/Library/Python/3.9/lib/python/site-packages (from requests>=2.26.0->tiktoken->openai-whisper==20231117) (3.3.2)\n",
            "Requirement already satisfied: certifi>=2017.4.17 in /Users/abnormalisdope/Library/Python/3.9/lib/python/site-packages (from requests>=2.26.0->tiktoken->openai-whisper==20231117) (2023.11.17)\n",
            "Requirement already satisfied: urllib3<3,>=1.21.1 in /Users/abnormalisdope/Library/Python/3.9/lib/python/site-packages (from requests>=2.26.0->tiktoken->openai-whisper==20231117) (2.1.0)\n",
            "Requirement already satisfied: idna<4,>=2.5 in /Users/abnormalisdope/Library/Python/3.9/lib/python/site-packages (from requests>=2.26.0->tiktoken->openai-whisper==20231117) (2.10)\n",
            "Requirement already satisfied: typing-extensions in /Users/abnormalisdope/Library/Python/3.9/lib/python/site-packages (from torch->openai-whisper==20231117) (4.9.0)\n",
            "Requirement already satisfied: networkx in /Users/abnormalisdope/Library/Python/3.9/lib/python/site-packages (from torch->openai-whisper==20231117) (3.2.1)\n",
            "Requirement already satisfied: jinja2 in /Users/abnormalisdope/Library/Python/3.9/lib/python/site-packages (from torch->openai-whisper==20231117) (3.1.3)\n",
            "Requirement already satisfied: fsspec in /Users/abnormalisdope/Library/Python/3.9/lib/python/site-packages (from torch->openai-whisper==20231117) (2023.12.2)\n",
            "Requirement already satisfied: filelock in /Users/abnormalisdope/Library/Python/3.9/lib/python/site-packages (from torch->openai-whisper==20231117) (3.13.1)\n",
            "Requirement already satisfied: sympy in /Users/abnormalisdope/Library/Python/3.9/lib/python/site-packages (from torch->openai-whisper==20231117) (1.12)\n",
            "Requirement already satisfied: MarkupSafe>=2.0 in /Users/abnormalisdope/Library/Python/3.9/lib/python/site-packages (from jinja2->torch->openai-whisper==20231117) (2.1.3)\n",
            "Requirement already satisfied: mpmath>=0.19 in /Users/abnormalisdope/Library/Python/3.9/lib/python/site-packages (from sympy->torch->openai-whisper==20231117) (1.3.0)\n",
            "\u001b[33mWARNING: You are using pip version 21.2.4; however, version 23.3.2 is available.\n",
            "You should consider upgrading via the '/Library/Developer/CommandLineTools/usr/bin/python3 -m pip install --upgrade pip' command.\u001b[0m\n",
            "Note: you may need to restart the kernel to use updated packages.\n"
          ]
        }
      ],
      "source": [
        "pip install git+https://github.com/openai/whisper.git"
      ]
    },
    {
      "cell_type": "code",
      "execution_count": null,
      "metadata": {
        "id": "_s_fYS01bE3e",
        "outputId": "65638a6d-124a-4ae2-8b77-5c8eaf2a5e1c"
      },
      "outputs": [
        {
          "name": "stderr",
          "output_type": "stream",
          "text": [
            "/Users/abnormalisdope/Library/Python/3.9/lib/python/site-packages/urllib3/__init__.py:34: NotOpenSSLWarning: urllib3 v2 only supports OpenSSL 1.1.1+, currently the 'ssl' module is compiled with 'LibreSSL 2.8.3'. See: https://github.com/urllib3/urllib3/issues/3020\n",
            "  warnings.warn(\n"
          ]
        }
      ],
      "source": [
        "## Import Libraries\n",
        "import re\n",
        "import os\n",
        "import subprocess\n",
        "import whisper\n",
        "from pytube import Playlist\n",
        "from langdetect import detect\n",
        "from googletrans import Translator\n",
        "from reportlab.lib.pagesizes import letter\n",
        "from reportlab.pdfgen import canvas\n",
        "import gc # Garbage collection.\n"
      ]
    },
    {
      "cell_type": "code",
      "execution_count": null,
      "metadata": {
        "id": "s2QIdrD7bE3e"
      },
      "outputs": [],
      "source": [
        "# File Path configurations\n",
        "video_path = '/Users/abnormalisdope/Desktop/Current Coding Projects/2024 Projects/Ableton_Tip_App/tip_videos'  # Where videos will be downloaded to.\n",
        "audio_path = '/Users/abnormalisdope/Desktop/Current Coding Projects/2024 Projects/Ableton_Tip_App/tip_audio'  # Where converted audio will be stored"
      ]
    },
    {
      "cell_type": "code",
      "execution_count": null,
      "metadata": {
        "id": "g84oYCumbE3f"
      },
      "outputs": [],
      "source": [
        "# Downloading Youtube Videos from Ableton's One Thing Playlist\n",
        "playlist = Playlist('https://www.youtube.com/playlist?list=PLoh4MB-kbBmJCGq34lLYsMQ12b3nqjOae')\n",
        "DOWNLOAD_DIR = video_path\n",
        "BATCH_SIZE = 10  # Number of videos to download at once\n",
        "\n",
        "total_videos = len(playlist.videos)\n",
        "for i in range(0, total_videos, BATCH_SIZE):\n",
        "    # Adjust the end index of the slice to ensure it doesn't go beyond the list\n",
        "    end_index = min(i + BATCH_SIZE, total_videos)\n",
        "    batch = playlist.videos[i:end_index]\n",
        "    for video in batch:\n",
        "        print(f'Downloading: {video.title}')\n",
        "        video.streams.filter(type='video', progressive=True, file_extension='mp4').order_by('resolution').desc().first().download(DOWNLOAD_DIR)\n",
        "\n",
        "    gc.collect()  # Invoke garbage collector\n"
      ]
    },
    {
      "cell_type": "code",
      "execution_count": null,
      "metadata": {
        "id": "oGodGL3ObE3f"
      },
      "outputs": [],
      "source": [
        "# Convert MP4 videos to MP3\n",
        "\n",
        "def convert_batch_to_mp3(video_path, audio_path, batch_size=10):\n",
        "    files = [f for f in os.listdir(video_path) if f.endswith(\".mp4\")]\n",
        "    for i in range(0, len(files), batch_size):\n",
        "        batch = files[i:i+batch_size]\n",
        "        for file in batch:\n",
        "            input_file = os.path.join(video_path, file)\n",
        "            output_file = os.path.join(audio_path, os.path.splitext(file)[0] + '.mp3')\n",
        "            subprocess.run(['ffmpeg', '-i', input_file, output_file])\n",
        "        gc.collect()  # Manual garbage collection\n",
        "\n",
        "\n",
        "convert_batch_to_mp3(video_path, audio_path, batch_size=10)"
      ]
    },
    {
      "cell_type": "code",
      "execution_count": null,
      "metadata": {
        "id": "E9NV5KiTbE3f",
        "outputId": "e09d54d2-472b-4aa6-beb8-25904b379540"
      },
      "outputs": [
        {
          "name": "stderr",
          "output_type": "stream",
          "text": [
            "/Users/abnormalisdope/Library/Python/3.9/lib/python/site-packages/whisper/transcribe.py:126: UserWarning: FP16 is not supported on CPU; using FP32 instead\n",
            "  warnings.warn(\"FP16 is not supported on CPU; using FP32 instead\")\n"
          ]
        },
        {
          "name": "stdout",
          "output_type": "stream",
          "text": [
            "Transcribed 1/94 files.\n"
          ]
        },
        {
          "name": "stderr",
          "output_type": "stream",
          "text": [
            "/Users/abnormalisdope/Library/Python/3.9/lib/python/site-packages/whisper/transcribe.py:126: UserWarning: FP16 is not supported on CPU; using FP32 instead\n",
            "  warnings.warn(\"FP16 is not supported on CPU; using FP32 instead\")\n"
          ]
        },
        {
          "name": "stdout",
          "output_type": "stream",
          "text": [
            "Transcribed 2/94 files.\n"
          ]
        },
        {
          "name": "stderr",
          "output_type": "stream",
          "text": [
            "/Users/abnormalisdope/Library/Python/3.9/lib/python/site-packages/whisper/transcribe.py:126: UserWarning: FP16 is not supported on CPU; using FP32 instead\n",
            "  warnings.warn(\"FP16 is not supported on CPU; using FP32 instead\")\n"
          ]
        },
        {
          "name": "stdout",
          "output_type": "stream",
          "text": [
            "Transcribed 3/94 files.\n"
          ]
        },
        {
          "name": "stderr",
          "output_type": "stream",
          "text": [
            "/Users/abnormalisdope/Library/Python/3.9/lib/python/site-packages/whisper/transcribe.py:126: UserWarning: FP16 is not supported on CPU; using FP32 instead\n",
            "  warnings.warn(\"FP16 is not supported on CPU; using FP32 instead\")\n"
          ]
        },
        {
          "name": "stdout",
          "output_type": "stream",
          "text": [
            "Transcribed 4/94 files.\n"
          ]
        },
        {
          "name": "stderr",
          "output_type": "stream",
          "text": [
            "/Users/abnormalisdope/Library/Python/3.9/lib/python/site-packages/whisper/transcribe.py:126: UserWarning: FP16 is not supported on CPU; using FP32 instead\n",
            "  warnings.warn(\"FP16 is not supported on CPU; using FP32 instead\")\n"
          ]
        },
        {
          "name": "stdout",
          "output_type": "stream",
          "text": [
            "Transcribed 5/94 files.\n"
          ]
        },
        {
          "name": "stderr",
          "output_type": "stream",
          "text": [
            "/Users/abnormalisdope/Library/Python/3.9/lib/python/site-packages/whisper/transcribe.py:126: UserWarning: FP16 is not supported on CPU; using FP32 instead\n",
            "  warnings.warn(\"FP16 is not supported on CPU; using FP32 instead\")\n"
          ]
        },
        {
          "name": "stdout",
          "output_type": "stream",
          "text": [
            "Transcribed 6/94 files.\n"
          ]
        },
        {
          "name": "stderr",
          "output_type": "stream",
          "text": [
            "/Users/abnormalisdope/Library/Python/3.9/lib/python/site-packages/whisper/transcribe.py:126: UserWarning: FP16 is not supported on CPU; using FP32 instead\n",
            "  warnings.warn(\"FP16 is not supported on CPU; using FP32 instead\")\n"
          ]
        },
        {
          "name": "stdout",
          "output_type": "stream",
          "text": [
            "Transcribed 7/94 files.\n"
          ]
        },
        {
          "name": "stderr",
          "output_type": "stream",
          "text": [
            "/Users/abnormalisdope/Library/Python/3.9/lib/python/site-packages/whisper/transcribe.py:126: UserWarning: FP16 is not supported on CPU; using FP32 instead\n",
            "  warnings.warn(\"FP16 is not supported on CPU; using FP32 instead\")\n"
          ]
        },
        {
          "name": "stdout",
          "output_type": "stream",
          "text": [
            "Transcribed 8/94 files.\n"
          ]
        },
        {
          "name": "stderr",
          "output_type": "stream",
          "text": [
            "/Users/abnormalisdope/Library/Python/3.9/lib/python/site-packages/whisper/transcribe.py:126: UserWarning: FP16 is not supported on CPU; using FP32 instead\n",
            "  warnings.warn(\"FP16 is not supported on CPU; using FP32 instead\")\n"
          ]
        },
        {
          "name": "stdout",
          "output_type": "stream",
          "text": [
            "Transcribed 9/94 files.\n"
          ]
        },
        {
          "name": "stderr",
          "output_type": "stream",
          "text": [
            "/Users/abnormalisdope/Library/Python/3.9/lib/python/site-packages/whisper/transcribe.py:126: UserWarning: FP16 is not supported on CPU; using FP32 instead\n",
            "  warnings.warn(\"FP16 is not supported on CPU; using FP32 instead\")\n"
          ]
        },
        {
          "name": "stdout",
          "output_type": "stream",
          "text": [
            "Transcribed 10/94 files.\n"
          ]
        },
        {
          "name": "stderr",
          "output_type": "stream",
          "text": [
            "/Users/abnormalisdope/Library/Python/3.9/lib/python/site-packages/whisper/transcribe.py:126: UserWarning: FP16 is not supported on CPU; using FP32 instead\n",
            "  warnings.warn(\"FP16 is not supported on CPU; using FP32 instead\")\n"
          ]
        },
        {
          "name": "stdout",
          "output_type": "stream",
          "text": [
            "Transcribed 11/94 files.\n"
          ]
        },
        {
          "name": "stderr",
          "output_type": "stream",
          "text": [
            "/Users/abnormalisdope/Library/Python/3.9/lib/python/site-packages/whisper/transcribe.py:126: UserWarning: FP16 is not supported on CPU; using FP32 instead\n",
            "  warnings.warn(\"FP16 is not supported on CPU; using FP32 instead\")\n"
          ]
        },
        {
          "name": "stdout",
          "output_type": "stream",
          "text": [
            "Transcribed 12/94 files.\n"
          ]
        },
        {
          "name": "stderr",
          "output_type": "stream",
          "text": [
            "/Users/abnormalisdope/Library/Python/3.9/lib/python/site-packages/whisper/transcribe.py:126: UserWarning: FP16 is not supported on CPU; using FP32 instead\n",
            "  warnings.warn(\"FP16 is not supported on CPU; using FP32 instead\")\n"
          ]
        },
        {
          "name": "stdout",
          "output_type": "stream",
          "text": [
            "Transcribed 13/94 files.\n"
          ]
        },
        {
          "name": "stderr",
          "output_type": "stream",
          "text": [
            "/Users/abnormalisdope/Library/Python/3.9/lib/python/site-packages/whisper/transcribe.py:126: UserWarning: FP16 is not supported on CPU; using FP32 instead\n",
            "  warnings.warn(\"FP16 is not supported on CPU; using FP32 instead\")\n"
          ]
        },
        {
          "name": "stdout",
          "output_type": "stream",
          "text": [
            "Transcribed 14/94 files.\n"
          ]
        },
        {
          "name": "stderr",
          "output_type": "stream",
          "text": [
            "/Users/abnormalisdope/Library/Python/3.9/lib/python/site-packages/whisper/transcribe.py:126: UserWarning: FP16 is not supported on CPU; using FP32 instead\n",
            "  warnings.warn(\"FP16 is not supported on CPU; using FP32 instead\")\n"
          ]
        },
        {
          "name": "stdout",
          "output_type": "stream",
          "text": [
            "Transcribed 15/94 files.\n"
          ]
        },
        {
          "name": "stderr",
          "output_type": "stream",
          "text": [
            "/Users/abnormalisdope/Library/Python/3.9/lib/python/site-packages/whisper/transcribe.py:126: UserWarning: FP16 is not supported on CPU; using FP32 instead\n",
            "  warnings.warn(\"FP16 is not supported on CPU; using FP32 instead\")\n"
          ]
        },
        {
          "name": "stdout",
          "output_type": "stream",
          "text": [
            "Transcribed 16/94 files.\n"
          ]
        },
        {
          "name": "stderr",
          "output_type": "stream",
          "text": [
            "/Users/abnormalisdope/Library/Python/3.9/lib/python/site-packages/whisper/transcribe.py:126: UserWarning: FP16 is not supported on CPU; using FP32 instead\n",
            "  warnings.warn(\"FP16 is not supported on CPU; using FP32 instead\")\n"
          ]
        },
        {
          "name": "stdout",
          "output_type": "stream",
          "text": [
            "Transcribed 17/94 files.\n"
          ]
        },
        {
          "name": "stderr",
          "output_type": "stream",
          "text": [
            "/Users/abnormalisdope/Library/Python/3.9/lib/python/site-packages/whisper/transcribe.py:126: UserWarning: FP16 is not supported on CPU; using FP32 instead\n",
            "  warnings.warn(\"FP16 is not supported on CPU; using FP32 instead\")\n"
          ]
        },
        {
          "name": "stdout",
          "output_type": "stream",
          "text": [
            "Transcribed 18/94 files.\n"
          ]
        },
        {
          "name": "stderr",
          "output_type": "stream",
          "text": [
            "/Users/abnormalisdope/Library/Python/3.9/lib/python/site-packages/whisper/transcribe.py:126: UserWarning: FP16 is not supported on CPU; using FP32 instead\n",
            "  warnings.warn(\"FP16 is not supported on CPU; using FP32 instead\")\n"
          ]
        },
        {
          "name": "stdout",
          "output_type": "stream",
          "text": [
            "Transcribed 19/94 files.\n"
          ]
        },
        {
          "name": "stderr",
          "output_type": "stream",
          "text": [
            "/Users/abnormalisdope/Library/Python/3.9/lib/python/site-packages/whisper/transcribe.py:126: UserWarning: FP16 is not supported on CPU; using FP32 instead\n",
            "  warnings.warn(\"FP16 is not supported on CPU; using FP32 instead\")\n"
          ]
        },
        {
          "name": "stdout",
          "output_type": "stream",
          "text": [
            "Transcribed 20/94 files.\n"
          ]
        },
        {
          "name": "stderr",
          "output_type": "stream",
          "text": [
            "/Users/abnormalisdope/Library/Python/3.9/lib/python/site-packages/whisper/transcribe.py:126: UserWarning: FP16 is not supported on CPU; using FP32 instead\n",
            "  warnings.warn(\"FP16 is not supported on CPU; using FP32 instead\")\n"
          ]
        },
        {
          "name": "stdout",
          "output_type": "stream",
          "text": [
            "Transcribed 21/94 files.\n"
          ]
        },
        {
          "name": "stderr",
          "output_type": "stream",
          "text": [
            "/Users/abnormalisdope/Library/Python/3.9/lib/python/site-packages/whisper/transcribe.py:126: UserWarning: FP16 is not supported on CPU; using FP32 instead\n",
            "  warnings.warn(\"FP16 is not supported on CPU; using FP32 instead\")\n"
          ]
        },
        {
          "name": "stdout",
          "output_type": "stream",
          "text": [
            "Transcribed 22/94 files.\n"
          ]
        },
        {
          "name": "stderr",
          "output_type": "stream",
          "text": [
            "/Users/abnormalisdope/Library/Python/3.9/lib/python/site-packages/whisper/transcribe.py:126: UserWarning: FP16 is not supported on CPU; using FP32 instead\n",
            "  warnings.warn(\"FP16 is not supported on CPU; using FP32 instead\")\n"
          ]
        },
        {
          "name": "stdout",
          "output_type": "stream",
          "text": [
            "Transcribed 23/94 files.\n"
          ]
        },
        {
          "name": "stderr",
          "output_type": "stream",
          "text": [
            "/Users/abnormalisdope/Library/Python/3.9/lib/python/site-packages/whisper/transcribe.py:126: UserWarning: FP16 is not supported on CPU; using FP32 instead\n",
            "  warnings.warn(\"FP16 is not supported on CPU; using FP32 instead\")\n"
          ]
        },
        {
          "name": "stdout",
          "output_type": "stream",
          "text": [
            "Transcribed 24/94 files.\n"
          ]
        },
        {
          "name": "stderr",
          "output_type": "stream",
          "text": [
            "/Users/abnormalisdope/Library/Python/3.9/lib/python/site-packages/whisper/transcribe.py:126: UserWarning: FP16 is not supported on CPU; using FP32 instead\n",
            "  warnings.warn(\"FP16 is not supported on CPU; using FP32 instead\")\n"
          ]
        },
        {
          "name": "stdout",
          "output_type": "stream",
          "text": [
            "Transcribed 25/94 files.\n"
          ]
        },
        {
          "name": "stderr",
          "output_type": "stream",
          "text": [
            "/Users/abnormalisdope/Library/Python/3.9/lib/python/site-packages/whisper/transcribe.py:126: UserWarning: FP16 is not supported on CPU; using FP32 instead\n",
            "  warnings.warn(\"FP16 is not supported on CPU; using FP32 instead\")\n"
          ]
        },
        {
          "name": "stdout",
          "output_type": "stream",
          "text": [
            "Transcribed 26/94 files.\n"
          ]
        },
        {
          "name": "stderr",
          "output_type": "stream",
          "text": [
            "/Users/abnormalisdope/Library/Python/3.9/lib/python/site-packages/whisper/transcribe.py:126: UserWarning: FP16 is not supported on CPU; using FP32 instead\n",
            "  warnings.warn(\"FP16 is not supported on CPU; using FP32 instead\")\n"
          ]
        },
        {
          "name": "stdout",
          "output_type": "stream",
          "text": [
            "Transcribed 27/94 files.\n"
          ]
        },
        {
          "name": "stderr",
          "output_type": "stream",
          "text": [
            "/Users/abnormalisdope/Library/Python/3.9/lib/python/site-packages/whisper/transcribe.py:126: UserWarning: FP16 is not supported on CPU; using FP32 instead\n",
            "  warnings.warn(\"FP16 is not supported on CPU; using FP32 instead\")\n"
          ]
        },
        {
          "name": "stdout",
          "output_type": "stream",
          "text": [
            "Transcribed 28/94 files.\n"
          ]
        },
        {
          "name": "stderr",
          "output_type": "stream",
          "text": [
            "/Users/abnormalisdope/Library/Python/3.9/lib/python/site-packages/whisper/transcribe.py:126: UserWarning: FP16 is not supported on CPU; using FP32 instead\n",
            "  warnings.warn(\"FP16 is not supported on CPU; using FP32 instead\")\n"
          ]
        },
        {
          "name": "stdout",
          "output_type": "stream",
          "text": [
            "Transcribed 29/94 files.\n"
          ]
        },
        {
          "name": "stderr",
          "output_type": "stream",
          "text": [
            "/Users/abnormalisdope/Library/Python/3.9/lib/python/site-packages/whisper/transcribe.py:126: UserWarning: FP16 is not supported on CPU; using FP32 instead\n",
            "  warnings.warn(\"FP16 is not supported on CPU; using FP32 instead\")\n"
          ]
        },
        {
          "name": "stdout",
          "output_type": "stream",
          "text": [
            "Transcribed 30/94 files.\n"
          ]
        },
        {
          "name": "stderr",
          "output_type": "stream",
          "text": [
            "/Users/abnormalisdope/Library/Python/3.9/lib/python/site-packages/whisper/transcribe.py:126: UserWarning: FP16 is not supported on CPU; using FP32 instead\n",
            "  warnings.warn(\"FP16 is not supported on CPU; using FP32 instead\")\n"
          ]
        },
        {
          "name": "stdout",
          "output_type": "stream",
          "text": [
            "Transcribed 31/94 files.\n"
          ]
        },
        {
          "name": "stderr",
          "output_type": "stream",
          "text": [
            "/Users/abnormalisdope/Library/Python/3.9/lib/python/site-packages/whisper/transcribe.py:126: UserWarning: FP16 is not supported on CPU; using FP32 instead\n",
            "  warnings.warn(\"FP16 is not supported on CPU; using FP32 instead\")\n"
          ]
        },
        {
          "name": "stdout",
          "output_type": "stream",
          "text": [
            "Transcribed 32/94 files.\n"
          ]
        },
        {
          "name": "stderr",
          "output_type": "stream",
          "text": [
            "/Users/abnormalisdope/Library/Python/3.9/lib/python/site-packages/whisper/transcribe.py:126: UserWarning: FP16 is not supported on CPU; using FP32 instead\n",
            "  warnings.warn(\"FP16 is not supported on CPU; using FP32 instead\")\n"
          ]
        },
        {
          "name": "stdout",
          "output_type": "stream",
          "text": [
            "Transcribed 33/94 files.\n"
          ]
        },
        {
          "name": "stderr",
          "output_type": "stream",
          "text": [
            "/Users/abnormalisdope/Library/Python/3.9/lib/python/site-packages/whisper/transcribe.py:126: UserWarning: FP16 is not supported on CPU; using FP32 instead\n",
            "  warnings.warn(\"FP16 is not supported on CPU; using FP32 instead\")\n"
          ]
        },
        {
          "name": "stdout",
          "output_type": "stream",
          "text": [
            "Transcribed 34/94 files.\n"
          ]
        },
        {
          "name": "stderr",
          "output_type": "stream",
          "text": [
            "/Users/abnormalisdope/Library/Python/3.9/lib/python/site-packages/whisper/transcribe.py:126: UserWarning: FP16 is not supported on CPU; using FP32 instead\n",
            "  warnings.warn(\"FP16 is not supported on CPU; using FP32 instead\")\n"
          ]
        },
        {
          "name": "stdout",
          "output_type": "stream",
          "text": [
            "Transcribed 35/94 files.\n"
          ]
        },
        {
          "name": "stderr",
          "output_type": "stream",
          "text": [
            "/Users/abnormalisdope/Library/Python/3.9/lib/python/site-packages/whisper/transcribe.py:126: UserWarning: FP16 is not supported on CPU; using FP32 instead\n",
            "  warnings.warn(\"FP16 is not supported on CPU; using FP32 instead\")\n"
          ]
        },
        {
          "name": "stdout",
          "output_type": "stream",
          "text": [
            "Transcribed 36/94 files.\n"
          ]
        },
        {
          "name": "stderr",
          "output_type": "stream",
          "text": [
            "/Users/abnormalisdope/Library/Python/3.9/lib/python/site-packages/whisper/transcribe.py:126: UserWarning: FP16 is not supported on CPU; using FP32 instead\n",
            "  warnings.warn(\"FP16 is not supported on CPU; using FP32 instead\")\n"
          ]
        },
        {
          "name": "stdout",
          "output_type": "stream",
          "text": [
            "Transcribed 37/94 files.\n"
          ]
        },
        {
          "name": "stderr",
          "output_type": "stream",
          "text": [
            "/Users/abnormalisdope/Library/Python/3.9/lib/python/site-packages/whisper/transcribe.py:126: UserWarning: FP16 is not supported on CPU; using FP32 instead\n",
            "  warnings.warn(\"FP16 is not supported on CPU; using FP32 instead\")\n"
          ]
        },
        {
          "name": "stdout",
          "output_type": "stream",
          "text": [
            "Transcribed 38/94 files.\n"
          ]
        },
        {
          "name": "stderr",
          "output_type": "stream",
          "text": [
            "/Users/abnormalisdope/Library/Python/3.9/lib/python/site-packages/whisper/transcribe.py:126: UserWarning: FP16 is not supported on CPU; using FP32 instead\n",
            "  warnings.warn(\"FP16 is not supported on CPU; using FP32 instead\")\n"
          ]
        },
        {
          "name": "stdout",
          "output_type": "stream",
          "text": [
            "Transcribed 39/94 files.\n"
          ]
        },
        {
          "name": "stderr",
          "output_type": "stream",
          "text": [
            "/Users/abnormalisdope/Library/Python/3.9/lib/python/site-packages/whisper/transcribe.py:126: UserWarning: FP16 is not supported on CPU; using FP32 instead\n",
            "  warnings.warn(\"FP16 is not supported on CPU; using FP32 instead\")\n"
          ]
        },
        {
          "name": "stdout",
          "output_type": "stream",
          "text": [
            "Transcribed 40/94 files.\n"
          ]
        },
        {
          "name": "stderr",
          "output_type": "stream",
          "text": [
            "/Users/abnormalisdope/Library/Python/3.9/lib/python/site-packages/whisper/transcribe.py:126: UserWarning: FP16 is not supported on CPU; using FP32 instead\n",
            "  warnings.warn(\"FP16 is not supported on CPU; using FP32 instead\")\n"
          ]
        },
        {
          "name": "stdout",
          "output_type": "stream",
          "text": [
            "Transcribed 41/94 files.\n"
          ]
        },
        {
          "name": "stderr",
          "output_type": "stream",
          "text": [
            "/Users/abnormalisdope/Library/Python/3.9/lib/python/site-packages/whisper/transcribe.py:126: UserWarning: FP16 is not supported on CPU; using FP32 instead\n",
            "  warnings.warn(\"FP16 is not supported on CPU; using FP32 instead\")\n"
          ]
        },
        {
          "name": "stdout",
          "output_type": "stream",
          "text": [
            "Transcribed 42/94 files.\n"
          ]
        },
        {
          "name": "stderr",
          "output_type": "stream",
          "text": [
            "/Users/abnormalisdope/Library/Python/3.9/lib/python/site-packages/whisper/transcribe.py:126: UserWarning: FP16 is not supported on CPU; using FP32 instead\n",
            "  warnings.warn(\"FP16 is not supported on CPU; using FP32 instead\")\n"
          ]
        },
        {
          "name": "stdout",
          "output_type": "stream",
          "text": [
            "Transcribed 43/94 files.\n"
          ]
        },
        {
          "name": "stderr",
          "output_type": "stream",
          "text": [
            "/Users/abnormalisdope/Library/Python/3.9/lib/python/site-packages/whisper/transcribe.py:126: UserWarning: FP16 is not supported on CPU; using FP32 instead\n",
            "  warnings.warn(\"FP16 is not supported on CPU; using FP32 instead\")\n"
          ]
        },
        {
          "name": "stdout",
          "output_type": "stream",
          "text": [
            "Transcribed 44/94 files.\n"
          ]
        },
        {
          "name": "stderr",
          "output_type": "stream",
          "text": [
            "/Users/abnormalisdope/Library/Python/3.9/lib/python/site-packages/whisper/transcribe.py:126: UserWarning: FP16 is not supported on CPU; using FP32 instead\n",
            "  warnings.warn(\"FP16 is not supported on CPU; using FP32 instead\")\n"
          ]
        },
        {
          "name": "stdout",
          "output_type": "stream",
          "text": [
            "Transcribed 45/94 files.\n"
          ]
        },
        {
          "name": "stderr",
          "output_type": "stream",
          "text": [
            "/Users/abnormalisdope/Library/Python/3.9/lib/python/site-packages/whisper/transcribe.py:126: UserWarning: FP16 is not supported on CPU; using FP32 instead\n",
            "  warnings.warn(\"FP16 is not supported on CPU; using FP32 instead\")\n"
          ]
        },
        {
          "name": "stdout",
          "output_type": "stream",
          "text": [
            "Transcribed 46/94 files.\n"
          ]
        },
        {
          "name": "stderr",
          "output_type": "stream",
          "text": [
            "/Users/abnormalisdope/Library/Python/3.9/lib/python/site-packages/whisper/transcribe.py:126: UserWarning: FP16 is not supported on CPU; using FP32 instead\n",
            "  warnings.warn(\"FP16 is not supported on CPU; using FP32 instead\")\n"
          ]
        },
        {
          "name": "stdout",
          "output_type": "stream",
          "text": [
            "Transcribed 47/94 files.\n"
          ]
        },
        {
          "name": "stderr",
          "output_type": "stream",
          "text": [
            "/Users/abnormalisdope/Library/Python/3.9/lib/python/site-packages/whisper/transcribe.py:126: UserWarning: FP16 is not supported on CPU; using FP32 instead\n",
            "  warnings.warn(\"FP16 is not supported on CPU; using FP32 instead\")\n"
          ]
        },
        {
          "name": "stdout",
          "output_type": "stream",
          "text": [
            "Transcribed 48/94 files.\n"
          ]
        },
        {
          "name": "stderr",
          "output_type": "stream",
          "text": [
            "/Users/abnormalisdope/Library/Python/3.9/lib/python/site-packages/whisper/transcribe.py:126: UserWarning: FP16 is not supported on CPU; using FP32 instead\n",
            "  warnings.warn(\"FP16 is not supported on CPU; using FP32 instead\")\n"
          ]
        },
        {
          "name": "stdout",
          "output_type": "stream",
          "text": [
            "Transcribed 49/94 files.\n"
          ]
        },
        {
          "name": "stderr",
          "output_type": "stream",
          "text": [
            "/Users/abnormalisdope/Library/Python/3.9/lib/python/site-packages/whisper/transcribe.py:126: UserWarning: FP16 is not supported on CPU; using FP32 instead\n",
            "  warnings.warn(\"FP16 is not supported on CPU; using FP32 instead\")\n"
          ]
        },
        {
          "name": "stdout",
          "output_type": "stream",
          "text": [
            "Transcribed 50/94 files.\n"
          ]
        },
        {
          "name": "stderr",
          "output_type": "stream",
          "text": [
            "/Users/abnormalisdope/Library/Python/3.9/lib/python/site-packages/whisper/transcribe.py:126: UserWarning: FP16 is not supported on CPU; using FP32 instead\n",
            "  warnings.warn(\"FP16 is not supported on CPU; using FP32 instead\")\n"
          ]
        },
        {
          "name": "stdout",
          "output_type": "stream",
          "text": [
            "Transcribed 51/94 files.\n"
          ]
        },
        {
          "name": "stderr",
          "output_type": "stream",
          "text": [
            "/Users/abnormalisdope/Library/Python/3.9/lib/python/site-packages/whisper/transcribe.py:126: UserWarning: FP16 is not supported on CPU; using FP32 instead\n",
            "  warnings.warn(\"FP16 is not supported on CPU; using FP32 instead\")\n"
          ]
        },
        {
          "name": "stdout",
          "output_type": "stream",
          "text": [
            "Transcribed 52/94 files.\n"
          ]
        },
        {
          "name": "stderr",
          "output_type": "stream",
          "text": [
            "/Users/abnormalisdope/Library/Python/3.9/lib/python/site-packages/whisper/transcribe.py:126: UserWarning: FP16 is not supported on CPU; using FP32 instead\n",
            "  warnings.warn(\"FP16 is not supported on CPU; using FP32 instead\")\n"
          ]
        },
        {
          "name": "stdout",
          "output_type": "stream",
          "text": [
            "Transcribed 53/94 files.\n"
          ]
        },
        {
          "name": "stderr",
          "output_type": "stream",
          "text": [
            "/Users/abnormalisdope/Library/Python/3.9/lib/python/site-packages/whisper/transcribe.py:126: UserWarning: FP16 is not supported on CPU; using FP32 instead\n",
            "  warnings.warn(\"FP16 is not supported on CPU; using FP32 instead\")\n"
          ]
        },
        {
          "name": "stdout",
          "output_type": "stream",
          "text": [
            "Transcribed 54/94 files.\n"
          ]
        },
        {
          "name": "stderr",
          "output_type": "stream",
          "text": [
            "/Users/abnormalisdope/Library/Python/3.9/lib/python/site-packages/whisper/transcribe.py:126: UserWarning: FP16 is not supported on CPU; using FP32 instead\n",
            "  warnings.warn(\"FP16 is not supported on CPU; using FP32 instead\")\n"
          ]
        },
        {
          "name": "stdout",
          "output_type": "stream",
          "text": [
            "Transcribed 55/94 files.\n"
          ]
        },
        {
          "name": "stderr",
          "output_type": "stream",
          "text": [
            "/Users/abnormalisdope/Library/Python/3.9/lib/python/site-packages/whisper/transcribe.py:126: UserWarning: FP16 is not supported on CPU; using FP32 instead\n",
            "  warnings.warn(\"FP16 is not supported on CPU; using FP32 instead\")\n"
          ]
        },
        {
          "name": "stdout",
          "output_type": "stream",
          "text": [
            "Transcribed 56/94 files.\n"
          ]
        },
        {
          "name": "stderr",
          "output_type": "stream",
          "text": [
            "/Users/abnormalisdope/Library/Python/3.9/lib/python/site-packages/whisper/transcribe.py:126: UserWarning: FP16 is not supported on CPU; using FP32 instead\n",
            "  warnings.warn(\"FP16 is not supported on CPU; using FP32 instead\")\n"
          ]
        },
        {
          "name": "stdout",
          "output_type": "stream",
          "text": [
            "Transcribed 57/94 files.\n"
          ]
        },
        {
          "name": "stderr",
          "output_type": "stream",
          "text": [
            "/Users/abnormalisdope/Library/Python/3.9/lib/python/site-packages/whisper/transcribe.py:126: UserWarning: FP16 is not supported on CPU; using FP32 instead\n",
            "  warnings.warn(\"FP16 is not supported on CPU; using FP32 instead\")\n"
          ]
        },
        {
          "name": "stdout",
          "output_type": "stream",
          "text": [
            "Transcribed 58/94 files.\n"
          ]
        },
        {
          "name": "stderr",
          "output_type": "stream",
          "text": [
            "/Users/abnormalisdope/Library/Python/3.9/lib/python/site-packages/whisper/transcribe.py:126: UserWarning: FP16 is not supported on CPU; using FP32 instead\n",
            "  warnings.warn(\"FP16 is not supported on CPU; using FP32 instead\")\n"
          ]
        },
        {
          "name": "stdout",
          "output_type": "stream",
          "text": [
            "Transcribed 59/94 files.\n"
          ]
        },
        {
          "name": "stderr",
          "output_type": "stream",
          "text": [
            "/Users/abnormalisdope/Library/Python/3.9/lib/python/site-packages/whisper/transcribe.py:126: UserWarning: FP16 is not supported on CPU; using FP32 instead\n",
            "  warnings.warn(\"FP16 is not supported on CPU; using FP32 instead\")\n"
          ]
        },
        {
          "name": "stdout",
          "output_type": "stream",
          "text": [
            "Transcribed 60/94 files.\n"
          ]
        },
        {
          "name": "stderr",
          "output_type": "stream",
          "text": [
            "/Users/abnormalisdope/Library/Python/3.9/lib/python/site-packages/whisper/transcribe.py:126: UserWarning: FP16 is not supported on CPU; using FP32 instead\n",
            "  warnings.warn(\"FP16 is not supported on CPU; using FP32 instead\")\n"
          ]
        },
        {
          "name": "stdout",
          "output_type": "stream",
          "text": [
            "Transcribed 61/94 files.\n"
          ]
        },
        {
          "name": "stderr",
          "output_type": "stream",
          "text": [
            "/Users/abnormalisdope/Library/Python/3.9/lib/python/site-packages/whisper/transcribe.py:126: UserWarning: FP16 is not supported on CPU; using FP32 instead\n",
            "  warnings.warn(\"FP16 is not supported on CPU; using FP32 instead\")\n"
          ]
        },
        {
          "name": "stdout",
          "output_type": "stream",
          "text": [
            "Transcribed 62/94 files.\n"
          ]
        },
        {
          "name": "stderr",
          "output_type": "stream",
          "text": [
            "/Users/abnormalisdope/Library/Python/3.9/lib/python/site-packages/whisper/transcribe.py:126: UserWarning: FP16 is not supported on CPU; using FP32 instead\n",
            "  warnings.warn(\"FP16 is not supported on CPU; using FP32 instead\")\n"
          ]
        },
        {
          "name": "stdout",
          "output_type": "stream",
          "text": [
            "Transcribed 63/94 files.\n"
          ]
        },
        {
          "name": "stderr",
          "output_type": "stream",
          "text": [
            "/Users/abnormalisdope/Library/Python/3.9/lib/python/site-packages/whisper/transcribe.py:126: UserWarning: FP16 is not supported on CPU; using FP32 instead\n",
            "  warnings.warn(\"FP16 is not supported on CPU; using FP32 instead\")\n"
          ]
        },
        {
          "name": "stdout",
          "output_type": "stream",
          "text": [
            "Transcribed 64/94 files.\n"
          ]
        },
        {
          "name": "stderr",
          "output_type": "stream",
          "text": [
            "/Users/abnormalisdope/Library/Python/3.9/lib/python/site-packages/whisper/transcribe.py:126: UserWarning: FP16 is not supported on CPU; using FP32 instead\n",
            "  warnings.warn(\"FP16 is not supported on CPU; using FP32 instead\")\n"
          ]
        },
        {
          "name": "stdout",
          "output_type": "stream",
          "text": [
            "Transcribed 65/94 files.\n"
          ]
        },
        {
          "name": "stderr",
          "output_type": "stream",
          "text": [
            "/Users/abnormalisdope/Library/Python/3.9/lib/python/site-packages/whisper/transcribe.py:126: UserWarning: FP16 is not supported on CPU; using FP32 instead\n",
            "  warnings.warn(\"FP16 is not supported on CPU; using FP32 instead\")\n"
          ]
        },
        {
          "name": "stdout",
          "output_type": "stream",
          "text": [
            "Transcribed 66/94 files.\n"
          ]
        },
        {
          "name": "stderr",
          "output_type": "stream",
          "text": [
            "/Users/abnormalisdope/Library/Python/3.9/lib/python/site-packages/whisper/transcribe.py:126: UserWarning: FP16 is not supported on CPU; using FP32 instead\n",
            "  warnings.warn(\"FP16 is not supported on CPU; using FP32 instead\")\n"
          ]
        },
        {
          "name": "stdout",
          "output_type": "stream",
          "text": [
            "Transcribed 67/94 files.\n"
          ]
        },
        {
          "name": "stderr",
          "output_type": "stream",
          "text": [
            "/Users/abnormalisdope/Library/Python/3.9/lib/python/site-packages/whisper/transcribe.py:126: UserWarning: FP16 is not supported on CPU; using FP32 instead\n",
            "  warnings.warn(\"FP16 is not supported on CPU; using FP32 instead\")\n"
          ]
        },
        {
          "name": "stdout",
          "output_type": "stream",
          "text": [
            "Transcribed 68/94 files.\n"
          ]
        },
        {
          "name": "stderr",
          "output_type": "stream",
          "text": [
            "/Users/abnormalisdope/Library/Python/3.9/lib/python/site-packages/whisper/transcribe.py:126: UserWarning: FP16 is not supported on CPU; using FP32 instead\n",
            "  warnings.warn(\"FP16 is not supported on CPU; using FP32 instead\")\n"
          ]
        },
        {
          "name": "stdout",
          "output_type": "stream",
          "text": [
            "Transcribed 69/94 files.\n"
          ]
        },
        {
          "name": "stderr",
          "output_type": "stream",
          "text": [
            "/Users/abnormalisdope/Library/Python/3.9/lib/python/site-packages/whisper/transcribe.py:126: UserWarning: FP16 is not supported on CPU; using FP32 instead\n",
            "  warnings.warn(\"FP16 is not supported on CPU; using FP32 instead\")\n"
          ]
        },
        {
          "name": "stdout",
          "output_type": "stream",
          "text": [
            "Transcribed 70/94 files.\n"
          ]
        },
        {
          "name": "stderr",
          "output_type": "stream",
          "text": [
            "/Users/abnormalisdope/Library/Python/3.9/lib/python/site-packages/whisper/transcribe.py:126: UserWarning: FP16 is not supported on CPU; using FP32 instead\n",
            "  warnings.warn(\"FP16 is not supported on CPU; using FP32 instead\")\n"
          ]
        },
        {
          "name": "stdout",
          "output_type": "stream",
          "text": [
            "Transcribed 71/94 files.\n"
          ]
        },
        {
          "name": "stderr",
          "output_type": "stream",
          "text": [
            "/Users/abnormalisdope/Library/Python/3.9/lib/python/site-packages/whisper/transcribe.py:126: UserWarning: FP16 is not supported on CPU; using FP32 instead\n",
            "  warnings.warn(\"FP16 is not supported on CPU; using FP32 instead\")\n"
          ]
        },
        {
          "name": "stdout",
          "output_type": "stream",
          "text": [
            "Transcribed 72/94 files.\n"
          ]
        },
        {
          "name": "stderr",
          "output_type": "stream",
          "text": [
            "/Users/abnormalisdope/Library/Python/3.9/lib/python/site-packages/whisper/transcribe.py:126: UserWarning: FP16 is not supported on CPU; using FP32 instead\n",
            "  warnings.warn(\"FP16 is not supported on CPU; using FP32 instead\")\n"
          ]
        },
        {
          "name": "stdout",
          "output_type": "stream",
          "text": [
            "Transcribed 73/94 files.\n"
          ]
        },
        {
          "name": "stderr",
          "output_type": "stream",
          "text": [
            "/Users/abnormalisdope/Library/Python/3.9/lib/python/site-packages/whisper/transcribe.py:126: UserWarning: FP16 is not supported on CPU; using FP32 instead\n",
            "  warnings.warn(\"FP16 is not supported on CPU; using FP32 instead\")\n"
          ]
        },
        {
          "name": "stdout",
          "output_type": "stream",
          "text": [
            "Transcribed 74/94 files.\n"
          ]
        },
        {
          "name": "stderr",
          "output_type": "stream",
          "text": [
            "/Users/abnormalisdope/Library/Python/3.9/lib/python/site-packages/whisper/transcribe.py:126: UserWarning: FP16 is not supported on CPU; using FP32 instead\n",
            "  warnings.warn(\"FP16 is not supported on CPU; using FP32 instead\")\n"
          ]
        },
        {
          "name": "stdout",
          "output_type": "stream",
          "text": [
            "Transcribed 75/94 files.\n"
          ]
        },
        {
          "name": "stderr",
          "output_type": "stream",
          "text": [
            "/Users/abnormalisdope/Library/Python/3.9/lib/python/site-packages/whisper/transcribe.py:126: UserWarning: FP16 is not supported on CPU; using FP32 instead\n",
            "  warnings.warn(\"FP16 is not supported on CPU; using FP32 instead\")\n"
          ]
        },
        {
          "name": "stdout",
          "output_type": "stream",
          "text": [
            "Transcribed 76/94 files.\n"
          ]
        },
        {
          "name": "stderr",
          "output_type": "stream",
          "text": [
            "/Users/abnormalisdope/Library/Python/3.9/lib/python/site-packages/whisper/transcribe.py:126: UserWarning: FP16 is not supported on CPU; using FP32 instead\n",
            "  warnings.warn(\"FP16 is not supported on CPU; using FP32 instead\")\n"
          ]
        },
        {
          "name": "stdout",
          "output_type": "stream",
          "text": [
            "Transcribed 77/94 files.\n"
          ]
        },
        {
          "name": "stderr",
          "output_type": "stream",
          "text": [
            "/Users/abnormalisdope/Library/Python/3.9/lib/python/site-packages/whisper/transcribe.py:126: UserWarning: FP16 is not supported on CPU; using FP32 instead\n",
            "  warnings.warn(\"FP16 is not supported on CPU; using FP32 instead\")\n"
          ]
        },
        {
          "name": "stdout",
          "output_type": "stream",
          "text": [
            "Transcribed 78/94 files.\n"
          ]
        },
        {
          "name": "stderr",
          "output_type": "stream",
          "text": [
            "/Users/abnormalisdope/Library/Python/3.9/lib/python/site-packages/whisper/transcribe.py:126: UserWarning: FP16 is not supported on CPU; using FP32 instead\n",
            "  warnings.warn(\"FP16 is not supported on CPU; using FP32 instead\")\n"
          ]
        },
        {
          "name": "stdout",
          "output_type": "stream",
          "text": [
            "Transcribed 79/94 files.\n"
          ]
        },
        {
          "name": "stderr",
          "output_type": "stream",
          "text": [
            "/Users/abnormalisdope/Library/Python/3.9/lib/python/site-packages/whisper/transcribe.py:126: UserWarning: FP16 is not supported on CPU; using FP32 instead\n",
            "  warnings.warn(\"FP16 is not supported on CPU; using FP32 instead\")\n"
          ]
        },
        {
          "name": "stdout",
          "output_type": "stream",
          "text": [
            "Transcribed 80/94 files.\n"
          ]
        },
        {
          "name": "stderr",
          "output_type": "stream",
          "text": [
            "/Users/abnormalisdope/Library/Python/3.9/lib/python/site-packages/whisper/transcribe.py:126: UserWarning: FP16 is not supported on CPU; using FP32 instead\n",
            "  warnings.warn(\"FP16 is not supported on CPU; using FP32 instead\")\n"
          ]
        },
        {
          "name": "stdout",
          "output_type": "stream",
          "text": [
            "Transcribed 81/94 files.\n"
          ]
        },
        {
          "name": "stderr",
          "output_type": "stream",
          "text": [
            "/Users/abnormalisdope/Library/Python/3.9/lib/python/site-packages/whisper/transcribe.py:126: UserWarning: FP16 is not supported on CPU; using FP32 instead\n",
            "  warnings.warn(\"FP16 is not supported on CPU; using FP32 instead\")\n"
          ]
        },
        {
          "name": "stdout",
          "output_type": "stream",
          "text": [
            "Transcribed 82/94 files.\n"
          ]
        },
        {
          "name": "stderr",
          "output_type": "stream",
          "text": [
            "/Users/abnormalisdope/Library/Python/3.9/lib/python/site-packages/whisper/transcribe.py:126: UserWarning: FP16 is not supported on CPU; using FP32 instead\n",
            "  warnings.warn(\"FP16 is not supported on CPU; using FP32 instead\")\n"
          ]
        },
        {
          "name": "stdout",
          "output_type": "stream",
          "text": [
            "Transcribed 83/94 files.\n"
          ]
        },
        {
          "name": "stderr",
          "output_type": "stream",
          "text": [
            "/Users/abnormalisdope/Library/Python/3.9/lib/python/site-packages/whisper/transcribe.py:126: UserWarning: FP16 is not supported on CPU; using FP32 instead\n",
            "  warnings.warn(\"FP16 is not supported on CPU; using FP32 instead\")\n"
          ]
        },
        {
          "name": "stdout",
          "output_type": "stream",
          "text": [
            "Transcribed 84/94 files.\n"
          ]
        },
        {
          "name": "stderr",
          "output_type": "stream",
          "text": [
            "/Users/abnormalisdope/Library/Python/3.9/lib/python/site-packages/whisper/transcribe.py:126: UserWarning: FP16 is not supported on CPU; using FP32 instead\n",
            "  warnings.warn(\"FP16 is not supported on CPU; using FP32 instead\")\n"
          ]
        },
        {
          "name": "stdout",
          "output_type": "stream",
          "text": [
            "Transcribed 85/94 files.\n"
          ]
        },
        {
          "name": "stderr",
          "output_type": "stream",
          "text": [
            "/Users/abnormalisdope/Library/Python/3.9/lib/python/site-packages/whisper/transcribe.py:126: UserWarning: FP16 is not supported on CPU; using FP32 instead\n",
            "  warnings.warn(\"FP16 is not supported on CPU; using FP32 instead\")\n"
          ]
        },
        {
          "name": "stdout",
          "output_type": "stream",
          "text": [
            "Transcribed 86/94 files.\n"
          ]
        },
        {
          "name": "stderr",
          "output_type": "stream",
          "text": [
            "/Users/abnormalisdope/Library/Python/3.9/lib/python/site-packages/whisper/transcribe.py:126: UserWarning: FP16 is not supported on CPU; using FP32 instead\n",
            "  warnings.warn(\"FP16 is not supported on CPU; using FP32 instead\")\n"
          ]
        },
        {
          "name": "stdout",
          "output_type": "stream",
          "text": [
            "Transcribed 87/94 files.\n"
          ]
        },
        {
          "name": "stderr",
          "output_type": "stream",
          "text": [
            "/Users/abnormalisdope/Library/Python/3.9/lib/python/site-packages/whisper/transcribe.py:126: UserWarning: FP16 is not supported on CPU; using FP32 instead\n",
            "  warnings.warn(\"FP16 is not supported on CPU; using FP32 instead\")\n"
          ]
        },
        {
          "name": "stdout",
          "output_type": "stream",
          "text": [
            "Transcribed 88/94 files.\n"
          ]
        },
        {
          "name": "stderr",
          "output_type": "stream",
          "text": [
            "/Users/abnormalisdope/Library/Python/3.9/lib/python/site-packages/whisper/transcribe.py:126: UserWarning: FP16 is not supported on CPU; using FP32 instead\n",
            "  warnings.warn(\"FP16 is not supported on CPU; using FP32 instead\")\n"
          ]
        },
        {
          "name": "stdout",
          "output_type": "stream",
          "text": [
            "Transcribed 89/94 files.\n"
          ]
        },
        {
          "name": "stderr",
          "output_type": "stream",
          "text": [
            "/Users/abnormalisdope/Library/Python/3.9/lib/python/site-packages/whisper/transcribe.py:126: UserWarning: FP16 is not supported on CPU; using FP32 instead\n",
            "  warnings.warn(\"FP16 is not supported on CPU; using FP32 instead\")\n"
          ]
        },
        {
          "name": "stdout",
          "output_type": "stream",
          "text": [
            "Transcribed 90/94 files.\n"
          ]
        },
        {
          "name": "stderr",
          "output_type": "stream",
          "text": [
            "/Users/abnormalisdope/Library/Python/3.9/lib/python/site-packages/whisper/transcribe.py:126: UserWarning: FP16 is not supported on CPU; using FP32 instead\n",
            "  warnings.warn(\"FP16 is not supported on CPU; using FP32 instead\")\n"
          ]
        },
        {
          "name": "stdout",
          "output_type": "stream",
          "text": [
            "Transcribed 91/94 files.\n"
          ]
        },
        {
          "name": "stderr",
          "output_type": "stream",
          "text": [
            "/Users/abnormalisdope/Library/Python/3.9/lib/python/site-packages/whisper/transcribe.py:126: UserWarning: FP16 is not supported on CPU; using FP32 instead\n",
            "  warnings.warn(\"FP16 is not supported on CPU; using FP32 instead\")\n"
          ]
        },
        {
          "name": "stdout",
          "output_type": "stream",
          "text": [
            "Transcribed 92/94 files.\n"
          ]
        },
        {
          "name": "stderr",
          "output_type": "stream",
          "text": [
            "/Users/abnormalisdope/Library/Python/3.9/lib/python/site-packages/whisper/transcribe.py:126: UserWarning: FP16 is not supported on CPU; using FP32 instead\n",
            "  warnings.warn(\"FP16 is not supported on CPU; using FP32 instead\")\n"
          ]
        },
        {
          "name": "stdout",
          "output_type": "stream",
          "text": [
            "Transcribed 93/94 files.\n"
          ]
        },
        {
          "name": "stderr",
          "output_type": "stream",
          "text": [
            "/Users/abnormalisdope/Library/Python/3.9/lib/python/site-packages/whisper/transcribe.py:126: UserWarning: FP16 is not supported on CPU; using FP32 instead\n",
            "  warnings.warn(\"FP16 is not supported on CPU; using FP32 instead\")\n"
          ]
        },
        {
          "name": "stdout",
          "output_type": "stream",
          "text": [
            "Transcribed 94/94 files.\n"
          ]
        }
      ],
      "source": [
        "# Transcribe MP3s to text\n",
        "\n",
        "def transcribe_audio_with_whisper(audio_folder):\n",
        "    model = whisper.load_model(\"large\")\n",
        "    transcriptions = []\n",
        "    total_files = len([file for file in os.listdir(audio_folder) if file.endswith(\".mp3\")])\n",
        "    processed = 0\n",
        "\n",
        "    for file in os.listdir(audio_folder):\n",
        "        if file.endswith(\".mp3\"):\n",
        "            audio_path = os.path.join(audio_folder, file)\n",
        "            result = model.transcribe(audio_path)\n",
        "            video_title = os.path.splitext(file)[0]\n",
        "            formatted_transcription = f\"Video Title: {video_title}\\nTranscription:\\n{result['text']}\\n\\n\"\n",
        "\n",
        "            transcriptions.append(formatted_transcription)\n",
        "\n",
        "            processed += 1\n",
        "            print(f\"Transcribed {processed}/{total_files} files.\")\n",
        "\n",
        "    return transcriptions\n",
        "\n",
        "# Usage\n",
        "formatted_transcriptions = transcribe_audio_with_whisper(audio_path)\n"
      ]
    },
    {
      "cell_type": "code",
      "execution_count": null,
      "metadata": {
        "id": "S1-hmt5vbE3g",
        "outputId": "b604f3f9-7187-4dac-b146-0fefc9ba9097"
      },
      "outputs": [
        {
          "data": {
            "text/plain": [
              "[\"Video Title: One Thing Kenny Segal – Sampling tails\\nTranscription:\\n Hi, I'm Kenny. One thing that I've found is that sometimes the best thing to sample is the space in between the actual notes. Today I got my keyboard hooked up through some cool reverb and delay pedals to give us a nice tail to mess with. Now instead of using the attack, we're going to go further into the sound and use just the little bit of the tail where all the cool fuzz and texture is. By then taking this little piece of the tail into a simpler, we have a really interesting ethereal sounding pad. This trick can also be applied to drums. Sometimes I'll take a drum break and delete all the actual hits, just leaving the space in between the drums. I can then take those little bits of ambience and add more texture to my own drum sounds. Once it all comes together, these subtle things are really what help the whole groove sing.\\n\\n\",\n",
              " \"Video Title: One Thing Ben Casey – Re-slicing\\nTranscription:\\n Hi, I'm Ben. And one thing I like to do is change the way a sample's chopped up after I've already created a simple pattern. I've loaded this sample into Simpler, and I'm using the slicing mode to chop it up. Let's hear how this sounds with a really simple MIDI pattern. Now, I can improvise using the sensitivity. And while playing the same MIDI pattern, this will radically change the way the sample plays back. Let's hear how that sounds. I like to capture all these ideas into an audio clip on another track. This way, I have endless variations that I can use, all from one simple pattern. And, on some cabo, I can just loop or just pick up a novelty. Now, once I have all my Vic ‑‑ And I'm going to stop here with that guy, so you can hear the when I've just 내려ven something.\\n\\n\",\n",
              " \"Video Title: One Thing edIT – Creating narratives\\nTranscription:\\n Hi, I'm Ed. And one thing I like to do when I'm in the studio with the Glitch Mob is to create a narrative for our songs. So here's an old version of our song Head Full of Shadows. When we came up with this section it reminded us of a chase scene from the video game Prince of Persia. Then we came up with this intro where the feeling is sad and maybe the princess is captured but at the same time the arpeggio gives the feeling that something is about to happen. In this bridge section we envisioned the prince infiltrating the camp knocking out the guards and stealthily making his way to the princess's tent. When we think of music as a narrative in this way, it helps us to turn our songs into stories. We turn our songs into stories with Edit\\n\\n\",\n",
              " \"Video Title: One Thing Computo – Generate rhythms\\nTranscription:\\n Hi, I'm Joe, and one thing I like to do is use OneNote and some MIDI effects to generate weird beats. First I'll load up a drum kit and create a one bar long MIDI note on C1 in a new clip. Next I'll drop the Chord MIDI effect on the track so that OneNote in the clip generates a bunch of notes. Then I'll add the arpeggiator to sequence those notes over time, altering the style for completely unique results. On a synth this would sound like arpeggios, but with drums and percussion this is a great way to generate complex rhythms that I might never imagine myself. Now, let's add some more. Added Street Dance\\n\\n\",\n",
              " \"Video Title: One Thing Splendore – Transformations\\nTranscription:\\n Ciao, mi chiamo Mattia e una cosa che mi piace fare è trasformare le tracce midi in audio, applicare degli effetti e poi trasformarle in midi così da ottenere nuovi riff. A volte mi trovo con un riff midi che mi piace, che però necessita di variazione e movimento. Quindi per prima cosa prendo questo riff midi, lo faccio entrare in una traccia audio e lo registro. Quando ho il mio sample audio inserisco una serie di effetti, delay, beat repeater o quello che mi ispira al momento, per rendere il suono più stratificato e interessante. Dopo frizzo la traccia audio e applico l'opzione converti melodie in una nuova traccia midi. Ottenuto il nuovo midi mi assicuro che sia nella stessa scala del brano, inserendo il device scale nella tonalità corretta. Il nuovo pattern può essere un ottimo aggiunto a variazione, oppure può fungere da contrapunto alla melodia originale. Se non sono ancora soddisfatto del risultato ottenuto, inserisco sezioni del nuovo pattern in quello originale e ripeto l'intero processo. Lavorare con una certa dose di casualità rende i miei pattern più interessanti, meno prevedibili e meno umani, e mi aiuta a trovare nuovi pattern melodici, suonando non avrei mai pensato. Per ottenere più informazioni sui pattern, iscriviti al canale e attiva la campanella. Grazie per la visione!\\n\\n\",\n",
              " \"Video Title: One Thing Lyra Pramuk – Record at different tempos\\nTranscription:\\n Hi, I'm Lyra, and one thing I like to do is record my voice at a different pitch and speed from my song tempo. The tempo of this song is 74 BPM, and the key is A minor. I used this free online tool to enter the tempo, and how many semitones I'd like to transpose while recording. And I see that I have to record at 55.437 BPM. I set live to this tempo, and switch all audio clips to re-pitch mode to handle the transposition to E minor automatically. When I got a feel for the new key and tempo, I start recording. When finished, I make sure the recorded audio is in re-pitch mode, and go back to the original tempo. For comparison, this is a vocal track I recorded in the original tempo. And this is the track I just recorded at a slower speed. And this is the track I just recorded at a slower speed. I love this technique, because it allows me to record my voice at a slower speed. And because the sounds feel like they come from a different voice and time. Often I take it even further and apply a formant shifting plugin at the end. For me. Me. Me. Me. Me. Me. Me. Me. Me. Me. Me. Me. Me. Me. Me. Me. Me. Me. Me. Me. Me. Me. Me. Me.\\n\\n\",\n",
              " \"Video Title: One Thing Owen Ross – Escaping habits\\nTranscription:\\n Hi, I'm Moen, and one thing I like to do is slice up my guitar playing to come up with new progressions. Sometimes when I write chord progressions, I feel like I'm repeating myself and playing similar patterns over and over again. When that happens, I record whatever progression comes to mind and slice it to the simpler. I play around with the slices until I find an original progression I like. Finally, I replay this on my guitar and record it. Playing an instrument for many years can make it easy to get stuck in habits and patterns. For me, it's a great way to get stuck in my own habits and patterns. For me, this method is a great way to break out of this cycle and come up with new ideas.\\n\\n\",\n",
              " 'Video Title: One Thing Cora Novoa – Exploring structures\\nTranscription:\\n Hola, soy Cora Novoa y una cosa que me gusta hacer es inspirarme en la estructura de temas de otros artistas y estilos musicales para crear diferentes estructuras en mis composiciones. Cuando me siento atascada mientras trabajo en una pista o si quiero empezar de cero, importo una pista que me gusta y analizo su estructura. La divido en bloques separados para cada parte. Les pongo nombre y le asigno un color. Lo pongo en la primera pista de mi proyecto, la silencio y la mantengo ahí como referencia visual. Luego, cuando trabajo mi propia música, creo partes con similar estructura y tamaño. Este método evita que me quede en la pista. Y me permite crear una estructura que me guste. Me permite que quede atascada durante mucho tiempo en un loop o patrón y me ayuda a crear pistas estructuradas con mayor variedad.\\n\\n',\n",
              " \"Video Title: One Thing Whitemary – Sidechaining Auto Filter\\nTranscription:\\n Ciao, sono Bianca e una cosa che mi piace fare è utilizzare l'autofilter per trasformare le mie armonizzazioni vocali in pattern ritmici. Per la registrazione iniziale uso la mia voce con più sfumature e variazioni possibili. Per esempio inserendo dei glissati o aggiungendo rumori ritmici o respiri. Unisco le tracce di voce in un gruppo e trascino l'autofilter. Poi creo una traccia MIDI per controllare l'autofilter tramite esaminare. E inserisco il sidechain. Scrivo un pattern MIDI. E inserisco un suono di organo senza release. E muto la traccia. Ora torno sull'autofilter, clicco sul triangolo, attivo il sidechain e scelgo come sorgente l'audio della mia traccia MIDI. Imposto l'invigliamento. Sviluppo al massimo, attacco e release al minimo, chiudo il cutoff e imposto il gain finché la traccia MIDI controllerà il filtro. Torno indietro e cambio facilmente il pattern ritmico modificando le note MIDI. Infine torno sulle impostazioni dell'autofilter e provo differenti regolazioni. Per esempio muovendo la frequenza. O sovrapponendo un altro elemento ritmico usando la quadra dell'LFO in sync mode. Usare l'autofilter in questo modo è molto più versatile del gate. Mi permette di esplorare differenti texture vocali in modo creativo. Inoltre, il score a mini grafone si sa che contribuisce ainstrumentale e a risultati unici. Ho sfruttato 10 modelli, 10 esercizi in sulfano. Mi è piaciuto trova con un obviousamaan e sono diventata più capace di sfruttare molto più volte self-ikh. Il risultato migliore del'lletulə èata più spesso. Si tratta di 8 modelli insh Santos州 agricolo e filmato dal confronto stato 2 mesi a Milano e 12 anni allii. interven ordered progetti in principale derivati daственно dal secondo testo ionizzato in località. 투 assassino reversione di 5 euro di CO2, AirX il sistema retireідo dellaishing 5, danach 20 euro di CO2. Grazie a tutti.\\n\\n\",\n",
              " \"Video Title: One Thing Jessica Dannheisser – Immerse yourself\\nTranscription:\\n Hey everybody, I'm Jessica and one thing I like to do before I begin a new project is make sure I'm in the right headspace to start with. When I'm scoring a film or a TV show, I really need to commit to my idea before spending the time developing it and working it to picture because otherwise I might choose something that doesn't work and I'll end up wasting a lot of time that I don't have. So in order to make sure I'm in the right frame of mind before I begin, I'll do a lot of research around the subject, read the script, watch the film, before composing any music at all and then I'll leave it. I'll step away from it for a while. I trust my subconscious so I know that when I do come back and sit down, I'm in the right headspace. In my experience, spending time preparing saves you time in the end and helps you to get the right idea. It helps you to get the right idea. It helps you get creatively in tune with your subject.\\n\\n\",\n",
              " \"Video Title: One Thing Robert Lippok – Sine wave percussion\\nTranscription:\\n Hi, I'm Robert and one thing I do to build my own drum sounds is to apply a chorus to a sine wave. First I load a sine wave into Simpler. I set a short decay time and add a high pass filter. Usually I cut around 1.2 kHz but this depends on the mix. Then I add a chorus, just the default settings. It makes the sound shimmer and creates a stereo image. I have used this idea to create all kinds of percussive sounds for all my drums. I have used it for over a decade. Even common tools are always worth exploring.\\n\\n\",\n",
              " \"Video Title: One Thing Yvonne Ringsdorf – Layering inspiration\\nTranscription:\\n Hi, I'm Yvonne and one thing I like to do is to create weird layered loops to trigger new ideas. I start by importing some tracks I love. They don't have to fit each other and it doesn't matter if they fit my style. One sample will be my reference and I adapt tempo and tuning of the other ones. If the key of the reference is D major, I tune all major tracks to D major and all minor tracks to the related minor tune B minor. I layer the tracks and cut everything that's unnecessary until I have a nice, complex loop. I listen or jam to it and at some point I'll discover a hidden chord progression, a melody line or a rhythm for my own track. The loop itself won't end up in my final track, but it helps me to come up with new ideas.\\n\\n\",\n",
              " \"Video Title: One Thing Katie Gately – Composing without listening\\nTranscription:\\n Hi, I'm Katie, and one thing I like to do is produce with all of the audio muted. The first thing I do is turn my audio all the way down. Then I set my BPM and meter and create an 8-bar loop. A basic predictable rhythm is a good starting point, so I have a kick on the 1 and 3, a clap on 2 and 4, and hi-hats on the 16ths. Then I let my imagination guide me by choosing samples or loops based on their file names. After I've placed a bunch of sounds, I start editing using only my eyes. I also draw in automation and add different effects. Next, I send one of the tracks to some effects pedals, start recording, and tweak some parameters. I treat this audio the same way and delete what I don't want to hear. Finally, I turn up the volume to hear all of the sounds I have to work with, and continue to edit the material using my ears. This strategy helps spark new ideas that energize my creativity. The unpredictability always surprises me. I'm also inspired by every ideas, because the music moves on depending on where I press them. Conทำ doesn't keep happen if music keeps the music moving while recording. separatist process has become so much easier. I need DENNIS for the files to be heard and Dintali is practicing greatly. Here it is, but it still doesn't work. When I'm finished with the first loop, I eyelashes it and Craig is like, Z Honors your alright? and bring the next loop. I know he looks kinda nice but makes it quite hard to do it. Hello? Z rentals go dancing, followingитstickaththeartplay and recheck you have been doing your channel with yourärenmagnets and leave them together.\\n\\n\",\n",
              " \"Video Title: One Thing dolltr!ck – Evolving melodies\\nTranscription:\\n Hi, I'm Daltryk, and one thing I like to do is use Follow Actions to generate new melodic ideas. Here, I've recorded a bunch of different vocal takes as multiple clips. I double-click a clip to open Clip View, and select all of the clips. I enable Follow Actions, and set Follow Action A to Other. I set the clips to Unlinked, and the time to 1 beat. Now, after every beat, Live will trigger a randomly selected clip on my vocal track. To make things more interesting, I duplicate certain clips, and alter their pitch. If I switch on Legato, the clip will play from its last stopped point, and creates a more fluid sounding vocal chop. In the end, I re-sample the vocal track, so that I can save the generated pattern of chops. I love this process because it creates an evolving loop of different melodies, and introduces a random element to my vocal editing. If you want to learn more about this process, you can check out the video description. If you're interested in learning more about this process, you can go to the link in the description. I hope you enjoyed this video and I hope you'll try it out. If you like this video, please consider subscribing to my channel. If you want to see more of my videos, please visit my blog, which is www.patreon.com. I'm Daltryk, and I'll see you in the next video. Bye!\\n\\n\",\n",
              " \"Video Title: One Thing Sky Deep – Sonic notes\\nTranscription:\\n Hi, I'm Sky, and one thing I like to do is translate my experiences from the outside world into my music. First, I explore places that sound interesting. I keep my phone handy so I can record sonic notes. Sometimes, I just mimic what I hear. Other times, something else happens. And I just add it to my note. Yee-yee. Ha-ha. And sometimes, I make a comment to remember what happened. So the girl passed me by, and she said, and I don't know what that actually means, because I don't know what language that was, but I can imagine looping that. Back home, I listen to my notes, and then reimagine the rhythms and melodies with my instruments. Come on! Come on, come on, come on, come on! Come on! Most of us spend too much time alone in the studio. Taking inspiration from the outside world triggers new ideas, and connects with the world. and connects with the world. and connects with the world. and connects with the world. and connects with the world. and connects with the world. and connects me and my music to real life. Come on!\\n\\n\",\n",
              " \"Video Title: One Thing DJ Rap – Transform hit songs\\nTranscription:\\n Hi, my name is DJ Rap and one thing I love to do is transform well-known songs into entirely new compositions. I start by playing a song I like, like Nirvana's Heart-Shaped Box. Transposing is the first step to get me into a different mindset and then I experiment with the chord progressions and play them in a different order. When I have a chord progression I like, I create a new vocal line. I've been there and I can't hold back With a silent pause and I finally fade to you Sometimes starting from scratch is hard. Creating songs this way keeps me inspired and also gets me composing in a fun and playful way. I've been there and I can't go back With a silent pause and I fade to black Lost my fear and I found some truth But it all makes sense when I finally get to you\\n\\n\",\n",
              " \"Video Title: One Thing Alex St Joan – From rhythm to melody\\nTranscription:\\n Hi, I'm Alex and one thing I like to do when writing counter melodies is decide on the rhythm first and only then on the pitches. When I have the chord structure and main melody for a song like this one, I create a new MIDI track, I select a percussive sound and record some improvised rhythmic ideas. I select my favourite parts, copy it to a new track and assign it to the next track. I add a tonal MIDI sound to it. This song is in E major, so I start by moving all notes to the root note E and sing along in the rhythm of the notes. When I've found a melody I like, I rearrange the pitches of the notes accordingly. I like this method because it feels freeing to focus on rhythm first and it helps me to hear things differently, which is always a good thing. When you forgive yourself If I forgive, if I forgive If you forgive, if you forgive T sait гол في\\n\\n\",\n",
              " \"Video Title: One Thing Ella Zwietnig – Swap all sounds\\nTranscription:\\n Hi, I'm Ella and one thing I like to do is to not focus on sounds while composing. When we are writing songs for our band Uma, we follow the concept that we'll swap every sound we use at first. So when I'm writing a bass line, I'll just grab a random bass sound and start playing. Later, when the writing is done, I'll discard all sounds I used and focus on finding and carving the best sound for each single track. Focusing on the songwriting before exploring the final sounds helps us to work faster and to write better songs. SubtIle isn't always a simple thing, so I attach because it's important to make it medios to every beat of music. That's a quick cover or a 자체, but it will generate the hundreds of linked anthology to the sounds that i made. If you follow my illustrations, you'll see that the работwear and dadurch Perovskies are keeping up with myifica. Music� and the routes taken in diedاخhale. This is exct deductible difference for the demo. There are a few more steps that i want to make, before i start. If you don't see them in already控 anteat CDC\\n\\n\",\n",
              " \"Video Title: One Thing Yoav Shemesh – Creative warping\\nTranscription:\\n Hi, I'm Yoav and one thing I like to do is add color to my sound using different warp modes. First, I record a few bars of electric keys. I cut the tail end of the MIDI clip and consolidate it so it ends in time. In this case, it's 4 bars. And click Divide To to change the entire clip to double speed. I freeze the track and flatten it to convert it to an audio clip. Now, I cut the tail end of the clip and hold Shift and drag it back to its original length, 4 bars. With the Warp Switch turned on, I try out different warp modes to introduce some effects. I add some interesting artifacts. I love this method because it creates sonically appealing textures without adding any plugins or effects. I also wanted to add a little bit of bass to the sound of the video. It's a really cool way to add some more detail to the sound. I'm going to end the video here. I hope you enjoyed this video. I hope you enjoyed this video. I'll see you in the next video. Bye, bye. Bye. Bye. Bye. Bye. Bye. Bye. Bye. Bye. Bye. Bye. Bye. Bye. Bye. Bye. Bye. Bye. Bye.\\n\\n\",\n",
              " \"Video Title: One Thing Daedelus – Move!\\nTranscription:\\n Hello, this is Daedalus. And one thing I like to do when the vibe isn't quite right is take the rhythm and put it into my body. When I'm not feeling it, when the vibe is gone, when the room isn't quite right, I find that my tracks are dead on arrival. So my trick is I try to incorporate movement in that static space. If you really want people to be moving, you should find a way to make the studio move. If it's rhythm you're working on, you should be feeling rhythm in your toes, rhythm in your hands, beating on pads, playing on instruments. Whatever it is that allows me to take that rhythm outside of that computer space and put it into my own body. If you do this right, I feel like you are the metaphor for your audience. You are the fan, you are the creator. There's no difference. And then the vibe returns, magically. Or it doesn't and I just have to dance more ridiculously.\\n\\n\",\n",
              " \"Video Title: One Thing Tom Cosm – Cutting and combining\\nTranscription:\\n Hi I'm Tom and one thing I like to do is combine several variations of a loop to get something more exciting. I start with a MIDI clip like this bassline. I resample it to a new audio track. Duplicate it and remove the audio from the duplication. Now I choose another sound, resample it and repeat the process about 10 times. I chop up each individual note and select and disable them all. Finally I combine different notes by enabling them individually until I have something that sounds unique. This technique is a fun and fast way to get more excitement into my production, produce happy little accidents and create sounds nobody has made before. I hope you enjoyed this video and I will see you in the next one.\\n\\n\",\n",
              " \"Video Title: One Thing Daisy Chute – Trying new instruments\\nTranscription:\\n Hey everybody, I'm Daisy and the one thing I like to turn to for creative inspiration is a new instrument. Either for an existing track or a song I'm starting from scratch. It can get a little overwhelming, all the different possibilities at a computer. So I like to turn instead to acoustic and analog instruments around me. Picking up a new instrument, I have to face all these technical challenges of what the new instrument can do. And through that I get all these creative limitations which can help with my ideas. One instrument that I have turned to recently is the Omnicord, which is an 80s electronic auto harp. And I'm trying to use it now on this track called Lion Eyes that I've been working on with my collaborator Tim Baxter. And I just wanted to use it to see if it freshened up the track a little bit, added something unusual to the mix. I'm going to use it to see if it's going to be a little bit more dynamic. I'm going to use it to see if it's going to be a little bit more dynamic. I'm going to use it to see if it's going to be a little bit more dynamic. For me music making is an alchemy of all these different components. Music, the chords, the lyrics, the melody, the chemistry you have with your collaborator. And when all the ingredients are right, you just know it. It just feels like the right sound. You just feel the right해요 You just feel the right\\n\\n\",\n",
              " \"Video Title: One Thing Monomite – Delay as a sampler\\nTranscription:\\n Hello, c'est Monomythe, et une chose que j'aime faire, c'est d'utiliser le delay comme un sampler pour créer de nouveaux patterns. Je commence par insérer un delay sur une piste audio pour y rentrer ma guitare. Je tourne le wet à 100% et je règle la division du temps sur 16. Dès que j'ai mis le feedback au maximum, je peux enregistrer de petites phrases et des overdubs. Si je n'aime pas ce que j'ai joué, je peux le supprimer en remettant le feedback à 0 et ensuite recommencer. Si une idée m'intéresse, je peux changer rapidement les divisions des temps pour créer de nouveaux patterns rythmiques. Pour capturer le résultat, je route simplement la sortie de ma piste dans une autre piste audio. L'actualité de ce torsion d'ordinateur semble doublation exactement à 100%. Le test vient sur piste audio et quel что pour espérer ce sera une bonne modification. En glissant la câble, celle-ci se recruit au bas en partie directement dulevelée au bas. stata assimilat. Lainnen peu بعد CC Nuit et CaloHles ils n'éviteront hier l'actole pour connaître le request un nouveau acumulaient avec ses supports en monks. Apres l'utilisation, on 🐻 enregistrait un ol McMahon Saint Laurent Kindителя qui est Ј. ...\\n\\n\",\n",
              " \"Video Title: One Thing Rainbow Chan – Turn one note into chords\\nTranscription:\\n Hey, I'm Rainbow and one thing I like to do is create chords by transposing samples. I start with recording one note. This method is really cool for voice or monophonic instruments. I duplicate the audio clip onto multiple tracks and transpose them into a hero chord I like. I repeat this process to build a chord progression. I play the notes with the warp settings. Adding more notes and playing with the warp settings can create tension and bring out new textures. Writing progressions this way helps me to overcome habits, really use my ears and create moments of harmonic surprise in my tracks. Osu! dreams ma consedal music his\\n\\n\",\n",
              " 'Video Title: One Thing Kyoka – Exploring noise\\nTranscription:\\n Hello, I am Kyoka. One thing I do to create new music is to try to find some inspiring street noise. When I come back, I listen to the recordings, then I try to find some nice groove or rhythm from that. I cut it and sometimes I loop. Then I try to find some inspirations from that sound for singing or music. Like this. Like this.\\n\\n',\n",
              " 'Video Title: One Thing Robot Koch – Committing\\nTranscription:\\n Hi, I\\'m Robert. One thing that I find is that having too many options can be distracting. So as soon as I made something I like, I turn it into audio and delete the original. For example, this is a MIDI track from one of my songs with a few effects on it. Now I would ask myself, do I love this? Do I commit to it? The answer is yes. I would change the routing like this, record the soft synth, including all the effects as audio. And delete the original MIDI track. This forces me to make decisions and move forward. It also helps me to develop a better sense of what the song really needs. I think working with limitations actually frees my creativity. It helps me embrace what my body really needs. And my colleagues as kids taught me that listening to a song makes your pulpit get fuller. It allows you to change your ruralots past media. And does give you a life that is much deeper. The key to how music\"... Pokemon.\\n\\n',\n",
              " \"Video Title: One Thing Sweatson Klank – Pumping sounds\\nTranscription:\\n Hey, I'm Tom, and this is one thing I do to create rhythmic, pumping-like sounds. This trick works on pretty much any sustained sound. For instance, long bass notes. I apply the auto-pan effect to the track, invert the phase, and set it to 360. Next, I turn up the amount, select a note value I like, and choose a sawtooth wave. This trick also works great on pad sounds. Play with the offset to shift the pumping a bit. I use this a lot because it's more straightforward than sidechain modulation, and you get some additional features to play with. It works the same on usual melody buttons. I also enjoyed it that way a bit, with the effect of analysing regulations in the back-end who did enjoy basic whatever. Now, once again, again on audience production, using a��n, I typically only show stuff that works better with a sidechain modulation, but Itsz?! doesn't have a sound effect, so it's convenient to play here. ✔️ Follow me Twitch �ucht, Pascal civic community. We'll make sure to Paul this you! 🖐\\n\\n\",\n",
              " \"Video Title: One Thing Laura Escudé – Controlled randomness\\nTranscription:\\n Hi, I'm Laura, and one thing I like to do is randomize effects on my violin while I'm composing. I've prepared an effect rack that contains various unique effects. MIDI CC ranges are distributed equally, and I've mapped the chain selector to a knob. I'm using a Max for Live patch to randomize the chain selection. By using a MIDI controller to trigger the changes, I never know what effect is up next, so I have to react spontaneously. Utilizing controlled randomness keeps me in the moment and helps my creativity flow.\\n\\n\",\n",
              " \"Video Title: One Thing Josh Spoon – Sampling yourself\\nTranscription:\\n Hi, I'm Josh, and one thing I like to do is create my own arrangements to sample from. I start with playing one instrument. Something that gives me a feeling. Then I play other things. Usually three parts total. I resample it, chop it up and simpler, and then I play with the chops. Creating my own samples avoids clearing issues and gives me a special vibe. It's just like any other sample, except it's entirely mine.\\n\\n\",\n",
              " \"Video Title: One Thing Richard Veenstra –\\xa0Modular jams\\nTranscription:\\n Hi, I'm Richard and one thing I like to do is record my modular germs. I usually limit myself to two or three modules and begin patching. At the same time I start recording in Live's arrangement view to make sure I don't miss any happy accidents. Live sends out two audio pulses. The faster pulse is a steady clock so that everything will match Live's tempo. The slower one is one audio pulse on each bar, so I'll have a reset pulse for loops or rhythmical modulations. After recording for 15 to 30 minutes I select and edit the most interesting parts. It can be a loop, a drum sound or the whole jam. Then I export the results and delete the original recordings. In jams like these there are most often some very inspiring moments. And it's a refreshing idea that none of this can be exactly recreated and only the most inspiring ideas are saved for future use. Due to the low quality of technology these 2015 and 2017 modules contain far more higher quality than previous versions, so I still enjoy multitasking and having familiarized mechanics be part of my daily work on these machines. All of this saw Live's things flow into YouTubeos\\n\\n\",\n",
              " \"Video Title: One Thing Drum & Lace – Re-pitching field recordings\\nTranscription:\\n Hi, I'm Sophia, and one thing I like to do is use field recordings to create an ambient bed in my work. When I start a new composition, I go through sounds that I've recorded and edited. Here's one I captured in the south of France. I drop it into sampler and start experimenting with different octaves until I find something that creates an interesting texture. Then I'll start adding effects to it. By using this approach, I find new sounds and keep my music organic.\\n\\n\",\n",
              " \"Video Title: One Thing Ariel Alexander – Crossfading loops\\nTranscription:\\n Hi, I'm Ariel, and one thing I like to do is combine tracks using Live's Crossfader. I start with two contrasting percussion loops. First I click the little X on the right side to show the crossfader, and I assign track 1 to A and track 2 to B. I arm the resample track and record while fading from A to B, creating a new loop. I also love to use this technique to smoothly blend the sounds of two synths. Here I have two tracks with the same MIDI data, but different instruments. I set one to A and the other to B. Before I blend them together, I adjust the chance on each track. Then I increase the track delay on one of them. Once again, I hit record on the resample track and move the crossfader. This method is a fun one. It's a fun way to combine sounds together. And because I move the fader intuitively, the results are imperfect and organic. Music Music Music Music Music Music Music Music Music Music Music Music Music\\n\\n\",\n",
              " \"Video Title: One Thing Astronautica – Breaking habits\\nTranscription:\\n Hi, I'm Astronautica, and one thing I like to do when struggling with writer's block is taking a minute, stepping back, and thinking of ways I can shake up my normal workflow. Like with drums, I used to play or draw in MIDI patterns, but one day I tried dragging drum samples directly into the arrangement view, and doing it this way actually gave me a lot of new ideas. For example, I'm working on this track right here, and seeing the waveforms and context helps me to place beats where I actually hear them in my head. I can also edit and manipulate specific beats right in the arrangement. They will help me cameraman for that whole thing! For me, working visually with audio in the arrangements and beats did the trick. But it could be anything. The essential point is getting out of your comfort zone. That's the end, that's the end That's the end, that's the end\\n\\n\",\n",
              " \"Video Title: One Thing Ben Lukas Boysen – Dynamic layering\\nTranscription:\\n Hi, my name is Ben. And one thing I like to do when I'm composing is to play with dynamic layers of sound. I often start with a very simple idea, like this. Then I double the track several times and have different synths play it. To me, arpeggios are a very good way to create interesting variations. Finally, I will play with volume and other parameters of the layers to make it more organic and evolving. This method helps me to trigger new ideas and to develop tracks quickly. I hope you will enjoy this video. Thank you for watching. I hope you will like it. I hope you will like it. I hope you will like it. I hope you will like it.\\n\\n\",\n",
              " \"Video Title: One Thing El Choop – Gated noise\\nTranscription:\\n Hey, I'm Harvey, and one thing I like to do is use gated noise to create textured artifacts in my music. Here I have a MIDI track, with the synth playing some chords. I audition some samples from my noise collection, which I've recorded earlier from various sources like my Tascam Porter 1. When I find one I like, I drag it into my session, and this creates an audio track. I insert a gate on that track, and sidechain it to my MIDI chord track. Now each time the synth is triggered, a small burst of noise is released. I disable fixed grid on my noise clip, and change the loop region, so a different piece of noise is triggered each time. This makes it less predictable. Finally, I group the noise track from one to the other. This way I can apply effects to the entire sound. I love this trick because it's fast, it makes my sounds more textured, and it gives my software synths that little vintage vibe. I hope you enjoyed this video. If you did, please like, comment, and subscribe. Thanks for watching.\\n\\n\",\n",
              " \"Video Title: One Thing Sirintip – Starting with data\\nTranscription:\\n Hi, I'm Soorin Tiff, and one thing I like to do is use data as a starting point for my compositions. Here's for instance, NASA's website with a timeline of the average global temperature from 1880. First, I download the data. Then, I import it into this web app, which turns datasets into musical information. I choose a key and mode for my composition based on the mood I'd like to communicate. As I listen to the musical data played back, I create different patterns based on years that are significant to me, throughout history and my personal life. When I'm happy with the dates I selected, I play the resulting notes on the keyboard. Then, replace the sound with samples of my voice to make it even more powerful. I also use the sound of my voice to create a more personal sound. This process reduces the pressure of starting from scratch. It helps me create compositions with a deeper meaning and write melodies in ways I've never thought of before. A IOPE as I am my own voice. Starting with the notes I've selected leaves me with the情ethe experience of Porque Con Tat fine-tuning. I, even though I don't have a built-in computer set toAI communication, can easily wireframe the身etwetter recording recorded to AI, or whenever I want to generate some taco for myself to play singer selected works for the tracks in the software where I want the Banff where there's all the work done. ESTO ESinde ESopposito em e mm jal ef\\n\\n\",\n",
              " \"Video Title: One Thing Hainbach – Unsynced loops\\nTranscription:\\n Hi, I'm Heinbach and one thing that I like to do is work with unsynced loops. My main inspiration for that comes from working with tape machines like these three, which create an ever-evolving soundscape. Even when working the DAW, I often do the same. Here, for comparison, are three synchronized loops. I switch off the grid and set the loop length by ear. I also switch off the loop length by ear. I switch off the loop length by ear. And then I have them play off each other. The beauty of this method is that our brain always strives to create order from chaos, so sometimes this already works as a finished piece. If not, I play around with it and apply other techniques to give it a little bit more structure and coherence.\\n\\n\",\n",
              " \"Video Title: One Thing Ben Vedren – Sidechained variations\\nTranscription:\\n Salut c'est Ben, et une chose que j'aime faire, c'est transformer un pad en différents patterns rythmiques en utilisant un effet de gate sidechainé. Je commence avec un rythme et un pad et je place un effet gate sur ma piste de pad. J'ouvre la section sidechain, je sélectionne la piste rythmique en tant que source, puis je vais ajuster mon seuil jusqu'à ce que j'entende le groove s'appliquer sur mon pad. Maintenant, je joue avec le point de départ et la longueur de la boucle rythmique jusqu'à ce que j'obtienne un résultat que j'aime. Je fais une copie du clip que je lance et l'utilise pour trouver un rythme différent. De cette façon, je peux créer pour mon morceau d'autres patterns rythmiques de pad. Cette technique me permet de trouver des idées inspirantes, de fusionner les sons, et m'aide à adopter un état d'esprit la sismore. ... ... ... ... ... ... ... ... ... ... ... ... ... ... ... ... ... ... ... ... ... ... ... ... ... ... ... ... ... ... ... ... ... ... ... ... ... ... ... ... ... ... ... ... ... ... ... ... ... ... ... ... ... ... ...\\n\\n\",\n",
              " \"Video Title: One Thing Bauma – Playing like a child\\nTranscription:\\n Salut c'est Boma et une chose que j'aime bien faire c'est enregistrer des phrases aléatoires lentes sur un instrument et les transformer en un pattern rythmique. Je commence par enregistrer un instrument acoustique dans la vue arrangement. Je joue très lentement, sans me soucier d'une quelconque tonalité ou tempo. Aussi naïvement que pourrait le faire un enfant. Une fois terminé, je divise le tempo deux fois pour que le clip joue ainsi quatre fois plus vite. Je peux déplacer certains marqueurs warp pour modifier le rythme. Et je copie-colle les parties les plus intéressantes pour construire un pattern. Et je peux aussi modifier les patterns plus larges. Cette méthode m'aide à surpasser la peur de la page blanche. Et me permet de construire des morceaux. Basé sur des idées et des patterns uniques.\\n\\n\",\n",
              " \"Video Title: One Thing Hannes Bieger – Tuning drum sounds\\nTranscription:\\n Hi, I'm Hannes and one thing I've learned as a producer and sound engineer is that drums are not only percussive events but also tonal elements and therefore it's important that you tune them to the key of your track. If you start thinking of your bass drum as a bass note it is obvious that you would like to make it fit with the rest. Now tuning kicks is a bit tricky because the tonal structure is hard to hear in the lower frequencies. That's why when pitching kick drums I tune them up by one octave first then tune it to the song and then pitch it back down by one octave again. If you get this right for all your drum tracks you will notice that not only the mix will sound better this also adds tremendously to the groove of your track. Music\\n\\n\",\n",
              " \"Video Title: One Thing Jamaica Suk – Changing context\\nTranscription:\\n Hi, I'm Jamaica and one thing I like to do is DJ my unfinished tracks at home. Coming from a musician's background, the creative part is often the easiest for me, but then I'll often get stuck in the arrangement process. When I hit that wall, I'll export the current state of my track in the studio and take it with me to my apartment. Then I mix my track against other records I like to see if the arrangement is effective enough. By flipping perspective from a producer's to dancer's ear, I'll often find missing ingredients or just realize the track is not the same as the original track. The track is ready to go.\\n\\n\",\n",
              " 'Video Title: One Thing Risa Taniguchi – Sampling friends\\nTranscription:\\nこんにちは、Lisa Taniguchiです。私のワンスイングは、友達との何気ない会話の一部をボーカルフレーズのネタとして使うことです。私は友達と会うとき、会話を録音してもいいか尋ねることがあります。気になるフレーズがあると、英語で繰り返して言ってもらうように頼むこともあります。家に帰ったら、気に入ったフレーズを自分の声で録音します。携帯電話だけで録音することがほとんどです。それから、友達のバージョンと自分のバージョンをライブにインポートして、どちらが自分の曲に合うか判断します。私の場合、友達と会うときは、友達の声の録音は、自分だけのボーカルサンプルやアイデアを生み出すのにとても役立っています。著作権を気にすることなく使えるので、非常におすすめです。\\n\\n',\n",
              " \"Video Title: One Thing Andrea Belfi – Bass sounds from cymbals\\nTranscription:\\n Hi, I'm Andrea, and one thing I like to do is create bass sounds with cymbals. I'm using this small mic, but any condenser cardioid should work. Wearing headphones to hear the microphone, I start experimenting. When the mic is further away, the cymbal sounds bright, but closer to the edge it becomes more bassy. When I've found the right position to achieve the sound I have in mind, I start recording. I start recording with the microphone, and then I start recording with the microphone. This method allows me to create bass sounds in between the acoustic and electronic world, which often form the foundation of my tracks. Produced by Adam Rawls. The gestellt, mày Overrunz sentimental, ukulele mainly. Get in touch with me on messenger cavities. Jimmykuakesa.com Laura's rehearsal is coming up next.\\n\\n\",\n",
              " 'Video Title: One Thing JiKay – Playing feedback\\nTranscription:\\n Yo, my name\\'s Jai K and one thing I like to do is create new sounds using feedback loops. I have a MIDI track with a short sample, an empty return track, and an audio track with the effects chain. At the end, there\\'s a limiter set to minus 12 to tame the feedback. I set the effects track to monitor in, with the input set to the return. I turn both sends all the way up, add a third track for resampling, trigger my sample, and play with the parameters. It\\'s nice and Theme-designed all the way up and lived up to testing that. It adds a nice\"; Using feedback loops is a great way of finding new inspiration and keeping my music making unpredictable. We\\'ll see you next time.\\n\\n',\n",
              " \"Video Title: One Thing Sha Sha Kimbo – Passive listening\\nTranscription:\\n Hi, I'm Shasha, and one thing I like to do is passively listen to my music. When I'm working on a new tune and I don't know what to do with it, I loop it and play it at a mellow level. Then I just do other stuff around the house. In this phase, I'm not focused on the track, but I'm listening subconsciously. When I get back to my track, I often know what's missing or what needs to be changed. So this method helps me understand my tunes in a new perspective. I'm not focused on the track, but I'm listening subconsciously.\\n\\n\",\n",
              " \"Video Title: One Thing Delhia de France –  Rehearsing in slow motion\\nTranscription:\\n Hi, I'm Delia and one thing I like to do to get into the zone before recording or performing is to rehearse the song very, very slowly. Here is my song in the original tempo. Now I slow it down and listen to the vibration and feel the gaps in between. It's almost like meditation. It's almost like meditation. By rehearsing slowly I can create space in between the notes and I need to fill that space with presence. It's about connecting to yourself and your body in the very moment and of course you can use any of the notes. It's a very easy instrument.\\n\\n\",\n",
              " \"Video Title: One Thing Half Waif – Poetry to melody\\nTranscription:\\n Hi, I'm Nandi, and one thing I like to do is use spoken word to help build vocal melodies. I start by recording a simple, long chord progression. I find a poem I've written that doesn't have a home yet, and record myself speaking the words, not worrying about the melody. They'd never come. The roadside goes blue. The bloom of chicory and frothed goldenrod plumes. So late this year. Holding their breath like the rest of us. Then, I record an idea for a vocal melody, following the spoken track's timing and waveform. Just when you thought they'd never come. The roadside goes blue. The bloom of chicory and frothed goldenrod plumes. So late this year. Holding their breath like the rest of us. Finally, I mute the spoken word track, and listen back to the new version of the song. I'm going to record a new vocal melody. Just when you thought they'd never come. I love this workflow because the phrasing of the melodies is different than how I would normally sing them. It creates a roadmap for bringing pre-written words into the music. The roadside goes blue. The bloom of chicory and frothed goldenrod plumes. So late this year. So late this year. Going back out in time right now. Just can any mercy, go intolv about clarinet to figure out a song that, uh, sounds so nice. Not my favorite.\\n\\n\",\n",
              " \"Video Title: One Thing Morgan Page – Tune drums like chords\\nTranscription:\\n Hi, I'm Morgan, and one thing I like to do is tune my drums like a chord. This song is an F minor, so I'll tune the kick to an F. A tom phrase like this could be tuned to the F minor triad using F, A flat, and C. Other percussive elements like these one-shot samples would also use these notes, making sure that they are tuned to the scale. By focusing on specific notes to the scale, each instrument plays a supporting role in the spectrum of my track. This allows me to achieve more impact with less EQing in my mixes. Now let's move on to some advanced\\n\\n\",\n",
              " \"Video Title: One Thing DJ Dahi – Colorful naming\\nTranscription:\\n Hey guys, my name is DJ Dahee. One thing I like to do is set aside time to name my sounds. When I listen to music, I'm usually listening for textures. So, when I hear something I like, I usually name it the first thing that pops in my head. When I go to my user library, I like to search for a vibe. Such as the word crystal. Crystal. Or stinky. Or dream. Or even the color red. This helps me stay in the flow and make music from the heart.\\n\\n\",\n",
              " \"Video Title: One Thing Giulio Maresca – Sketchbook project\\nTranscription:\\n Ciao, sono Giulio. È una cosa che mi piace fare e registrare tutte le improvvisazioni e le mie idee in un unico progetto. Quando voglio improvvisare o lavorare una nuova composizione, apro il mio liveset, chiamato Sketchbook. Il progetto contiene tracce audio per tutti i miei synth, una traccia MIDI per un plugin di 303 e tracce di ritorno per riverbero e delay. Tutti i take sono organizzati in scene. Per iniziare una jam, creo una nuova scena e registro. C'è anche un canale audio per registrare altri strumenti. In questo modo posso collegare una chitarra o un microfono al volo e registrare. Quando ho fatto, rinomino le scene, assegno un colore che rispecchia il mood e segno il BPM. Rinomino le clip per ricordare quello che ho registrato e il BPM. E setto il giusto livello delle mandate grazie alle automazioni sulle clip. Quando voglio riascoltare le mie idee qualche giorno dopo, non ho bisogno di ricordarmi quale progetto contiene quell'idea. Apro solo il progetto Sketchbook. Posso cercare le jam grazie ai colori. Per esempio il verde chiaro corrisponde a sonorità acid, verde scuro per le scene dub, ambiente celeste, e il verde per le scene che sono le mie idee. In grigio invece le cose che non mi piacciono molto. Tutto è warpato. Posso suonare liberamente e combinare clip differenti. Per esempio batterie fatte a gennaio e una sequenza synth fatta a giugno. Avere tutti i miei take in un solo posto mi permette di non avere numerosi progetti non finiti. È molto facile combinare idee differenti, mi permette di risparmiare tempo, e di fare cose che non sono le mie. È una mente libera da un'eccessiva organizzazione.\\n\\n\",\n",
              " \"Video Title: One Thing Nick Hook – Beat it!\\nTranscription:\\n Hey what's up, I'm Nick Hook. One thing I like to do is surprise myself. I've developed a few techniques to get my exploration started. One of them is putting the push into key mode and punching that shit. I know it seems crazy but banging on the thing just brought out a bunch of patterns that I would have never thought of any other way. Once I get one of those is when I can really get to work. Exploring doesn't always mean you have to know what you're doing and surprising myself has kept my process fresh every day. I'm Nick Hook. I'll see you next time.\\n\\n\",\n",
              " \"Video Title: One Thing Ducks! – Taking turns\\nTranscription:\\n Hi, I'm Lani. And I'm Craig. And together we make music as... Ducks. One thing we like to do when we start a new track... Is take turns... Adding layers... To a loop. First we find some random way to decide who starts. This is going to be hard to beat. The winner records the first layer of a loop. Then we take turns adding sounds. When I'm playing something, I might have an idea of what I want to do next. But then the next layer might take it in a completely different direction. So you have to wait and see. We don't worry about making it perfect. We just kept the ideas down quickly. When the loop starts to sound too busy, we copy one element. And then start the process again. This helps us to come up with new material for another section. This method gives us lots of musical material in a short space of time. It helps us make creative decisions equally. It keeps the energy level up in the room. And it works with any number of people. Also, it's just polite. It's just polite. It's just polite. It's just polite. It's just polite. It's just polite. It's just polite. It's just polite. It's really leaping! Xi'an stands out as an example for its lyrics. Juicy food is automatically appropriately unique. These are our original lyrics, which we came up with for theека's Season 1. We practiced our Mojito, from the last single we recorded them, then remade our own.\\n\\n\",\n",
              " \"Video Title: One Thing Andrew Toy – Improvising to automated effects\\nTranscription:\\n Hi, I'm Andrew and one thing I like to do is improvise on the drums along with automated effects to come up with new ideas. I have all the drums in one group to record the dry signals and two additional audio tracks. One of them receives the audio from the drums group. The other track is simply for recording. The first thing I do is drop a random sample onto the effects track and turn the clip gain all the way down so its only purpose is automation. This is called a dummy clip. Next I change the loop length parameter. I'll play a two bar loop. I drag in an effect, change some parameters to taste, and open the envelope menu to select which parameter I like to automate. I draw a random automation curve and start recording the dry drums and the effects record track. As I play along I respond to the changing sound. Sometimes I add several effects and layers of automation to create more complex sounds. I'm going to add aaken by adding anadores to the clip shakes and the automation helps me focus entirely on the performance and come up with new ideas. Anyway, I have more memories than what I move around in. Just curves, strings, We'll see you next time.\\n\\n\",\n",
              " 'Video Title: One Thing Marc Marzenit – Syncing percussive loops\\nTranscription:\\n Hola, soy Marc y una cosa que me encanta hacer es crear nuevos ritmos a partir de cualquier muestra de audio sin importar si se ajusta al tempo o al género de mi track. Aquí tengo un proyecto en el cual estoy trabajando y aquí un loop de audio de batería aleatorio. Como veis no encaja mi proyecto, junto suena caótico. Activo el Warp Mode en mi loop de batería, lo dejo en Beats Mode, configuro el parámetro Granulation Resolution a 1.16 y después el Transient Loop Mode en OFF. Ahora el Groove encaja en mi proyecto y ahora juego con el valor de Transient Envelope hasta que me guste el Groove. Esta es una gran herramienta incluso para bucles que ya se ajustan al tempo de la canción. Aquí tengo un bucle de la música que se ajusta al tempo de la canción. Aquí tengo un bucle que se ajusta a mi proyecto sin necesidad de Warping. Y esto es lo que pasa cuando juego con los valores de Granulation Resolution y Transient Envelope. Explorar las posibilidades creativas de los modos Warp me ayuda a moldear los loops de batería existentes y me inspira a crear nuevas rutas de batería. Y a crear nuevos ritmos de una forma diferente.\\n\\n',\n",
              " \"Video Title: One Thing Baby Lucia – Resampling beat repeats\\nTranscription:\\n Hi, I'm Lou and one thing I like to do is use beat repeat to create new chord patterns. I start with a melody or a chord progression on a MIDI or audio track. I drag in beat repeat and create a new audio track. And route the audio from the original track to this one. I set chance to zero, arm the second track and start recording. I play with different settings and manually switch beat repeat on and off to find as many cool sounds as I can. When I finish recording, I slice the track in half, and switch the audio to a new MIDI track, most often with an eighth or quarter note division. And mute the other two tracks. I double click the new MIDI clip to open it. Delete the default MIDI notes and experiment with different notes until I have something I like. Well, you hear me! This is a ton of fun and introduces unexpected changes into my music. It helps me uncover those happy accidents that make a track memorable. Also helps with the ... visiting my work. They wanna trash me, push me, pass me, get at me, shush me, bash me, nasty, basic and tacky, and your attitude ain't classy, trash me, push me, pass me, get at me, shush me, bash me, nasty.\\n\\n\",\n",
              " \"Video Title: One Thing I Am Snow Angel – Reverse vocal intros\\nTranscription:\\n Hi, I'm Julie Catherine, and one thing I like to do is create ethereal song intros using my lead vocal. Here's what my lead vocal sounds like on its own. I dreamed you in between starlight First, I copy it onto a new audio track and reverse it. Next, I add hybrid reverb, and I set the algorithm to shimmer with a pretty long decay. I choose one of the bigger spaces in the convolution impulse response menu, and adjust the blend, dry-wet, and other parameters to create an otherworldly vibe. When you are so good When you are so good When you are so good Then I use the EQ sound. I use the EQ section to remove the high end as well as some of the lower muddy areas. When you are so good Now I freeze and flatten the track. Increase the gain as needed, and reverse it again. I position the clip at the beginning of the song, and finally I add some tremolo. And then I add some more. More reverb and delay to taste, More reverb and delay to taste, and I automate the dry-wet on the reverb to create a build. and I automate the dry-wet on the reverb to create a build. I always walked alone in the woods. These reverse vocalizers work well on their own or blended with other tracks. It's an amazing way to create a mood that helps the listener instantly get lost in the music. Double Dash\\n\\n\",\n",
              " \"Video Title: One Thing Plastica – Arpeggiator for rhythms\\nTranscription:\\n Ciao, sono Matilde. Una cosa che mi piace fare è utilizzare l'arpeggiatore D-Live per creare variazioni ritmiche. Spesso, volendo creare un pattern ritmico, registro solo alcune note midi come punto di partenza. Per rendere più interessante questo semplice pattern, inserisco il device Arpeggiator, assicurandomi che la modalità Sync sia attiva. Non volendo creare arpeggi classici, lascio il numero di step a zero. Quindi automatizzo il parametro Rate dell'arpeggiatore. Faccio doppio clic sulla clip midi, apro la sezione Automazioni e seleziono Arpeggiatore e Sync Rate. Infine, disegno una curva di automazione della frequenza, il più delle volte nell'intervallo da un mezzo a un sedicesimo, finché non sento una variazione ritmica che mi piace. Mi piace questo approccio perché riesce a mettermi in un dialogo creativo con il software, che mi stimola e mi aiuta a sviluppare idee interessanti. Per ottenere più informazioni, iscriviti al nostro canale. Grazie!\\n\\n\",\n",
              " \"Video Title: One Thing H Lite – Scrubbing for variations\\nTranscription:\\n Hey, I'm Anton, and one thing I like to do is scrub along Live's playhead to create unique rhythms and sounds. First, I make sure that Permanent Scrub Area is turned on in Preferences so that I can freely click around the playhead. Here I have a beat. That's the foundation for the track. This other clip is a very simple percussive loop, with Warp turned on. Next, I change the global quantization to 16th notes, and create a resampling track to capture the percussion sounds. I arm it, hit record, and start scrubbing around the clip to find something interesting. After this, I move to Arrangement View, mute the percussion track, right-click on my resample track, and select Show Take Lanes. As I listen back, I select the parts that stand out to me. I'm going to use the same process to do the same thing on the other track. I'm going to use the same process to do the same thing on the other track. I'm going to use the same process to do the same thing on the other track. Now I'll do another pass. This time, I'll take a more fluid approach. Back in Session View, I unmute my percussion track and change the global quantization to None, with Legato turned on. I mute the first resample track, create a second one, arm it, and repeat the process. But this time, I'm searching for something more textural. If I zoom in while scrubbing, it can deteriorate the sounds even further. This also works well with a synth sample and adjusted warp settings. This method continues to surprise me. It generates inspiring results not only with rhythms, but also with melodic material. with rhythms but also with melodic material.\\n\\n\",\n",
              " 'Video Title: One Thing Junichi Oguro – Composing with video clips\\nTranscription:\\nこんにちは、大宮純一です。僕のワンシングはビデオクリップと一緒に作曲をすることです。まず、短いビデオクリップを撮影します。リズムや音の特徴に違いがあるものがいいですね。家に帰ったら、気に入った部分をカットして組み合わせて、ビジュアルのパターンを作っていきます。ワープを使って、映像に合ったテンポに合わせていきます。それから、音のグルーブを作り、最後は他の楽器を追加していきます。そして、完成させていきます。こういうビデオクリップを撮影して、聞くことだけじゃなく、見ることにも集中できれば、アイデアが広がります。全く新しい視点で音楽制作にアプローチすることができます。このビデオを見てくれてありがとう。チャンネル登録をお願いいたします。\\n\\n',\n",
              " \"Video Title: One Thing Dennis DeSantis – Humanizing clips\\nTranscription:\\n Hi, I'm Dennis, and this is one thing I do to put a little life or humanness back into strictly quantized clips. So I have a pattern here that's snapped directly to the grid. If I want to create a little bit of smear between the notes and these chords, I drag in a groove file. It doesn't matter which one, because I'm not using the timing offset at all. I apply it to the clip, and then I turn up the randomization amount. So if I turn it up to 100, it kind of falls apart. It sounds like I programmed this drunk. But I find that if I use about 10%, I get a nice offset between the notes and the chords. Often what I'll do is duplicate the track then, and take the groove off the second version, and then pan them a little bit. So then I get this offset between where they are in the stereo field, and also between the strictly quantized and the randomized version. And this is a nice way to get a little life back into these patterns without having to do a lot of work. Thanks for watching! I'll see you guys in the next video!\\n\\n\",\n",
              " 'Video Title: One Thing XLII – Destroying everything\\nTranscription:\\nはい、Siriです。俺のワンティングは、架空な人物になりきって自分の曲を破壊することです。ルールは一つしかない。全てをぶっ壊す。この曲はちょっと微妙だなとか、モチベーションが上がらない時でも、ジョーカーみたいな別人格になりきって自分の曲を壊していきます。曲自体が良くならなくてもいい。むしろダメになってもいい。これはアレンジメントをむちゃくちゃにするところです。トラック全体を四分音符でリピートさせて、所々リバースしてオトメーションかけます。ギターエフェクトもかけまくったり、わずかな隙間を切り取ってグリッチにしたり、ピッチのない音にオートチューンを大量かけたり、ゲート嫌いのお声を映 remake すると、頻度ハードちゃんと繊細にハイブリッドリバーをココに持ってきます。ガ 약純正にですね。で、この前作ったデジタルを作ってきてるやつ。ここで順番で自分の 있으96 、ガ、そしてその後 ゲットオートをを、一応昨日の方と同じように制作されてしまった2つのアルバムのようにですねなんだよね?って事から、今仕入れが大変で、ここのサイトに変えてみいとった Judy beautiful、シリーズの気持ちやルールなんとも思わない別人格に曲をこうしてもらうことで面白い展開や新しい技に出会えますこのおかげで壁に当たらずずっと楽しくてクリエイティブなままでいらっしゃいますチャンネル登録をお願いいたします\\n\\n',\n",
              " \"Video Title: One Thing Catnapp – Against instinct\\nTranscription:\\n Hi, I'm Ampi. And one thing I do when I get stuck is try and shift my perspective a little bit by choosing the sound that I like least. It can be a kick, a loop or a synth. So sometimes I just go through the presets and ask myself which one would I never use in my music? When I find it, I start a new track based on that sound in order to begin somewhere different. Developing habits can create a solid concept for your music but sometimes it helps to take a different path. One, two, three boys saying they have a choice when I'm missing my voice in the middle of the noise.\\n\\n\",\n",
              " \"Video Title: One Thing illGates – Sampling chaos\\nTranscription:\\n Hi, I'm Ill Gates and one thing that I love to do is make chaotic recordings of parameter movements while resampling them. I call the file that results a mud pie. To begin, I route my source audio into a new audio track for sampling. Here I'm using echo but any effect or combination of effects will work as long as it's generating chaos. I disable input filtering, turn the feedback down, change the dry wet to a hundred percent, and then begin recording while drastically manipulating the time parameter. Finally I'll go through and chop up all the best bits and cut them against the original track to make little fills and edits. I use this mud pie technique all the time. It's a great way to generate fresh ideas and it saves me countless hours of editing automation.\\n\\n\",\n",
              " \"Video Title: One Thing Dot – Subtractive sampling\\nTranscription:\\n Hi, I'm Kate, and one thing I like to do is subtract from musically dense loops and sampled material. For this example, I'll start with this vocal sample. I have some saturation and delay to further enhance the space and tone. I like the way this sounds on its own, but in context with the other tracks, it's too heavy and distracting. At this point, I freeze and flatten the sample track, and look at where the waveform sits in relationship to the other elements in the arrangement. I cut away sections of the sample from parts of the track that have a lot of activity, leaving only small pieces sprinkled in between. Sometimes I do the opposite, layering parts of the vocal on top of specific notes or beats that I want to emphasize, and cut away the rest. This technique is a great way to add rich samples to my music, and turn them into something unique without overpowering the rest of the song.\\n\\n\",\n",
              " \"Video Title: One Thing Fake Blonde – Chopping with chance\\nTranscription:\\n Hi, I'm Mason, and one thing I do to keep things moving is use chance to create unexpected sample chops. Here I have this vocal sample and I'm trying to find interesting bits by chopping it manually. But when I work this way, I often feel boxed in by the left-to-right way of thinking. If I hit this wall, I drag in simpler, drop in the sample, and draw a few trigger notes. To make sure I don't miss anything nice, I route the audio from my simpler to a new audio track so I'm ready to record. Then I insert the LFO device after simpler, adjust the shape of the waveform, and map it to the start parameter. I play with the LFO's depth, offset, and rate until I like what I hear and hit record. To add some movement, I'll use the LFO to create a new sample. I add another LFO and do the same for parameters like transpose and filter frequency. The results are different each time I do this because there's so many settings I can play with. This workflow forces me to give up control and use what the sampler gives back. It helps to bypass muscle memory and uncover fresh ideas. Now, I quickly finished a thing with my physical pretty please subscribe to Boomeranger TV so you can run classes without having to recipe. Thanks so much for watching!\\n\\n\",\n",
              " \"Video Title: One Thing John Kameel Farah – Building scales\\nTranscription:\\n Hi, I'm John and one thing I like to do when I improvise is to slowly build up a giant weird scale. I usually start off with a drone in the left hand, which can be anything, dissonant or consonant. Then I start to meditate on a few notes and slowly add to it, as if I'm an archaeologist dusting off sand to reveal an object. I uncover a large asymmetrical scale. It's like a giant staircase where each step is a totally different size. What I love about it is that I can follow my intuition and it comes out completely different every time. As I open up my Rolling Stone I'm able to go through everything in a questioned type of way. I recognize watching this video every two weeks. I want to express myself and say to the world in the tv program that I struggle to compare with people just because of the правда. The truth is I understand best! It's telling stories, LEARNS something! that's surely about estate. Om. God bless you all!\\n\\n\",\n",
              " \"Video Title: One Thing Arbour – Recording the speaker\\nTranscription:\\n Hi, I'm Hans, and one thing I like to do is record my mix out of my speakers and layer it under the original mix. Here I have two audio tracks. One is my full song, and the other is a microphone track. First, I position the microphone about one to two feet away from my speaker, depending on how much of the room I want to capture. Then, I arm the microphone track, set my levels, and record the entire song. I record the whole track, and then I add EQ to cut low frequencies, then saturation, and sometimes even a little reverb. Now, on the recorded track, I add EQ to cut low frequencies, then saturation, and sometimes even a little reverb. Finally, I adjust the parameters to blend everything together. This is an easy way to take my in-the-box mix and make it less predictable and more organic. I like to set a reverb theme to a low-light setting on 40 karats duos, and widest frequencies to get more\\n\\n\",\n",
              " \"Video Title: One Thing Charlie McClean – Practice mindfulness\\nTranscription:\\n Hi, I'm Charlie, and one thing that I like to do to help artists nurture their creativity is using a simple mindfulness technique. Spend an hour each day creating, without thought or concern for its quality or its purpose. If you're a songwriter, write free-form words and prose. Don't think, don't re-read or edit. Let it all go. As a producer, experiment with sound design, but don't save anything, even if you like it. For instrumentalists and vocalists, explore free-form improvisation, being spontaneous and focusing on the journey, not the result. Then, go back to your normal work habits, but keep in mind the sense of freedom you experience when you create without constraint or care. Give your mind permission to accept that your creativity is endless, and that there will always be more. If you practice this a little every day, then you'll never lose touch with what inspires you.\\n\\n\",\n",
              " 'Video Title: One Thing Ayako Okamura – Tuned ambience\\nTranscription:\\nこんにちは、あやこです。私のワンシングは、適当に録音した音を音階のある楽器に変えることです。まず、換気音を取ります。明確な音程がなくても大丈夫です。鳥の鳴き声、水の音、何でもOKです。次に、EQを使います。帯域の狭いバンドパスフィルターをかけて、基本となる音程を引き立てます。LFOは動きを加えるのに便利です。今度はその通りサンプリングして、サンプラーにドラッグしてからエフェクトをかけます。そうすると、音程のある楽器みたいに演奏できるようになります。スペクトラムを眺めながら、特定の周波数を増幅させることで、どんな音でも面白い楽器に変えることができます。可能性は無限大です。お手軽にどのような音か楽器を organisations.comで調べnychパスで reconstruction, facilities,コンテンツの要件に関手を支払うことになります。\\n\\n',\n",
              " \"Video Title: One Thing Ulises Lozano – Combining tracks\\nTranscription:\\n Hi, I'm Uli. One thing I do when I get stuck working on a project is to combine it with another sketch that has a completely different tempo and style. So right now I'm working on this reggaeton cumbiaton beat. And here I have a sketch that I was working on. It's a techno sketch. This is how they sound combined. Or for example I have a drum and bass sketch that I was previously working on too. And this is how they sound combined. So this will bring something totally new, fresh and unexpected to the project, which will trigger more inspiration to come. So let's continue.\\n\\n\",\n",
              " \"Video Title: One Thing Rachel K Collier – Embracing nonsense\\nTranscription:\\n Hi, I'm Rachel and one thing I like to do when I'm producing a track is to break out of the serious producer mindset by recording nonsense into my microphone. Sometimes I've got a basic beat and a bass line like this. But I'm not always sure how to move forward. Then I try to get into a playful mindset. I look around my place and grab random things to sample. Try not to think about frequency range, dynamics and any other musical details. I record playing these things to my track. Then I do the same with my voice. Just being silly. I went to the shop and bought some biscuits. I drag the audio into simpler, set it to slice mode and search for sounds that are not recognisable. Then I turn on the audio. I turn it into a rhythm. Finally, I'll repeat the process a few times until I can't find any new textures. For me, this playful mindset is a great way to get new ideas quickly and leads to a very productive session where I'm kinder to myself and I just have more fun making music. Finally, I try to focus on my music these days. I enrich my mind with五 loan Pierre Bor месяц & Feliz Natal's Candidate List Cameras Environment Automotive Opera Music\\n\\n\",\n",
              " \"Video Title: One Thing KMRU – Sampling broken instruments\\nTranscription:\\n Hi, I'm Kamaru and one thing I like to do is to sample broken instruments. I'm always searching for broken or binded instruments to go there and capture their sound. Each of them has its own kind of magic. Because the tuning is usually off, I'm focusing more on the percussive sounds. When I'm back, I'll layer the samples with other sounds like synths, clean instrument samples or fill recordings to create unique textures. Using these sounds helps me to stay open-minded, to think beyond chord progression and keys and to make the process of creating limitless. Fun fact, I have a Robert set-up where I can record items as qualquer 1962 was coming my way. I recorded funky beats several times but that type was not 好 dataset Remember we had to that type a few years ago 3\\n\\n\",\n",
              " \"Video Title: One Thing Chuck Sutton – Expression with foley\\nTranscription:\\n Hi, I'm Chuck, and one thing I like to do is map velocity to controls other than volume so my percussion samples can feel more alive. First, I go outside with my phone to capture foley sounds. These can be rocks, trees, shells, anything I can strike or rustle. Now in Live, I drag my recordings onto a new audio track, right-click and turn off my grid, and split the audio clips to separate my favorite parts. When I'm done, I open up a blank sampler, highlight the clips I divided, and drag them in. Then, I click on the Zone tab to find the green Key Editor, select All, and drag both sides to the middle to the letter R. I have 10 samples, so I click on the bottom zone and use the right arrow key to move it to the 10th space. This way, when I right-click and select Distribute Ranges Equally, all 10 samples are assigned to their own MIDI note. Now, in the MIDI tab, I set the velocity destination to Pitch, and set the velocity amount to around 50% so softer taps feel deeper, and harder taps feel brighter. To take it one step further, I can also select Time as the destination and set it to 100% to play the speed of the envelopes. It becomes very noticeable when I bring the Sustain all the way down and shorten the Decay. Finally, for a nice stereo effect, I set the Random Pan percentage just above 10%, and now it's starting to fly around my ears. Now, it's starting to fly around my ears. Mapping velocity to textual parameters makes creating feel more tactile, and adds realism in an effective way. Let's see how this works. Let's try it out. Let's see how it works. Let's try it out. Let's try it out.\\n\\n\",\n",
              " \"Video Title: One Thing Maya Shenfeld – Composing with overtones\\nTranscription:\\n Hi, I'm Maja and one thing I like to do is sketch out the harmonic spectrum of one fundamental as a starting point for a drone composition. First, I open this website and type in a fundamental frequency. I usually pick a frequency below 200 Hz. The site displays the corresponding overtone series and I write it down. Then, I create the harmonic series in Live, using Operator to generate sine waves. Next, I play with the balance and automate the levels, creating a progression. I often duplicate some of the partials and slightly detune them to create a beating. As a final step, I replace some of the sine waves with recordings of tunable instruments. This adds more grain, texture and complexity. I also add a little bit of a For me, unfolding the harmonic potential that is there in between equally tempered notes and scales is an inspiring way to begin a new composition. I'm using the same technique to create a new composition. I'm using the same technique to create a new composition.\\n\\n\",\n",
              " \"Video Title: One Thing Lucky Paul – Rhythmic chance\\nTranscription:\\n Hi, I'm Paul and this is my mobile studio. One thing I like to do is to make rhythms with chants. I make some random noise with percussion and instantly loop it. I've customised my set so I can react and add to the loop on impulse. I like to keep my music as live and improvised as possible. And this method adds an element of surprise and keeps me inspired. Let's follow this rest of the way and stay on track. If we've dropped a beat somewhere else, we could play the Calm song. This way we'll also follow that beat again. And we're new해엔 This week we will continue to quiet our voices with one minimal piece of music. So we will hit the still moments for an interval from time to time and we'll see more details in the course as well. Slaman This is great for twoyd\\n\\n\",\n",
              " \"Video Title: One Thing BlankForms – Delay as a Tone Shaper\\nTranscription:\\n Hey, I'm Blank Forms. One thing I like to do is use delay not as a delay but as a tone shaper. So here's the raw signal from this synth with no delay. I put the delay at 100% wet and the feedback all the way down, just hearing one instance of the delay. And as I bring the delay time up, it's going to get grittier and a bit noisier. And finally, I adjust the modulation, which moves the delay time and makes the pitch sway subtly. I can do the same thing with a software delay. I turn it to 100% wet and the feedback to zero, so that I'm just getting a single instance. I turn up the frequency of the delay and I switch the delay division to something quick, like 32nd or 64th notes. I turn up the wobble on the noise, sometimes a little bit of reverb. And finally, I use the filter to shape the frequency spectrum a bit. I love this technique because it gives the original signal, a feeling of age and degradation.\\n\\n\",\n",
              " \"Video Title: One Thing Sasha Perera – Chords to monophonic lines\\nTranscription:\\n Hi, I'm Sasha. One thing I like to do is to transform chords from my initial composition into monophonic lines. A lot of my songwriting ideas start very basic. By recording chords. And vocals. When I'm happy with the composition, I add bass. And other monophonic lines. I just go by ear and don't think about the harmonic function of each note. But they will naturally cover the notes. Contained in the chords. In the end, I mute or delete the initial chord track. I feel I write better songs on straight chords. But transforming them into monophonic lines gives me much more scope for complex arrangements. Simply exciting! If you have any questions, leave a comment. Or type, at least, I put a link into my hometown, the official message. That would mean a lot to me. See you next week, here in London. Thank you for watching! Make sure to subscribe for more videos. Can. Bye. Bye!\\n\\n\",\n",
              " \"Video Title: One Thing Kodh – Bespoke dice\\nTranscription:\\n Salut, je suis Ben et une chose que j'aime faire c'est utiliser un jeu de dés afin de limiter mes choix quand je commence un nouveau morceau. Il y a quelques années, j'ai acheté des dés vierges et j'y ai inscrit des éléments musicaux comme des plages de tempo, des clés et des instruments. Quand je veux commencer un nouveau morceau, je lance les dés et ils me disent par exemple que le tempo devrait être entre 120 et 130 bpm, que la chanson devrait être en La mineur et que je devrais commencer par jouer la basse. Il peut être difficile de faire ce que je fais, mais je vais essayer de faire ce que je fais. C'est difficile de commencer un morceau de zéro, mais en créant de cette manière, on évite de paralyser la décision de départ et c'est un plaisir instantané.\\n\\n\",\n",
              " 'Video Title: One Thing Lorena de Tena – Jamming with mutes\\nTranscription:\\n Hola, soy Lorena y una cosa que me gusta hacer es crear variaciones de patrones silenciando notas MIDI sobre la marcha. Empiezo improvisando y grabando un patrón MIDI, algo bastante denso y complejo. Luego creo una segunda pista MIDI y elijo la pista que acabo de grabar como entrada. Mientras estoy grabando en la segunda pista MIDI, selecciono grupos aleatorios de notas en la primera pista y los silencio con el patrón MIDI. Luego presiono la tecla 0. Cuando termino, elijo un sonido diferente para la pista que acabo de grabar. A veces lo uso solo, otras veces lo combino con la pista que acabo de grabar. Y luego lo hago con la pista original. Improvisar silenciando notas es una forma rápida y divertida de crear variaciones sutiles de patrones densos que luego se pueden combinar libremente en arreglos complejos y diversos. Ahora orinca la pista del que intercambia notas Nesbitt, escribir la ninja, hacer la guía con el patrón MIDI es una forma rápida así que no es una bold green Chemistry de…? Solo es una Barefoot對不對. Paso... ¿De qué pantería voy a hacer el patrón? No te lo puedo contar. Por eso lo tengo pegado. ¡Big... preachy girl! ¡ Raymonduga! ¡委encitorial! ¿Cómo se braceleta? Es difícil, peroановigante. Sí, por Suree pearce una.\\n\\n',\n",
              " \"Video Title: One Thing Frank Zerban – Drums to bass\\nTranscription:\\n Hi, I'm Frank and one thing I like to do is turn MIDI drum patterns into basslines. I often come up with a drum pattern I like, but then I struggle to find a bassline. When that happens, I just copy the MIDI clip from my drum track to my bass track. Often it sounds quite good already, so I just tweak a little until I feel it's perfect. This method is kind of a classic, but still a great shortcut to create basslines for your drums. Thanks for watching!\\n\\n\",\n",
              " \"Video Title: One Thing Ally Mobbs – Focused sampling\\nTranscription:\\n Hi, I'm Ali, and one thing I like to do is focus on one object and try to get as many sounds out of it as possible. I often go out and search for any kind of objects that make sounds. I'll use mics and contact mics to record the physical sounds. If it's a battery powered sound toy like this, I might open it up and modify it by circuit bending, and even add a line out. Afterwards, I will chop the recordings into drum racks, and integrate them into my music. When procrastinating with making music, this method helps me to still be productive and kickstart inspiration. I hope you enjoyed this video. If you did, please give it a thumbs up and subscribe to my channel.\\n\\n\",\n",
              " \"Video Title: One Thing Brian Funk – Record first\\nTranscription:\\n Hi, I'm Brian, and one thing I like to do is record my first moments with gear that I've never used before. Instead of reading the manual or watching tutorials first, I'll hit record and plug it in. I'm focusing on the sound, rather than how the pedal works. I like to run different sounds through it. It's not about perfection, it's about fun and exploration. After a while, I will listen back for some cool sounds. This technique is a great way to capture happy accidents I wouldn't normally make after learning how to use something properly. Great! So that's video! What a activating quality!\\n\\n\",\n",
              " \"Video Title: One Thing Aphir – Formant-shifting vocals\\nTranscription:\\n Hi, I'm Becky, and one thing I like to do is to use Live's Warping to alter the tone of my vocals so they don't sound like my regular singing voice. Here's my original lead vocal track. First, I solo the track, select the vocal clip, and activate Warp in Complex Pro mode. The further I transpose, the stronger the formant shifting. Usually, I choose about 5 semitones and play with the formant setting until I hear the vibe I'm after. Now, I freeze and flatten the track. Which allows me to pitch it back to the original. This slightly alters the formants again, so I adjust the formant parameter to keep the current vibe, or even get closer to what I want. Formant shifting my vocals gives me that uncanny valley sound that I like, and the freedom to alter my voice so that I can step into different moods and characters in my song. As for the different trazings, Ikeeping the same rhythm yet after soloing serves a separate fact of the sequence. In order to get the odd sounds<|ja|> out while changing the formant setting, is just a lot more excitement on my voice. Hopefully everyone was able to find balance of the process and to rounding out the columns for my vocals. If you Sang Para file liked my video that's totally up foroku. Also, click the Subscribe button to support my channel.\\n\\n\",\n",
              " \"Video Title: One Thing JWords – Alternating rhythms\\nTranscription:\\n Hi, I'm J-Wers and one thing I like to do is use a gate to create alternating rhythms. Here, I have a basic kick drum track as a starting point. Then, I experiment with my modules until I have something I like. Then, I'll record the audio and name it texture. The new track sounds a little busy alongside the original kick, so I add a gate to it. Open the side change section, activate the EQ, and set the key. Set it to high pass. Then, I bring the threshold down until I start to hear the loop come through the gate and adjust the return to taste. Next, I turn on the side change and select kick as the main source. Finally, I adjust the threshold once more until the kick and the texture track are alternating and not getting in each other's way. Then, I create a couple of stocking LAUGHS on the beat like it's theui neurotrips. This is a simple way to create alternating rhythms like it's kind of response to make my drums more transparent and interesting. How you can create question mark sounds Addut einfach Addut\\n\\n\",\n",
              " \"Video Title: One Thing Ricky Tinez – Rhythms in rhythms\\nTranscription:\\n Hey I'm Ricky and one thing I do is find new rhythms within rhythms I have already recorded. I start by recording the audio of an external synth, just a couple bars worth of movement. Then I change the track monitoring from in to auto and disarm recording so I can hear the track playback. In the sample editor I make sure that the loop button is activated. I highlight a section and hit command plus L to activate the loop and start to search for new rhythms. This creates different parts that are all unique yet match the vibe of the track. In the arrangement, I can extend or shorten the loop section by dragging the edge of the clip and it will repeat. Then if I want to change the track, I can do that. I can also change the length of the loop section to be smaller or smaller, or I can just change the length of the loop section to it up, I just split the clip by selecting Edit Split. I create different sections by selecting an even smaller portion of the loop and because I have the loop point set, it's always going to restart in time on the one. When I search for new parts within ideas I have already recorded, new elements emerge.\\n\\n\",\n",
              " \"Video Title: One Thing Stoni – Percussify\\nTranscription:\\n Hi, I'm Stoney. One thing I like to do for inspiration is grab a bunch of loops, throw them into Ableton Live, and go into Beats Warp Mode and start manipulating the parameters. Let me show you guys how I get that done. So I come into the browser and I audition different loops. Grab the loop, drop into an audio clip. Make sure Warp is on. It's a loop. I come here, assign that to Beats, and make sure I'm in one shot. And then I start manipulating the parameters. And automatically you can hear the difference in the loop. It becomes very percussive and it cuts out all the different sounds that's inside of the loop. Then I'll come back up and listen. And then choose what feels good to me. Okay. Okay. I like it right about there. I always do that in the beginning. It helps me to listen to loops differently until I know where to take them. The next time you hear the loop, you end up with a loop that sounds pretty good. Yep. The next time you hear this sound, you'll always feel like you're listening. Next time you hear something, call or go anywhere near the loop. You can see how much of the loop you've pulled. Oh, no. It didn't work. It didn't work.\\n\\n\",\n",
              " \"Video Title: One Thing Cloudchord – One loop per chord\\nTranscription:\\n Hi, I'm Cloud Chord, and one thing I like to do is create a separate loop for each chord. Here I have a beat with a simple two-chord progression and a guitar track. First I drop a looper onto the guitar track, set the length, and rename it to match the chord that I'll play, which is C major. I place a loop bracket around the length of the first chord and press record. The highlighted icon shows that looper is in overdone mode. That means I can do a few passes and add some variety each time. Then I drag the loop onto a new audio track. I place a second looper on the second looper. I place a looper on my guitar track and repeat the process for the second chord, which is D minor. Sometimes I experiment with the looper's parameters. I drag the recording to my loops channel and label the clips accordingly. Now I have loops saved in the loopers above so I can chop and warp the audio on my loops channel to create complex layers. I like this method because it gives me a unique soundscape for each chord and creates a unique sound. I armshear proclaimed by a sweetness of forcément Once I am good enough with the loops, I get an Mete talk participation technique with this technique. Such a quick lull accuses me of what these一起 coral Peninsula sounds suddenly sound. I am trying to make these and old musical instruments they can feel comfortable after they got squished. Xing 셋 You need a new lot to have both a luthier and a orchestra instrument.\\n\\n\",\n",
              " \"Video Title: One Thing Mike Parvizi – Shifting loops\\nTranscription:\\n Hey, I'm Mike. One thing I've found is that auditioning random loops from an unquantized sample can be a great way of sparking ideas to start a song. I'll start by recording myself playing bass for a few minutes. Then I'll go back and select one or two bar phrases with arbitrary start points to see how they sound. I'll also record the rest of the song. In my experience, the best ideas come out when you take a step back and let the magic happen. And this technique is a great way of letting the chord progressions write themselves. traveler A b u w s e m a b l d y c p s o\\n\\n\",\n",
              " \"Video Title: One Thing Ninajirachi – Textured drum layers\\nTranscription:\\n Hey I'm Nina and one thing I like to do is use field recordings to add texture to my drums. I start by recording ambient sounds. I'm mostly interested in textures with an organic quality. When I'm back, I open the audio file in Simpler, chop it up in slice mode, and copy my MIDI drum clip to this track so that each drum note triggers a different slice. Finally, I adjust the transient detection sensitivity, transpose the MIDI, and play with filter and envelope settings until I hear something I like. I'm using the Simpler to add a layer of sound to my drum. Layering sounds from the outside world makes my drums less predictable and it helps me to glue my arrangements together.\\n\\n\",\n",
              " \"Video Title: One Thing Rokeya – Searching for rhythmic sounds\\nTranscription:\\n Ciao, sono Alessandra e una cosa che mi piace fare è uscire all'aperto per catturare suoni ritmici. Amo fare il feed recording, ma camminare senza un piano preciso spesso non mi sembra molto produttivo. Quando mi concentro su qualcosa di concreto, come suoni ritmici, ho più idee su cosa cercare. Improvvisamente trovo tutti i tipi di ritmi. Veloci, lenti, sorprendenti o scontati. Tornate in studio, selezioni i miei preferiti. Inizio a esplorarli attraverso looping, reverse, pitching e aggiungendo effetti. Contrattanti soccer che raccoglie il null tejler V свет con la AGA web sortate in battle by doenfyrdàn e ad자щение Jah prefere oliertà al務oa temporary dispone pelle GG&EJM Qui todde che mi credo come domini mie pastor yere sono più legge fare leestre. Andai a questa diretta mentre lui con il freak hardb šichara dure uomini retro omica e veramente cevolo ir객ore retta alla mia musica con ilد's arg were Ek guardare la sua gara con un buon. La scoperta invitata al mare quella del lanciere non serve quindi io sцевolare dalla tastiera in basso dei rossetti. Dopo aver risposto alle padelle che abbiamo fatto andato nel suo auto non sarebbe a non fare più più di sokedi.\\n\\n\",\n",
              " 'Video Title: One Thing Mans O – Building complex rhythms\\nTranscription:\\n Hola, soy Roman, y una cosa que me gusta hacer es crear polirritmos en la vista Arrangement de Live. Primero, empiezo con algunas pistas vacías. Acorto la barra de loop a medio bar y la rejilla a un 32avo. Entonces, escojo algunos samples de percusión, los llevo al principio del track y corto los samples largos a un 16avo aproximadamente. Selecciono una sección un poquito más larga que el primer sample y lo duplico repetidamente con comando D hasta que el loop se llena. Hago lo mismo con el siguiente sample, seleccionando una largada distinta, definiendo el ritmo con la convivencia de largadas. Para crear ritmos más complejos o métricas distintas, cambio la rejilla a tresillos. Finalmente, muevo los samples y muteo algunos hasta que estoy contento con el resultado. Me gusta este método porque aumenta mi escucha y me ayuda a crear grooves que son interesantes, corporales y buenos puntos de partida para construir tracks enteros. Si quieres ver más vídeos de los métodos de la música, puedes verlos en mi canal de YouTube. Si quieres ver más vídeos de la música, puedes verlos en mi canal de YouTube. ¡Suscríbete al canal! ¡Suscríbete al canal! ¡Suscríbete al canal!\\n\\n',\n",
              " \"Video Title: One Thing David Heartbreak – Naming first\\nTranscription:\\n Yo, my name is Heartbreak and one thing that I like to do to escape writer's block is I like to name my songs before I make them. I have a perfect example for you. It's a track that's called The Feels. Let's take a listen to it. Now I decided to make an IDM track called The Feels. By naming my track in advance, the first thing that I know that I needed is I needed to have something that was emotional. I started with a chord progression with lush and ambient pads and once I had that going, I then added in a reggae guitar to give it even more of an organic vibe. The benefits of using this technique are it narrows my focus, it makes my sound design more cohesive and on top of that, it allows me to be more creative and have more fun and ultimately that's what it's all about. Like and subscribe for more videos, videos, and more. Head to Head VS Head ventilation for your vocals. See you next time! Bye!\\n\\n\",\n",
              " \"Video Title: One Thing Kingzquest – Randomizing chords\\nTranscription:\\n Hi, I'm Tiffany. One thing I like to do is use follow actions to discover inspiring chord progressions. I keep a MIDI library of chords in different keys, so I can easily just drag and drop them into my session. I place the chords in a follow action group. Here I've chosen D minor. I select them all, set the follow action to any, and record the results of these random progressions in arrangement view. So once I have something I like, I'll try out different inversions for smoother voice leading. This method helps me stop focusing just on what technically works, and get in touch with what inspires me. At first I thought a癣D is something that's still simple, simple but wissenable. But you can read up a little later... I've recently started reading music videos. And I know this is all a good way of socializing with music... So don't worry, go watch a piece when you have time to. You're good. You too.\\n\\n\",\n",
              " \"Video Title: One Thing Ed Bahonie – Finishing songs live\\nTranscription:\\n Hi, I am Ed Bahony and one thing I like to do is take my unfinished tracks from a studio situation and bring them into a live situation where I can finish them as part of my live performance. Sometimes when I'm writing a track it feels like it's almost there but then I find myself going around in circles trying to finish it by writing extra parts. Maybe the track doesn't need extra parts. Perhaps it only needs little variations here and there. That's where I stop myself and decide to explore these questions in a live situation where I can react instantly to the feedback of the audience. I might change the length or repetitions of parts, vary the lyrics a bit, throw in delays, distort the drums or play with dramatic filtering. This way I find out what works and what doesn't without overthinking it. Me playing an unfinished song live is a breakfast with me. brilliant way to finish a song. I think tonight I learned what this song is about.\\n\\n\"]"
            ]
          },
          "execution_count": 24,
          "metadata": {},
          "output_type": "execute_result"
        }
      ],
      "source": [
        "formatted_transcriptions # This is our list with the stored transcriptions. We will need to convert non english transciptions next"
      ]
    },
    {
      "cell_type": "code",
      "execution_count": null,
      "metadata": {
        "id": "Jy74Z6ZebE3g",
        "outputId": "d8b5fdc7-497d-44e7-c9be-204e58f7b500"
      },
      "outputs": [
        {
          "data": {
            "text/plain": [
              "\"Video Title: One Thing Splendore – Transformations\\nTranscription:\\n Ciao, mi chiamo Mattia e una cosa che mi piace fare è trasformare le tracce midi in audio, applicare degli effetti e poi trasformarle in midi così da ottenere nuovi riff. A volte mi trovo con un riff midi che mi piace, che però necessita di variazione e movimento. Quindi per prima cosa prendo questo riff midi, lo faccio entrare in una traccia audio e lo registro. Quando ho il mio sample audio inserisco una serie di effetti, delay, beat repeater o quello che mi ispira al momento, per rendere il suono più stratificato e interessante. Dopo frizzo la traccia audio e applico l'opzione converti melodie in una nuova traccia midi. Ottenuto il nuovo midi mi assicuro che sia nella stessa scala del brano, inserendo il device scale nella tonalità corretta. Il nuovo pattern può essere un ottimo aggiunto a variazione, oppure può fungere da contrapunto alla melodia originale. Se non sono ancora soddisfatto del risultato ottenuto, inserisco sezioni del nuovo pattern in quello originale e ripeto l'intero processo. Lavorare con una certa dose di casualità rende i miei pattern più interessanti, meno prevedibili e meno umani, e mi aiuta a trovare nuovi pattern melodici, suonando non avrei mai pensato. Per ottenere più informazioni sui pattern, iscriviti al canale e attiva la campanella. Grazie per la visione!\\n\\n\""
            ]
          },
          "execution_count": 43,
          "metadata": {},
          "output_type": "execute_result"
        }
      ],
      "source": [
        "formatted_transcriptions[4] # Find 1 non english example to test translation"
      ]
    },
    {
      "cell_type": "code",
      "execution_count": null,
      "metadata": {
        "id": "65XqUvR9bE3g",
        "outputId": "36b0bfba-61b1-42a2-c89b-f5f84affe80c"
      },
      "outputs": [
        {
          "name": "stdout",
          "output_type": "stream",
          "text": [
            "Defaulting to user installation because normal site-packages is not writeable\n",
            "Collecting deep-translator\n",
            "  Downloading deep_translator-1.11.4-py3-none-any.whl (42 kB)\n",
            "\u001b[K     |████████████████████████████████| 42 kB 716 kB/s eta 0:00:01\n",
            "\u001b[?25hRequirement already satisfied: requests<3.0.0,>=2.23.0 in /Users/abnormalisdope/Library/Python/3.9/lib/python/site-packages (from deep-translator) (2.31.0)\n",
            "Collecting beautifulsoup4<5.0.0,>=4.9.1\n",
            "  Downloading beautifulsoup4-4.12.3-py3-none-any.whl (147 kB)\n",
            "\u001b[K     |████████████████████████████████| 147 kB 2.4 MB/s eta 0:00:01\n",
            "\u001b[?25hCollecting soupsieve>1.2\n",
            "  Downloading soupsieve-2.5-py3-none-any.whl (36 kB)\n",
            "Requirement already satisfied: charset-normalizer<4,>=2 in /Users/abnormalisdope/Library/Python/3.9/lib/python/site-packages (from requests<3.0.0,>=2.23.0->deep-translator) (3.3.2)\n",
            "Requirement already satisfied: idna<4,>=2.5 in /Users/abnormalisdope/Library/Python/3.9/lib/python/site-packages (from requests<3.0.0,>=2.23.0->deep-translator) (2.10)\n",
            "Requirement already satisfied: urllib3<3,>=1.21.1 in /Users/abnormalisdope/Library/Python/3.9/lib/python/site-packages (from requests<3.0.0,>=2.23.0->deep-translator) (2.1.0)\n",
            "Requirement already satisfied: certifi>=2017.4.17 in /Users/abnormalisdope/Library/Python/3.9/lib/python/site-packages (from requests<3.0.0,>=2.23.0->deep-translator) (2023.11.17)\n",
            "Installing collected packages: soupsieve, beautifulsoup4, deep-translator\n",
            "Successfully installed beautifulsoup4-4.12.3 deep-translator-1.11.4 soupsieve-2.5\n",
            "\u001b[33mWARNING: You are using pip version 21.2.4; however, version 23.3.2 is available.\n",
            "You should consider upgrading via the '/Library/Developer/CommandLineTools/usr/bin/python3 -m pip install --upgrade pip' command.\u001b[0m\n",
            "Note: you may need to restart the kernel to use updated packages.\n"
          ]
        }
      ],
      "source": [
        "pip install deep-translator # First language library had issues using deep translator instead\n"
      ]
    },
    {
      "cell_type": "code",
      "execution_count": null,
      "metadata": {
        "id": "pvzLeHTBbE3g",
        "outputId": "a2fcd6bb-40ed-4da5-d4cc-3f8e873ca4fc"
      },
      "outputs": [
        {
          "name": "stdout",
          "output_type": "stream",
          "text": [
            "Detected language: it\n",
            "Original:\n",
            "Video Title: One Thing Splendore – Transformations\n",
            "Transcription:\n",
            " Ciao, mi chiamo Mattia e una cosa che mi piace fare è trasformare le tracce midi in audio, applicare degli effetti e poi trasformarle in midi così da ottenere nuovi riff. A volte mi trovo con un riff midi che mi piace, che però necessita di variazione e movimento. Quindi per prima cosa prendo questo riff midi, lo faccio entrare in una traccia audio e lo registro. Quando ho il mio sample audio inserisco una serie di effetti, delay, beat repeater o quello che mi ispira al momento, per rendere il suono più stratificato e interessante. Dopo frizzo la traccia audio e applico l'opzione converti melodie in una nuova traccia midi. Ottenuto il nuovo midi mi assicuro che sia nella stessa scala del brano, inserendo il device scale nella tonalità corretta. Il nuovo pattern può essere un ottimo aggiunto a variazione, oppure può fungere da contrapunto alla melodia originale. Se non sono ancora soddisfatto del risultato ottenuto, inserisco sezioni del nuovo pattern in quello originale e ripeto l'intero processo. Lavorare con una certa dose di casualità rende i miei pattern più interessanti, meno prevedibili e meno umani, e mi aiuta a trovare nuovi pattern melodici, suonando non avrei mai pensato. Per ottenere più informazioni sui pattern, iscriviti al canale e attiva la campanella. Grazie per la visione!\n",
            "\n",
            "\n",
            "\n",
            "Translated:\n",
            "Video Title: One Thing Splendore – Transformations\n",
            "Transcription:\n",
            " Hi, my name is Mattia and one thing I like to do is transform midi tracks into audio, apply effects and then transform them into midi so as to obtain new riffs. Sometimes I find myself with a midi riff that I like, but it needs variation and movement. So first I take this midi riff, make it fit into an audio track and record it. When I have my audio sample I insert a series of effects, delays, beat repeaters or whatever inspires me at the moment, to make the sound more layered and interesting. Then I frizz the audio track and apply the convert melodies to a new midi track option. Once I have obtained the new midi, I make sure that it is in the same scale as the song, inserting the device scale in the correct key. The new pattern can be a great addition to the variation, or it can act as a counterpoint to the original melody. If I'm still not satisfied with the result, I insert sections of the new pattern into the original one and repeat the entire process. Working with a certain amount of randomness makes my patterns more interesting, less predictable and less human, and helps me find new melodic patterns I never thought I would play. To get more information on the patterns, subscribe to the channel and activate the bell. Thanks for watching!\n"
          ]
        }
      ],
      "source": [
        "# Testing translation with 1 example\n",
        "\n",
        "from deep_translator import GoogleTranslator\n",
        "from langdetect import detect\n",
        "\n",
        "def translate_text(text, target_language='en'):\n",
        "    detected_language = detect(text)\n",
        "    print(f\"Detected language: {detected_language}\")\n",
        "\n",
        "    if detected_language != target_language:\n",
        "        try:\n",
        "            translated_text = GoogleTranslator(source=detected_language, target=target_language).translate(text)\n",
        "            return translated_text\n",
        "        except Exception as e:\n",
        "            print(f\"Translation failed: {e}\")\n",
        "            return text\n",
        "    else:\n",
        "        return text\n",
        "\n",
        "# Test translation on a specific line\n",
        "test_line = formatted_transcriptions[4]\n",
        "title, transcript_text = test_line.split('\\n', 1)\n",
        "translated_text = translate_text(transcript_text)\n",
        "\n",
        "# Display the results\n",
        "print(\"Original:\")\n",
        "print(test_line)\n",
        "print(\"\\nTranslated:\")\n",
        "print(f\"{title}\\n{translated_text}\")\n"
      ]
    },
    {
      "cell_type": "code",
      "execution_count": null,
      "metadata": {
        "id": "ZW_FhW6XbE3g",
        "outputId": "74d0a5be-923d-4fd5-fc14-7fe85dfca9aa"
      },
      "outputs": [
        {
          "name": "stdout",
          "output_type": "stream",
          "text": [
            "Translation failed: HTTPSConnectionPool(host='translate.google.com', port=443): Max retries exceeded with url: /m?tl=en&sl=es&q=Transcription%3A%0A+Hola%2C+soy+Roman%2C+y+una+cosa+que+me+gusta+hacer+es+crear+polirritmos+en+la+vista+Arrangement+de+Live.+Primero%2C+empiezo+con+algunas+pistas+vac%C3%ADas.+Acorto+la+barra+de+loop+a+medio+bar+y+la+rejilla+a+un+32avo.+Entonces%2C+escojo+algunos+samples+de+percusi%C3%B3n%2C+los+llevo+al+principio+del+track+y+corto+los+samples+largos+a+un+16avo+aproximadamente.+Selecciono+una+secci%C3%B3n+un+poquito+m%C3%A1s+larga+que+el+primer+sample+y+lo+duplico+repetidamente+con+comando+D+hasta+que+el+loop+se+llena.+Hago+lo+mismo+con+el+siguiente+sample%2C+seleccionando+una+largada+distinta%2C+definiendo+el+ritmo+con+la+convivencia+de+largadas.+Para+crear+ritmos+m%C3%A1s+complejos+o+m%C3%A9tricas+distintas%2C+cambio+la+rejilla+a+tresillos.+Finalmente%2C+muevo+los+samples+y+muteo+algunos+hasta+que+estoy+contento+con+el+resultado.+Me+gusta+este+m%C3%A9todo+porque+aumenta+mi+escucha+y+me+ayuda+a+crear+grooves+que+son+interesantes%2C+corporales+y+buenos+puntos+de+partida+para+construir+tracks+enteros.+Si+quieres+ver+m%C3%A1s+v%C3%ADdeos+de+los+m%C3%A9todos+de+la+m%C3%BAsica%2C+puedes+verlos+en+mi+canal+de+YouTube.+Si+quieres+ver+m%C3%A1s+v%C3%ADdeos+de+la+m%C3%BAsica%2C+puedes+verlos+en+mi+canal+de+YouTube.+%C2%A1Suscr%C3%ADbete+al+canal%21+%C2%A1Suscr%C3%ADbete+al+canal%21+%C2%A1Suscr%C3%ADbete+al+canal%21 (Caused by NewConnectionError('<urllib3.connection.HTTPSConnection object at 0x17f1d5430>: Failed to establish a new connection: [Errno 12] Cannot allocate memory'))\n"
          ]
        }
      ],
      "source": [
        "# Translating non-english text and create list will all tips in english\n",
        "\n",
        "def translate_text(text, target_language='en'):\n",
        "    detected_language = detect(text)\n",
        "    if detected_language != target_language:\n",
        "        try:\n",
        "            translated_text = GoogleTranslator(source=detected_language, target=target_language).translate(text)\n",
        "            return translated_text\n",
        "        except Exception as e:\n",
        "            print(f\"Translation failed: {e}\")\n",
        "            return text\n",
        "    else:\n",
        "        return text\n",
        "\n",
        "# List for the updated transcriptions\n",
        "updated_transcriptions = []\n",
        "\n",
        "for transcription in formatted_transcriptions:\n",
        "    title, transcript_text = transcription.split('\\n', 1)\n",
        "    translated_text = translate_text(transcript_text)\n",
        "    updated_entry = f\"{title}\\n{translated_text}\\n\"\n",
        "    updated_transcriptions.append(updated_entry)\n",
        "\n",
        "# Now, updated_transcriptions contains all entries with non-English texts translated to English\n"
      ]
    },
    {
      "cell_type": "code",
      "execution_count": null,
      "metadata": {
        "id": "q-CoPL5xbE3g",
        "outputId": "605ab2b4-92e5-4f27-aa15-11cc63583030"
      },
      "outputs": [
        {
          "name": "stdout",
          "output_type": "stream",
          "text": [
            "Video Title: One Thing Kenny Segal – Sampling tails\n",
            "Transcription:\n",
            " Hi, I'm Kenny. One thing that I've found is that sometimes the best thing to sample is the space in between the actual notes. Today I got my keyboard hooked up through some cool reverb and delay pedals to give us a nice tail to mess with. Now instead of using the attack, we're going to go further into the sound and use just the little bit of the tail where all the cool fuzz and texture is. By then taking this little piece of the tail into a simpler, we have a really interesting ethereal sounding pad. This trick can also be applied to drums. Sometimes I'll take a drum break and delete all the actual hits, just leaving the space in between the drums. I can then take those little bits of ambience and add more texture to my own drum sounds. Once it all comes together, these subtle things are really what help the whole groove sing.\n",
            "\n",
            "\n",
            "\n",
            "Video Title: One Thing Ben Casey – Re-slicing\n",
            "Transcription:\n",
            " Hi, I'm Ben. And one thing I like to do is change the way a sample's chopped up after I've already created a simple pattern. I've loaded this sample into Simpler, and I'm using the slicing mode to chop it up. Let's hear how this sounds with a really simple MIDI pattern. Now, I can improvise using the sensitivity. And while playing the same MIDI pattern, this will radically change the way the sample plays back. Let's hear how that sounds. I like to capture all these ideas into an audio clip on another track. This way, I have endless variations that I can use, all from one simple pattern. And, on some cabo, I can just loop or just pick up a novelty. Now, once I have all my Vic ‑‑ And I'm going to stop here with that guy, so you can hear the when I've just 내려ven something.\n",
            "\n",
            "\n",
            "\n",
            "Video Title: One Thing edIT – Creating narratives\n",
            "Transcription:\n",
            " Hi, I'm Ed. And one thing I like to do when I'm in the studio with the Glitch Mob is to create a narrative for our songs. So here's an old version of our song Head Full of Shadows. When we came up with this section it reminded us of a chase scene from the video game Prince of Persia. Then we came up with this intro where the feeling is sad and maybe the princess is captured but at the same time the arpeggio gives the feeling that something is about to happen. In this bridge section we envisioned the prince infiltrating the camp knocking out the guards and stealthily making his way to the princess's tent. When we think of music as a narrative in this way, it helps us to turn our songs into stories. We turn our songs into stories with Edit\n",
            "\n",
            "\n",
            "\n",
            "Video Title: One Thing Computo – Generate rhythms\n",
            "Transcription:\n",
            " Hi, I'm Joe, and one thing I like to do is use OneNote and some MIDI effects to generate weird beats. First I'll load up a drum kit and create a one bar long MIDI note on C1 in a new clip. Next I'll drop the Chord MIDI effect on the track so that OneNote in the clip generates a bunch of notes. Then I'll add the arpeggiator to sequence those notes over time, altering the style for completely unique results. On a synth this would sound like arpeggios, but with drums and percussion this is a great way to generate complex rhythms that I might never imagine myself. Now, let's add some more. Added Street Dance\n",
            "\n",
            "\n",
            "\n",
            "Video Title: One Thing Splendore – Transformations\n",
            "Transcription:\n",
            " Hi, my name is Mattia and one thing I like to do is transform midi tracks into audio, apply effects and then transform them into midi so as to obtain new riffs. Sometimes I find myself with a midi riff that I like, but it needs variation and movement. So first I take this midi riff, make it fit into an audio track and record it. When I have my audio sample I insert a series of effects, delays, beat repeaters or whatever inspires me at the moment, to make the sound more layered and interesting. Then I frizz the audio track and apply the convert melodies to a new midi track option. Once I have obtained the new midi, I make sure that it is in the same scale as the song, inserting the device scale in the correct key. The new pattern can be a great addition to the variation, or it can act as a counterpoint to the original melody. If I'm still not satisfied with the result, I insert sections of the new pattern into the original one and repeat the entire process. Working with a certain amount of randomness makes my patterns more interesting, less predictable and less human, and helps me find new melodic patterns I never thought I would play. To get more information on the patterns, subscribe to the channel and activate the bell. Thanks for watching!\n",
            "\n"
          ]
        }
      ],
      "source": [
        "# Adjusting code for memory and timing out concerns\n",
        "\n",
        "import time\n",
        "from deep_translator import GoogleTranslator\n",
        "from langdetect import detect\n",
        "\n",
        "def translate_text(text, target_language='en'):\n",
        "    try:\n",
        "        detected_language = detect(text)\n",
        "        if detected_language != target_language:\n",
        "            translated_text = GoogleTranslator(source=detected_language, target=target_language).translate(text)\n",
        "            return translated_text\n",
        "        else:\n",
        "            return text\n",
        "    except Exception as e:\n",
        "        print(f\"Translation failed: {e}\")\n",
        "        return text\n",
        "\n",
        "def process_batch(transcriptions, start, end):\n",
        "    batch_translations = []\n",
        "    for transcription in transcriptions[start:end]:\n",
        "        title, transcript_text = transcription.split('\\n', 1)\n",
        "        translated_text = translate_text(transcript_text)\n",
        "        batch_translations.append(f\"{title}\\n{translated_text}\\n\")\n",
        "    return batch_translations\n",
        "\n",
        "# Parameters\n",
        "batch_size = 10\n",
        "pause_time = 2  # seconds\n",
        "\n",
        "# Batch processing\n",
        "updated_translations = []\n",
        "num_batches = len(formatted_transcriptions) // batch_size + (1 if len(formatted_transcriptions) % batch_size != 0 else 0)\n",
        "\n",
        "for i in range(num_batches):\n",
        "    start_index = i * batch_size\n",
        "    end_index = start_index + batch_size\n",
        "    updated_translations.extend(process_batch(formatted_transcriptions, start_index, end_index))\n",
        "    time.sleep(pause_time)  # Delay between batches\n",
        "\n",
        "# Check a few entries\n",
        "for item in updated_translations[:5]:\n",
        "    print(item)\n",
        "\n"
      ]
    },
    {
      "cell_type": "code",
      "execution_count": null,
      "metadata": {
        "id": "Y_PKf6HHbE3g",
        "outputId": "36e12ff5-c1e1-4af5-b313-f759694881dc"
      },
      "outputs": [
        {
          "data": {
            "text/plain": [
              "[\"Video Title: One Thing Kenny Segal – Sampling tails\\nTranscription:\\n Hi, I'm Kenny. One thing that I've found is that sometimes the best thing to sample is the space in between the actual notes. Today I got my keyboard hooked up through some cool reverb and delay pedals to give us a nice tail to mess with. Now instead of using the attack, we're going to go further into the sound and use just the little bit of the tail where all the cool fuzz and texture is. By then taking this little piece of the tail into a simpler, we have a really interesting ethereal sounding pad. This trick can also be applied to drums. Sometimes I'll take a drum break and delete all the actual hits, just leaving the space in between the drums. I can then take those little bits of ambience and add more texture to my own drum sounds. Once it all comes together, these subtle things are really what help the whole groove sing.\\n\\n\\n\",\n",
              " \"Video Title: One Thing Ben Casey – Re-slicing\\nTranscription:\\n Hi, I'm Ben. And one thing I like to do is change the way a sample's chopped up after I've already created a simple pattern. I've loaded this sample into Simpler, and I'm using the slicing mode to chop it up. Let's hear how this sounds with a really simple MIDI pattern. Now, I can improvise using the sensitivity. And while playing the same MIDI pattern, this will radically change the way the sample plays back. Let's hear how that sounds. I like to capture all these ideas into an audio clip on another track. This way, I have endless variations that I can use, all from one simple pattern. And, on some cabo, I can just loop or just pick up a novelty. Now, once I have all my Vic ‑‑ And I'm going to stop here with that guy, so you can hear the when I've just 내려ven something.\\n\\n\\n\",\n",
              " \"Video Title: One Thing edIT – Creating narratives\\nTranscription:\\n Hi, I'm Ed. And one thing I like to do when I'm in the studio with the Glitch Mob is to create a narrative for our songs. So here's an old version of our song Head Full of Shadows. When we came up with this section it reminded us of a chase scene from the video game Prince of Persia. Then we came up with this intro where the feeling is sad and maybe the princess is captured but at the same time the arpeggio gives the feeling that something is about to happen. In this bridge section we envisioned the prince infiltrating the camp knocking out the guards and stealthily making his way to the princess's tent. When we think of music as a narrative in this way, it helps us to turn our songs into stories. We turn our songs into stories with Edit\\n\\n\\n\",\n",
              " \"Video Title: One Thing Computo – Generate rhythms\\nTranscription:\\n Hi, I'm Joe, and one thing I like to do is use OneNote and some MIDI effects to generate weird beats. First I'll load up a drum kit and create a one bar long MIDI note on C1 in a new clip. Next I'll drop the Chord MIDI effect on the track so that OneNote in the clip generates a bunch of notes. Then I'll add the arpeggiator to sequence those notes over time, altering the style for completely unique results. On a synth this would sound like arpeggios, but with drums and percussion this is a great way to generate complex rhythms that I might never imagine myself. Now, let's add some more. Added Street Dance\\n\\n\\n\",\n",
              " \"Video Title: One Thing Splendore – Transformations\\nTranscription:\\n Hi, my name is Mattia and one thing I like to do is transform midi tracks into audio, apply effects and then transform them into midi so as to obtain new riffs. Sometimes I find myself with a midi riff that I like, but it needs variation and movement. So first I take this midi riff, make it fit into an audio track and record it. When I have my audio sample I insert a series of effects, delays, beat repeaters or whatever inspires me at the moment, to make the sound more layered and interesting. Then I frizz the audio track and apply the convert melodies to a new midi track option. Once I have obtained the new midi, I make sure that it is in the same scale as the song, inserting the device scale in the correct key. The new pattern can be a great addition to the variation, or it can act as a counterpoint to the original melody. If I'm still not satisfied with the result, I insert sections of the new pattern into the original one and repeat the entire process. Working with a certain amount of randomness makes my patterns more interesting, less predictable and less human, and helps me find new melodic patterns I never thought I would play. To get more information on the patterns, subscribe to the channel and activate the bell. Thanks for watching!\\n\"]"
            ]
          },
          "execution_count": 57,
          "metadata": {},
          "output_type": "execute_result"
        }
      ],
      "source": [
        "updated_translations[:5] # This is our completed translation. Next let's clean things up and put this into a csv"
      ]
    },
    {
      "cell_type": "code",
      "execution_count": null,
      "metadata": {
        "id": "Nel-0dWNbE3g"
      },
      "outputs": [],
      "source": [
        "# Cleaning text removing \\nTranscription:\\n mistake\n",
        "\n",
        "# Function to format each entry\n",
        "def format_entry(entry):\n",
        "    parts = entry.split('\\nTranscription:\\n')\n",
        "    return [parts[0].strip(), parts[1].strip()] if len(parts) == 2 else [\"\", \"\"]\n",
        "\n",
        "# Format all entries\n",
        "formatted_entries = [format_entry(entry) for entry in updated_translations]"
      ]
    },
    {
      "cell_type": "code",
      "execution_count": null,
      "metadata": {
        "id": "LEyThLMCbE3g",
        "outputId": "8a691d30-a707-4896-c047-01a59fe50d84"
      },
      "outputs": [
        {
          "data": {
            "text/plain": [
              "[['Video Title: One Thing Kenny Segal – Sampling tails',\n",
              "  \"Hi, I'm Kenny. One thing that I've found is that sometimes the best thing to sample is the space in between the actual notes. Today I got my keyboard hooked up through some cool reverb and delay pedals to give us a nice tail to mess with. Now instead of using the attack, we're going to go further into the sound and use just the little bit of the tail where all the cool fuzz and texture is. By then taking this little piece of the tail into a simpler, we have a really interesting ethereal sounding pad. This trick can also be applied to drums. Sometimes I'll take a drum break and delete all the actual hits, just leaving the space in between the drums. I can then take those little bits of ambience and add more texture to my own drum sounds. Once it all comes together, these subtle things are really what help the whole groove sing.\"],\n",
              " ['Video Title: One Thing Ben Casey – Re-slicing',\n",
              "  \"Hi, I'm Ben. And one thing I like to do is change the way a sample's chopped up after I've already created a simple pattern. I've loaded this sample into Simpler, and I'm using the slicing mode to chop it up. Let's hear how this sounds with a really simple MIDI pattern. Now, I can improvise using the sensitivity. And while playing the same MIDI pattern, this will radically change the way the sample plays back. Let's hear how that sounds. I like to capture all these ideas into an audio clip on another track. This way, I have endless variations that I can use, all from one simple pattern. And, on some cabo, I can just loop or just pick up a novelty. Now, once I have all my Vic ‑‑ And I'm going to stop here with that guy, so you can hear the when I've just 내려ven something.\"],\n",
              " ['Video Title: One Thing edIT – Creating narratives',\n",
              "  \"Hi, I'm Ed. And one thing I like to do when I'm in the studio with the Glitch Mob is to create a narrative for our songs. So here's an old version of our song Head Full of Shadows. When we came up with this section it reminded us of a chase scene from the video game Prince of Persia. Then we came up with this intro where the feeling is sad and maybe the princess is captured but at the same time the arpeggio gives the feeling that something is about to happen. In this bridge section we envisioned the prince infiltrating the camp knocking out the guards and stealthily making his way to the princess's tent. When we think of music as a narrative in this way, it helps us to turn our songs into stories. We turn our songs into stories with Edit\"],\n",
              " ['Video Title: One Thing Computo – Generate rhythms',\n",
              "  \"Hi, I'm Joe, and one thing I like to do is use OneNote and some MIDI effects to generate weird beats. First I'll load up a drum kit and create a one bar long MIDI note on C1 in a new clip. Next I'll drop the Chord MIDI effect on the track so that OneNote in the clip generates a bunch of notes. Then I'll add the arpeggiator to sequence those notes over time, altering the style for completely unique results. On a synth this would sound like arpeggios, but with drums and percussion this is a great way to generate complex rhythms that I might never imagine myself. Now, let's add some more. Added Street Dance\"],\n",
              " ['Video Title: One Thing Splendore – Transformations',\n",
              "  \"Hi, my name is Mattia and one thing I like to do is transform midi tracks into audio, apply effects and then transform them into midi so as to obtain new riffs. Sometimes I find myself with a midi riff that I like, but it needs variation and movement. So first I take this midi riff, make it fit into an audio track and record it. When I have my audio sample I insert a series of effects, delays, beat repeaters or whatever inspires me at the moment, to make the sound more layered and interesting. Then I frizz the audio track and apply the convert melodies to a new midi track option. Once I have obtained the new midi, I make sure that it is in the same scale as the song, inserting the device scale in the correct key. The new pattern can be a great addition to the variation, or it can act as a counterpoint to the original melody. If I'm still not satisfied with the result, I insert sections of the new pattern into the original one and repeat the entire process. Working with a certain amount of randomness makes my patterns more interesting, less predictable and less human, and helps me find new melodic patterns I never thought I would play. To get more information on the patterns, subscribe to the channel and activate the bell. Thanks for watching!\"],\n",
              " ['Video Title: One Thing Lyra Pramuk – Record at different tempos',\n",
              "  \"Hi, I'm Lyra, and one thing I like to do is record my voice at a different pitch and speed from my song tempo. The tempo of this song is 74 BPM, and the key is A minor. I used this free online tool to enter the tempo, and how many semitones I'd like to transpose while recording. And I see that I have to record at 55.437 BPM. I set live to this tempo, and switch all audio clips to re-pitch mode to handle the transposition to E minor automatically. When I got a feel for the new key and tempo, I start recording. When finished, I make sure the recorded audio is in re-pitch mode, and go back to the original tempo. For comparison, this is a vocal track I recorded in the original tempo. And this is the track I just recorded at a slower speed. And this is the track I just recorded at a slower speed. I love this technique, because it allows me to record my voice at a slower speed. And because the sounds feel like they come from a different voice and time. Often I take it even further and apply a formant shifting plugin at the end. For me. Me. Me. Me. Me. Me. Me. Me. Me. Me. Me. Me. Me. Me. Me. Me. Me. Me. Me. Me. Me. Me. Me. Me.\"],\n",
              " ['Video Title: One Thing Owen Ross – Escaping habits',\n",
              "  \"Hi, I'm Moen, and one thing I like to do is slice up my guitar playing to come up with new progressions. Sometimes when I write chord progressions, I feel like I'm repeating myself and playing similar patterns over and over again. When that happens, I record whatever progression comes to mind and slice it to the simpler. I play around with the slices until I find an original progression I like. Finally, I replay this on my guitar and record it. Playing an instrument for many years can make it easy to get stuck in habits and patterns. For me, it's a great way to get stuck in my own habits and patterns. For me, this method is a great way to break out of this cycle and come up with new ideas.\"],\n",
              " ['Video Title: One Thing Cora Novoa – Exploring structures',\n",
              "  \"Hello, I'm Cora Novoa and one thing I like to do is be inspired by the structure of other artists' themes and musical styles to create different structures in my compositions. When I feel stuck while working on a track or want to start from scratch, I import a track I like and analyze its structure. I divide it into separate blocks for each part. I name them and assign them a color. I put it on the first track of my project, mute it, and keep it there as a visual reference. Then, when I work on my own music, I create parts with similar structure and size. This method prevents me from being left on the track. And it allows me to create a structure that I like. It allows me to stay stuck for a long time in a loop or pattern and helps me create structured tracks with more variety.\"],\n",
              " ['Video Title: One Thing Whitemary – Sidechaining Auto Filter',\n",
              "  \"Hi, I'm Bianca and one thing I like to do is use the autofilter to turn my vocal harmonies into rhythmic patterns. For the initial recording I use my voice with as many nuances and variations as possible. For example by inserting glissades or adding rhythmic noises or breathing. I merge the vocal tracks into a group and drag the autofilter. Then I create a MIDI track to control the autofilter via examine. And I insert the sidechain. I write a MIDI pattern. And I insert an organ sound without release. And I mute the track. Now I go back to the autofilter, click on the triangle, activate the sidechain and choose the audio of my MIDI track as the source. I set the enticement. Development at maximum, attack and release at minimum, I close the cutoff and set the gain until the MIDI track controls the filter. I go back and easily change the rhythm pattern by editing the MIDI notes. Finally I go back to the autofilter settings and try different adjustments. For example by moving the frequency. Or layering another rhythmic element using the LFO square in sync mode. Using the autofilter this way is much more versatile than the gate. It allows me to explore different vocal textures in a creative way. Furthermore, the mini graphone score is known to contribute to instrumental and unique results. I used 10 models, 10 sulfan exercises. I enjoyed finding myself with an obviousamaan and became more capable of exploiting self-ikh much more times. The best result of the'lletulə isata more often. These are 8 models insh Santos州 agricultural and filmed from the comparison spent 2 months in Milan and 12 years allii. intervene ordered projects in main derived fromственно from the second text ionized in locality. 투 assassin reversal of 5 euros of CO2, AirX the retireідo system of the 5, danach 20 euros of CO2. Thank you all.\"],\n",
              " ['Video Title: One Thing Jessica Dannheisser – Immerse yourself',\n",
              "  \"Hey everybody, I'm Jessica and one thing I like to do before I begin a new project is make sure I'm in the right headspace to start with. When I'm scoring a film or a TV show, I really need to commit to my idea before spending the time developing it and working it to picture because otherwise I might choose something that doesn't work and I'll end up wasting a lot of time that I don't have. So in order to make sure I'm in the right frame of mind before I begin, I'll do a lot of research around the subject, read the script, watch the film, before composing any music at all and then I'll leave it. I'll step away from it for a while. I trust my subconscious so I know that when I do come back and sit down, I'm in the right headspace. In my experience, spending time preparing saves you time in the end and helps you to get the right idea. It helps you to get the right idea. It helps you get creatively in tune with your subject.\"],\n",
              " ['Video Title: One Thing Robert Lippok – Sine wave percussion',\n",
              "  \"Hi, I'm Robert and one thing I do to build my own drum sounds is to apply a chorus to a sine wave. First I load a sine wave into Simpler. I set a short decay time and add a high pass filter. Usually I cut around 1.2 kHz but this depends on the mix. Then I add a chorus, just the default settings. It makes the sound shimmer and creates a stereo image. I have used this idea to create all kinds of percussive sounds for all my drums. I have used it for over a decade. Even common tools are always worth exploring.\"],\n",
              " ['Video Title: One Thing Yvonne Ringsdorf – Layering inspiration',\n",
              "  \"Hi, I'm Yvonne and one thing I like to do is to create weird layered loops to trigger new ideas. I start by importing some tracks I love. They don't have to fit each other and it doesn't matter if they fit my style. One sample will be my reference and I adapt tempo and tuning of the other ones. If the key of the reference is D major, I tune all major tracks to D major and all minor tracks to the related minor tune B minor. I layer the tracks and cut everything that's unnecessary until I have a nice, complex loop. I listen or jam to it and at some point I'll discover a hidden chord progression, a melody line or a rhythm for my own track. The loop itself won't end up in my final track, but it helps me to come up with new ideas.\"],\n",
              " ['Video Title: One Thing Katie Gately – Composing without listening',\n",
              "  \"Hi, I'm Katie, and one thing I like to do is produce with all of the audio muted. The first thing I do is turn my audio all the way down. Then I set my BPM and meter and create an 8-bar loop. A basic predictable rhythm is a good starting point, so I have a kick on the 1 and 3, a clap on 2 and 4, and hi-hats on the 16ths. Then I let my imagination guide me by choosing samples or loops based on their file names. After I've placed a bunch of sounds, I start editing using only my eyes. I also draw in automation and add different effects. Next, I send one of the tracks to some effects pedals, start recording, and tweak some parameters. I treat this audio the same way and delete what I don't want to hear. Finally, I turn up the volume to hear all of the sounds I have to work with, and continue to edit the material using my ears. This strategy helps spark new ideas that energize my creativity. The unpredictability always surprises me. I'm also inspired by every ideas, because the music moves on depending on where I press them. Conทำ doesn't keep happen if music keeps the music moving while recording. separatist process has become so much easier. I need DENNIS for the files to be heard and Dintali is practicing greatly. Here it is, but it still doesn't work. When I'm finished with the first loop, I eyelashes it and Craig is like, Z Honors your alright? and bring the next loop. I know he looks kinda nice but makes it quite hard to do it. Hello? Z rentals go dancing, followingитstickaththeartplay and recheck you have been doing your channel with yourärenmagnets and leave them together.\"],\n",
              " ['Video Title: One Thing dolltr!ck – Evolving melodies',\n",
              "  \"Hi, I'm Daltryk, and one thing I like to do is use Follow Actions to generate new melodic ideas. Here, I've recorded a bunch of different vocal takes as multiple clips. I double-click a clip to open Clip View, and select all of the clips. I enable Follow Actions, and set Follow Action A to Other. I set the clips to Unlinked, and the time to 1 beat. Now, after every beat, Live will trigger a randomly selected clip on my vocal track. To make things more interesting, I duplicate certain clips, and alter their pitch. If I switch on Legato, the clip will play from its last stopped point, and creates a more fluid sounding vocal chop. In the end, I re-sample the vocal track, so that I can save the generated pattern of chops. I love this process because it creates an evolving loop of different melodies, and introduces a random element to my vocal editing. If you want to learn more about this process, you can check out the video description. If you're interested in learning more about this process, you can go to the link in the description. I hope you enjoyed this video and I hope you'll try it out. If you like this video, please consider subscribing to my channel. If you want to see more of my videos, please visit my blog, which is www.patreon.com. I'm Daltryk, and I'll see you in the next video. Bye!\"],\n",
              " ['Video Title: One Thing Sky Deep – Sonic notes',\n",
              "  \"Hi, I'm Sky, and one thing I like to do is translate my experiences from the outside world into my music. First, I explore places that sound interesting. I keep my phone handy so I can record sonic notes. Sometimes, I just mimic what I hear. Other times, something else happens. And I just add it to my note. Yee-yee. Ha-ha. And sometimes, I make a comment to remember what happened. So the girl passed me by, and she said, and I don't know what that actually means, because I don't know what language that was, but I can imagine looping that. Back home, I listen to my notes, and then reimagine the rhythms and melodies with my instruments. Come on! Come on, come on, come on, come on! Come on! Most of us spend too much time alone in the studio. Taking inspiration from the outside world triggers new ideas, and connects with the world. and connects with the world. and connects with the world. and connects with the world. and connects with the world. and connects with the world. and connects me and my music to real life. Come on!\"],\n",
              " ['Video Title: One Thing DJ Rap – Transform hit songs',\n",
              "  \"Hi, my name is DJ Rap and one thing I love to do is transform well-known songs into entirely new compositions. I start by playing a song I like, like Nirvana's Heart-Shaped Box. Transposing is the first step to get me into a different mindset and then I experiment with the chord progressions and play them in a different order. When I have a chord progression I like, I create a new vocal line. I've been there and I can't hold back With a silent pause and I finally fade to you Sometimes starting from scratch is hard. Creating songs this way keeps me inspired and also gets me composing in a fun and playful way. I've been there and I can't go back With a silent pause and I fade to black Lost my fear and I found some truth But it all makes sense when I finally get to you\"],\n",
              " ['Video Title: One Thing Alex St Joan – From rhythm to melody',\n",
              "  \"Hi, I'm Alex and one thing I like to do when writing counter melodies is decide on the rhythm first and only then on the pitches. When I have the chord structure and main melody for a song like this one, I create a new MIDI track, I select a percussive sound and record some improvised rhythmic ideas. I select my favourite parts, copy it to a new track and assign it to the next track. I add a tonal MIDI sound to it. This song is in E major, so I start by moving all notes to the root note E and sing along in the rhythm of the notes. When I've found a melody I like, I rearrange the pitches of the notes accordingly. I like this method because it feels freeing to focus on rhythm first and it helps me to hear things differently, which is always a good thing. When you forgive yourself If I forgive, if I forgive If you forgive, if you forgive T sait гол في\"],\n",
              " ['Video Title: One Thing Ella Zwietnig – Swap all sounds',\n",
              "  \"Hi, I'm Ella and one thing I like to do is to not focus on sounds while composing. When we are writing songs for our band Uma, we follow the concept that we'll swap every sound we use at first. So when I'm writing a bass line, I'll just grab a random bass sound and start playing. Later, when the writing is done, I'll discard all sounds I used and focus on finding and carving the best sound for each single track. Focusing on the songwriting before exploring the final sounds helps us to work faster and to write better songs. SubtIle isn't always a simple thing, so I attach because it's important to make it medios to every beat of music. That's a quick cover or a 자체, but it will generate the hundreds of linked anthology to the sounds that i made. If you follow my illustrations, you'll see that the работwear and dadurch Perovskies are keeping up with myifica. Music� and the routes taken in diedاخhale. This is exct deductible difference for the demo. There are a few more steps that i want to make, before i start. If you don't see them in already控 anteat CDC\"],\n",
              " ['Video Title: One Thing Yoav Shemesh – Creative warping',\n",
              "  \"Hi, I'm Yoav and one thing I like to do is add color to my sound using different warp modes. First, I record a few bars of electric keys. I cut the tail end of the MIDI clip and consolidate it so it ends in time. In this case, it's 4 bars. And click Divide To to change the entire clip to double speed. I freeze the track and flatten it to convert it to an audio clip. Now, I cut the tail end of the clip and hold Shift and drag it back to its original length, 4 bars. With the Warp Switch turned on, I try out different warp modes to introduce some effects. I add some interesting artifacts. I love this method because it creates sonically appealing textures without adding any plugins or effects. I also wanted to add a little bit of bass to the sound of the video. It's a really cool way to add some more detail to the sound. I'm going to end the video here. I hope you enjoyed this video. I hope you enjoyed this video. I'll see you in the next video. Bye, bye. Bye. Bye. Bye. Bye. Bye. Bye. Bye. Bye. Bye. Bye. Bye. Bye. Bye. Bye. Bye. Bye. Bye.\"],\n",
              " ['Video Title: One Thing Daedelus – Move!',\n",
              "  \"Hello, this is Daedalus. And one thing I like to do when the vibe isn't quite right is take the rhythm and put it into my body. When I'm not feeling it, when the vibe is gone, when the room isn't quite right, I find that my tracks are dead on arrival. So my trick is I try to incorporate movement in that static space. If you really want people to be moving, you should find a way to make the studio move. If it's rhythm you're working on, you should be feeling rhythm in your toes, rhythm in your hands, beating on pads, playing on instruments. Whatever it is that allows me to take that rhythm outside of that computer space and put it into my own body. If you do this right, I feel like you are the metaphor for your audience. You are the fan, you are the creator. There's no difference. And then the vibe returns, magically. Or it doesn't and I just have to dance more ridiculously.\"],\n",
              " ['Video Title: One Thing Tom Cosm – Cutting and combining',\n",
              "  \"Hi I'm Tom and one thing I like to do is combine several variations of a loop to get something more exciting. I start with a MIDI clip like this bassline. I resample it to a new audio track. Duplicate it and remove the audio from the duplication. Now I choose another sound, resample it and repeat the process about 10 times. I chop up each individual note and select and disable them all. Finally I combine different notes by enabling them individually until I have something that sounds unique. This technique is a fun and fast way to get more excitement into my production, produce happy little accidents and create sounds nobody has made before. I hope you enjoyed this video and I will see you in the next one.\"],\n",
              " ['Video Title: One Thing Daisy Chute – Trying new instruments',\n",
              "  \"Hey everybody, I'm Daisy and the one thing I like to turn to for creative inspiration is a new instrument. Either for an existing track or a song I'm starting from scratch. It can get a little overwhelming, all the different possibilities at a computer. So I like to turn instead to acoustic and analog instruments around me. Picking up a new instrument, I have to face all these technical challenges of what the new instrument can do. And through that I get all these creative limitations which can help with my ideas. One instrument that I have turned to recently is the Omnicord, which is an 80s electronic auto harp. And I'm trying to use it now on this track called Lion Eyes that I've been working on with my collaborator Tim Baxter. And I just wanted to use it to see if it freshened up the track a little bit, added something unusual to the mix. I'm going to use it to see if it's going to be a little bit more dynamic. I'm going to use it to see if it's going to be a little bit more dynamic. I'm going to use it to see if it's going to be a little bit more dynamic. For me music making is an alchemy of all these different components. Music, the chords, the lyrics, the melody, the chemistry you have with your collaborator. And when all the ingredients are right, you just know it. It just feels like the right sound. You just feel the right해요 You just feel the right\"],\n",
              " ['Video Title: One Thing Monomite – Delay as a sampler',\n",
              "  \"Hello, it's Monomythe, and one thing I like to do is use the delay as a sampler to create new patterns. I start by inserting a delay on an audio track to fit my guitar into it. I turn the wet to 100% and set the time division to 16. As soon as I turn the feedback to maximum, I can record small phrases and overdubs. If I don't like what I played, I can delete it by setting the feedback to 0 and then start again. If I'm interested in an idea, I can quickly change the beat divisions to create new rhythm patterns. To capture the result, I simply route the output of my track into another audio track. The actuality of this computer twist seems dub exactly 100%. The test comes on audio track and what что to hope it will be a good modification. By sliding the cable, it is rolled up at the bottom partly directly from the level at the bottom. stata assimilate. Lainnen little بعد CC Nuit and CaloHles they will not avoid yesterday the actole to know the request a new one accumulated with its supports in monks. After use, we 🐻 recorded an ol McMahon Saint Laurent Kindителя which is Ј. ...\"],\n",
              " ['Video Title: One Thing Rainbow Chan – Turn one note into chords',\n",
              "  \"Hey, I'm Rainbow and one thing I like to do is create chords by transposing samples. I start with recording one note. This method is really cool for voice or monophonic instruments. I duplicate the audio clip onto multiple tracks and transpose them into a hero chord I like. I repeat this process to build a chord progression. I play the notes with the warp settings. Adding more notes and playing with the warp settings can create tension and bring out new textures. Writing progressions this way helps me to overcome habits, really use my ears and create moments of harmonic surprise in my tracks. Osu! dreams ma consedal music his\"],\n",
              " ['Video Title: One Thing Kyoka – Exploring noise',\n",
              "  'Hello, I am Kyoka. One thing I do to create new music is to try to find some inspiring street noise. When I come back, I listen to the recordings, then I try to find some nice groove or rhythm from that. I cut it and sometimes I loop. Then I try to find some inspirations from that sound for singing or music. Like this. Like this.'],\n",
              " ['Video Title: One Thing Robot Koch – Committing',\n",
              "  'Hi, I\\'m Robert. One thing that I find is that having too many options can be distracting. So as soon as I made something I like, I turn it into audio and delete the original. For example, this is a MIDI track from one of my songs with a few effects on it. Now I would ask myself, do I love this? Do I commit to it? The answer is yes. I would change the routing like this, record the soft synth, including all the effects as audio. And delete the original MIDI track. This forces me to make decisions and move forward. It also helps me to develop a better sense of what the song really needs. I think working with limitations actually frees my creativity. It helps me embrace what my body really needs. And my colleagues as kids taught me that listening to a song makes your pulpit get fuller. It allows you to change your ruralots past media. And does give you a life that is much deeper. The key to how music\"... Pokemon.'],\n",
              " ['Video Title: One Thing Sweatson Klank – Pumping sounds',\n",
              "  \"Hey, I'm Tom, and this is one thing I do to create rhythmic, pumping-like sounds. This trick works on pretty much any sustained sound. For instance, long bass notes. I apply the auto-pan effect to the track, invert the phase, and set it to 360. Next, I turn up the amount, select a note value I like, and choose a sawtooth wave. This trick also works great on pad sounds. Play with the offset to shift the pumping a bit. I use this a lot because it's more straightforward than sidechain modulation, and you get some additional features to play with. It works the same on usual melody buttons. I also enjoyed it that way a bit, with the effect of analysing regulations in the back-end who did enjoy basic whatever. Now, once again, again on audience production, using a��n, I typically only show stuff that works better with a sidechain modulation, but Itsz?! doesn't have a sound effect, so it's convenient to play here. ✔️ Follow me Twitch �ucht, Pascal civic community. We'll make sure to Paul this you! 🖐\"],\n",
              " ['Video Title: One Thing Laura Escudé – Controlled randomness',\n",
              "  \"Hi, I'm Laura, and one thing I like to do is randomize effects on my violin while I'm composing. I've prepared an effect rack that contains various unique effects. MIDI CC ranges are distributed equally, and I've mapped the chain selector to a knob. I'm using a Max for Live patch to randomize the chain selection. By using a MIDI controller to trigger the changes, I never know what effect is up next, so I have to react spontaneously. Utilizing controlled randomness keeps me in the moment and helps my creativity flow.\"],\n",
              " ['Video Title: One Thing Josh Spoon – Sampling yourself',\n",
              "  \"Hi, I'm Josh, and one thing I like to do is create my own arrangements to sample from. I start with playing one instrument. Something that gives me a feeling. Then I play other things. Usually three parts total. I resample it, chop it up and simpler, and then I play with the chops. Creating my own samples avoids clearing issues and gives me a special vibe. It's just like any other sample, except it's entirely mine.\"],\n",
              " ['Video Title: One Thing Richard Veenstra –\\xa0Modular jams',\n",
              "  \"Hi, I'm Richard and one thing I like to do is record my modular germs. I usually limit myself to two or three modules and begin patching. At the same time I start recording in Live's arrangement view to make sure I don't miss any happy accidents. Live sends out two audio pulses. The faster pulse is a steady clock so that everything will match Live's tempo. The slower one is one audio pulse on each bar, so I'll have a reset pulse for loops or rhythmical modulations. After recording for 15 to 30 minutes I select and edit the most interesting parts. It can be a loop, a drum sound or the whole jam. Then I export the results and delete the original recordings. In jams like these there are most often some very inspiring moments. And it's a refreshing idea that none of this can be exactly recreated and only the most inspiring ideas are saved for future use. Due to the low quality of technology these 2015 and 2017 modules contain far more higher quality than previous versions, so I still enjoy multitasking and having familiarized mechanics be part of my daily work on these machines. All of this saw Live's things flow into YouTubeos\"],\n",
              " ['Video Title: One Thing Drum & Lace – Re-pitching field recordings',\n",
              "  \"Hi, I'm Sophia, and one thing I like to do is use field recordings to create an ambient bed in my work. When I start a new composition, I go through sounds that I've recorded and edited. Here's one I captured in the south of France. I drop it into sampler and start experimenting with different octaves until I find something that creates an interesting texture. Then I'll start adding effects to it. By using this approach, I find new sounds and keep my music organic.\"],\n",
              " ['Video Title: One Thing Ariel Alexander – Crossfading loops',\n",
              "  \"Hi, I'm Ariel, and one thing I like to do is combine tracks using Live's Crossfader. I start with two contrasting percussion loops. First I click the little X on the right side to show the crossfader, and I assign track 1 to A and track 2 to B. I arm the resample track and record while fading from A to B, creating a new loop. I also love to use this technique to smoothly blend the sounds of two synths. Here I have two tracks with the same MIDI data, but different instruments. I set one to A and the other to B. Before I blend them together, I adjust the chance on each track. Then I increase the track delay on one of them. Once again, I hit record on the resample track and move the crossfader. This method is a fun one. It's a fun way to combine sounds together. And because I move the fader intuitively, the results are imperfect and organic. Music Music Music Music Music Music Music Music Music Music Music Music Music\"],\n",
              " ['Video Title: One Thing Astronautica – Breaking habits',\n",
              "  \"Hi, I'm Astronautica, and one thing I like to do when struggling with writer's block is taking a minute, stepping back, and thinking of ways I can shake up my normal workflow. Like with drums, I used to play or draw in MIDI patterns, but one day I tried dragging drum samples directly into the arrangement view, and doing it this way actually gave me a lot of new ideas. For example, I'm working on this track right here, and seeing the waveforms and context helps me to place beats where I actually hear them in my head. I can also edit and manipulate specific beats right in the arrangement. They will help me cameraman for that whole thing! For me, working visually with audio in the arrangements and beats did the trick. But it could be anything. The essential point is getting out of your comfort zone. That's the end, that's the end That's the end, that's the end\"],\n",
              " ['Video Title: One Thing Ben Lukas Boysen – Dynamic layering',\n",
              "  \"Hi, my name is Ben. And one thing I like to do when I'm composing is to play with dynamic layers of sound. I often start with a very simple idea, like this. Then I double the track several times and have different synths play it. To me, arpeggios are a very good way to create interesting variations. Finally, I will play with volume and other parameters of the layers to make it more organic and evolving. This method helps me to trigger new ideas and to develop tracks quickly. I hope you will enjoy this video. Thank you for watching. I hope you will like it. I hope you will like it. I hope you will like it. I hope you will like it.\"],\n",
              " ['Video Title: One Thing El Choop – Gated noise',\n",
              "  \"Hey, I'm Harvey, and one thing I like to do is use gated noise to create textured artifacts in my music. Here I have a MIDI track, with the synth playing some chords. I audition some samples from my noise collection, which I've recorded earlier from various sources like my Tascam Porter 1. When I find one I like, I drag it into my session, and this creates an audio track. I insert a gate on that track, and sidechain it to my MIDI chord track. Now each time the synth is triggered, a small burst of noise is released. I disable fixed grid on my noise clip, and change the loop region, so a different piece of noise is triggered each time. This makes it less predictable. Finally, I group the noise track from one to the other. This way I can apply effects to the entire sound. I love this trick because it's fast, it makes my sounds more textured, and it gives my software synths that little vintage vibe. I hope you enjoyed this video. If you did, please like, comment, and subscribe. Thanks for watching.\"],\n",
              " ['Video Title: One Thing Sirintip – Starting with data',\n",
              "  \"Hi, I'm Soorin Tiff, and one thing I like to do is use data as a starting point for my compositions. Here's for instance, NASA's website with a timeline of the average global temperature from 1880. First, I download the data. Then, I import it into this web app, which turns datasets into musical information. I choose a key and mode for my composition based on the mood I'd like to communicate. As I listen to the musical data played back, I create different patterns based on years that are significant to me, throughout history and my personal life. When I'm happy with the dates I selected, I play the resulting notes on the keyboard. Then, replace the sound with samples of my voice to make it even more powerful. I also use the sound of my voice to create a more personal sound. This process reduces the pressure of starting from scratch. It helps me create compositions with a deeper meaning and write melodies in ways I've never thought of before. A IOPE as I am my own voice. Starting with the notes I've selected leaves me with the情ethe experience of Porque Con Tat fine-tuning. I, even though I don't have a built-in computer set toAI communication, can easily wireframe the身etwetter recording recorded to AI, or whenever I want to generate some taco for myself to play singer selected works for the tracks in the software where I want the Banff where there's all the work done. ESTO ESinde ESopposito em e mm jal ef\"],\n",
              " ['Video Title: One Thing Hainbach – Unsynced loops',\n",
              "  \"Hi, I'm Heinbach and one thing that I like to do is work with unsynced loops. My main inspiration for that comes from working with tape machines like these three, which create an ever-evolving soundscape. Even when working the DAW, I often do the same. Here, for comparison, are three synchronized loops. I switch off the grid and set the loop length by ear. I also switch off the loop length by ear. I switch off the loop length by ear. And then I have them play off each other. The beauty of this method is that our brain always strives to create order from chaos, so sometimes this already works as a finished piece. If not, I play around with it and apply other techniques to give it a little bit more structure and coherence.\"],\n",
              " ['Video Title: One Thing Ben Vedren – Sidechained variations',\n",
              "  \"Hi it's Ben, and one thing I like to do is transform a pad into different rhythm patterns using a sidechained gate effect. I start with a rhythm and a pad and place a gate effect on my pad track. I'll open the sidechain section, select the rhythm track as the source, and then I'll adjust my threshold until I hear the groove happening on my pad. Now I play with the starting point and length of the rhythm loop until I get a result I like. I make a copy of the clip I play and use it to find a different rhythm. This way I can create other rhythm pad patterns for my song. This technique allows me to find inspiring ideas, merge sounds, and helps me adopt a sismore state of mind. ... ... ... ... ... ... ... ... ... ... ... ... ... ... ... ... ... .. . ... ... ... ... ... ... ... ... ... ... ... ... ... ... ... ... ... .. ... ... ... ... ... ... ... ... ... ... ... ... ... ... ... ... ... ... ... ... ...\"],\n",
              " ['Video Title: One Thing Bauma – Playing like a child',\n",
              "  \"Hi it's Boma and one thing I like to do is record slow random phrases on an instrument and turn them into a rhythm pattern. I start by recording an acoustic instrument in the arrangement view. I play very slowly, without worrying about any key or tempo. As naively as a child could do. Once finished, I split the tempo twice so the clip plays four times faster. I can move some warp markers to change the rhythm. And I copy and paste the most interesting parts to build a pattern. And I can also modify larger patterns. This method helps me overcome the fear of the blank page. And allows me to build pieces. Based on unique ideas and patterns.\"],\n",
              " ['Video Title: One Thing Hannes Bieger – Tuning drum sounds',\n",
              "  \"Hi, I'm Hannes and one thing I've learned as a producer and sound engineer is that drums are not only percussive events but also tonal elements and therefore it's important that you tune them to the key of your track. If you start thinking of your bass drum as a bass note it is obvious that you would like to make it fit with the rest. Now tuning kicks is a bit tricky because the tonal structure is hard to hear in the lower frequencies. That's why when pitching kick drums I tune them up by one octave first then tune it to the song and then pitch it back down by one octave again. If you get this right for all your drum tracks you will notice that not only the mix will sound better this also adds tremendously to the groove of your track. Music\"],\n",
              " ['Video Title: One Thing Jamaica Suk – Changing context',\n",
              "  \"Hi, I'm Jamaica and one thing I like to do is DJ my unfinished tracks at home. Coming from a musician's background, the creative part is often the easiest for me, but then I'll often get stuck in the arrangement process. When I hit that wall, I'll export the current state of my track in the studio and take it with me to my apartment. Then I mix my track against other records I like to see if the arrangement is effective enough. By flipping perspective from a producer's to dancer's ear, I'll often find missing ingredients or just realize the track is not the same as the original track. The track is ready to go.\"],\n",
              " ['Video Title: One Thing Risa Taniguchi – Sampling friends',\n",
              "  \"Hello, my name is Lisa Taniguchi. My one swing is to use parts of casual conversations with friends as material for vocal phrases. When I meet friends, I sometimes ask them if I can record the conversation. If there is a phrase that interests me, I may ask them to repeat it in English. When you get home, record your favorite phrases in your own voice. Most of the time, I record only with my cell phone. Then import your friend's version and your own version live to see which one suits your song best. For me, when I meet up with friends, recording their voices is really helpful for coming up with my own vocal samples and ideas. It is highly recommended as it can be used without worrying about copyright.\"],\n",
              " ['Video Title: One Thing Andrea Belfi – Bass sounds from cymbals',\n",
              "  \"Hi, I'm Andrea, and one thing I like to do is create bass sounds with cymbals. I'm using this small mic, but any condenser cardioid should work. Wearing headphones to hear the microphone, I start experimenting. When the mic is further away, the cymbal sounds bright, but closer to the edge it becomes more bassy. When I've found the right position to achieve the sound I have in mind, I start recording. I start recording with the microphone, and then I start recording with the microphone. This method allows me to create bass sounds in between the acoustic and electronic world, which often form the foundation of my tracks. Produced by Adam Rawls. The gestellt, mày Overrunz sentimental, ukulele mainly. Get in touch with me on messenger cavities. Jimmykuakesa.com Laura's rehearsal is coming up next.\"],\n",
              " ['Video Title: One Thing JiKay – Playing feedback',\n",
              "  'Yo, my name\\'s Jai K and one thing I like to do is create new sounds using feedback loops. I have a MIDI track with a short sample, an empty return track, and an audio track with the effects chain. At the end, there\\'s a limiter set to minus 12 to tame the feedback. I set the effects track to monitor in, with the input set to the return. I turn both sends all the way up, add a third track for resampling, trigger my sample, and play with the parameters. It\\'s nice and Theme-designed all the way up and lived up to testing that. It adds a nice\"; Using feedback loops is a great way of finding new inspiration and keeping my music making unpredictable. We\\'ll see you next time.'],\n",
              " ['Video Title: One Thing Sha Sha Kimbo – Passive listening',\n",
              "  \"Hi, I'm Shasha, and one thing I like to do is passively listen to my music. When I'm working on a new tune and I don't know what to do with it, I loop it and play it at a mellow level. Then I just do other stuff around the house. In this phase, I'm not focused on the track, but I'm listening subconsciously. When I get back to my track, I often know what's missing or what needs to be changed. So this method helps me understand my tunes in a new perspective. I'm not focused on the track, but I'm listening subconsciously.\"],\n",
              " ['Video Title: One Thing Delhia de France –  Rehearsing in slow motion',\n",
              "  \"Hi, I'm Delia and one thing I like to do to get into the zone before recording or performing is to rehearse the song very, very slowly. Here is my song in the original tempo. Now I slow it down and listen to the vibration and feel the gaps in between. It's almost like meditation. It's almost like meditation. By rehearsing slowly I can create space in between the notes and I need to fill that space with presence. It's about connecting to yourself and your body in the very moment and of course you can use any of the notes. It's a very easy instrument.\"],\n",
              " ['Video Title: One Thing Half Waif – Poetry to melody',\n",
              "  \"Hi, I'm Nandi, and one thing I like to do is use spoken word to help build vocal melodies. I start by recording a simple, long chord progression. I find a poem I've written that doesn't have a home yet, and record myself speaking the words, not worrying about the melody. They'd never come. The roadside goes blue. The bloom of chicory and frothed goldenrod plumes. So late this year. Holding their breath like the rest of us. Then, I record an idea for a vocal melody, following the spoken track's timing and waveform. Just when you thought they'd never come. The roadside goes blue. The bloom of chicory and frothed goldenrod plumes. So late this year. Holding their breath like the rest of us. Finally, I mute the spoken word track, and listen back to the new version of the song. I'm going to record a new vocal melody. Just when you thought they'd never come. I love this workflow because the phrasing of the melodies is different than how I would normally sing them. It creates a roadmap for bringing pre-written words into the music. The roadside goes blue. The bloom of chicory and frothed goldenrod plumes. So late this year. So late this year. Going back out in time right now. Just can any mercy, go intolv about clarinet to figure out a song that, uh, sounds so nice. Not my favorite.\"],\n",
              " ['Video Title: One Thing Morgan Page – Tune drums like chords',\n",
              "  \"Hi, I'm Morgan, and one thing I like to do is tune my drums like a chord. This song is an F minor, so I'll tune the kick to an F. A tom phrase like this could be tuned to the F minor triad using F, A flat, and C. Other percussive elements like these one-shot samples would also use these notes, making sure that they are tuned to the scale. By focusing on specific notes to the scale, each instrument plays a supporting role in the spectrum of my track. This allows me to achieve more impact with less EQing in my mixes. Now let's move on to some advanced\"],\n",
              " ['Video Title: One Thing DJ Dahi – Colorful naming',\n",
              "  \"Hey guys, my name is DJ Dahee. One thing I like to do is set aside time to name my sounds. When I listen to music, I'm usually listening for textures. So, when I hear something I like, I usually name it the first thing that pops in my head. When I go to my user library, I like to search for a vibe. Such as the word crystal. Crystal. Or stinky. Or dream. Or even the color red. This helps me stay in the flow and make music from the heart.\"],\n",
              " ['Video Title: One Thing Giulio Maresca – Sketchbook project',\n",
              "  \"Hi, I'm Giulio. That's something I like to do and record all my improvisations and ideas in one project. When I want to improvise or work on a new composition, I open my liveset, called Sketchbook. The project contains audio tracks for all my synths, a MIDI track for a 303 plugin, and return tracks for reverb and delay. All takes are organized into scenes. To start a jam, I create a new scene and record. There's also an audio channel for recording other instruments. This way I can connect a guitar or microphone on the fly and record. When I'm done, I rename the scenes, assign a color that reflects the mood and mark the BPM. I rename the clips to remember what I recorded and the BPM. And I set the right level of sends thanks to the automations on the clips. When I want to listen to my ideas again a few days later, I don't need to remember which project contains that idea. I just open the Sketchbook project. I can search for jams by colors. For example, light green corresponds to acid sounds, dark green for dub scenes, light blue ambience, and green for scenes that are my ideas. In grey, however, are the things I don't like very much. Everything is warped. I can play freely and combine different clips. For example drums done in January and a synth sequence done in June. Having all my takes in one place allows me to not have numerous unfinished projects. It's very easy to combine different ideas, it allows me to save time, and to do things that aren't mine. It is a mind free from excessive organization.\"],\n",
              " ['Video Title: One Thing Nick Hook – Beat it!',\n",
              "  \"Hey what's up, I'm Nick Hook. One thing I like to do is surprise myself. I've developed a few techniques to get my exploration started. One of them is putting the push into key mode and punching that shit. I know it seems crazy but banging on the thing just brought out a bunch of patterns that I would have never thought of any other way. Once I get one of those is when I can really get to work. Exploring doesn't always mean you have to know what you're doing and surprising myself has kept my process fresh every day. I'm Nick Hook. I'll see you next time.\"],\n",
              " ['Video Title: One Thing Ducks! – Taking turns',\n",
              "  \"Hi, I'm Lani. And I'm Craig. And together we make music as... Ducks. One thing we like to do when we start a new track... Is take turns... Adding layers... To a loop. First we find some random way to decide who starts. This is going to be hard to beat. The winner records the first layer of a loop. Then we take turns adding sounds. When I'm playing something, I might have an idea of what I want to do next. But then the next layer might take it in a completely different direction. So you have to wait and see. We don't worry about making it perfect. We just kept the ideas down quickly. When the loop starts to sound too busy, we copy one element. And then start the process again. This helps us to come up with new material for another section. This method gives us lots of musical material in a short space of time. It helps us make creative decisions equally. It keeps the energy level up in the room. And it works with any number of people. Also, it's just polite. It's just polite. It's just polite. It's just polite. It's just polite. It's just polite. It's just polite. It's just polite. It's really leaping! Xi'an stands out as an example for its lyrics. Juicy food is automatically appropriately unique. These are our original lyrics, which we came up with for theека's Season 1. We practiced our Mojito, from the last single we recorded them, then remade our own.\"],\n",
              " ['Video Title: One Thing Andrew Toy – Improvising to automated effects',\n",
              "  \"Hi, I'm Andrew and one thing I like to do is improvise on the drums along with automated effects to come up with new ideas. I have all the drums in one group to record the dry signals and two additional audio tracks. One of them receives the audio from the drums group. The other track is simply for recording. The first thing I do is drop a random sample onto the effects track and turn the clip gain all the way down so its only purpose is automation. This is called a dummy clip. Next I change the loop length parameter. I'll play a two bar loop. I drag in an effect, change some parameters to taste, and open the envelope menu to select which parameter I like to automate. I draw a random automation curve and start recording the dry drums and the effects record track. As I play along I respond to the changing sound. Sometimes I add several effects and layers of automation to create more complex sounds. I'm going to add aaken by adding anadores to the clip shakes and the automation helps me focus entirely on the performance and come up with new ideas. Anyway, I have more memories than what I move around in. Just curves, strings, We'll see you next time.\"],\n",
              " ['Video Title: One Thing Marc Marzenit – Syncing percussive loops',\n",
              "  \"Hi, I'm Marc and one thing I love to do is create new beats from any audio sample regardless of whether it fits the tempo or genre of my track. Here I have a project I'm working on and here's a random drum audio loop. As you can see, my project doesn't fit, together it sounds chaotic. I turn on Warp Mode on my drum loop, leave it in Beats Mode, set the Granulation Resolution to 1.16, and then set the Transient Loop Mode to OFF. Now the Groove fits into my project and I now play with the Transient Envelope value until I like the Groove. This is a great tool even for loops that already fit the tempo of the song. Here I have a loop of the music that fits the tempo of the song. Here I have a loop that fits my project without the need for Warping. And this is what happens when I play with the Granulation Resolution and Transient Envelope values. Exploring the creative possibilities of warp modes helps me shape existing drum loops and inspires me to create new drum paths. And to create new rhythms in a different way.\"],\n",
              " ['Video Title: One Thing Baby Lucia – Resampling beat repeats',\n",
              "  \"Hi, I'm Lou and one thing I like to do is use beat repeat to create new chord patterns. I start with a melody or a chord progression on a MIDI or audio track. I drag in beat repeat and create a new audio track. And route the audio from the original track to this one. I set chance to zero, arm the second track and start recording. I play with different settings and manually switch beat repeat on and off to find as many cool sounds as I can. When I finish recording, I slice the track in half, and switch the audio to a new MIDI track, most often with an eighth or quarter note division. And mute the other two tracks. I double click the new MIDI clip to open it. Delete the default MIDI notes and experiment with different notes until I have something I like. Well, you hear me! This is a ton of fun and introduces unexpected changes into my music. It helps me uncover those happy accidents that make a track memorable. Also helps with the ... visiting my work. They wanna trash me, push me, pass me, get at me, shush me, bash me, nasty, basic and tacky, and your attitude ain't classy, trash me, push me, pass me, get at me, shush me, bash me, nasty.\"],\n",
              " ['Video Title: One Thing I Am Snow Angel – Reverse vocal intros',\n",
              "  \"Hi, I'm Julie Catherine, and one thing I like to do is create ethereal song intros using my lead vocal. Here's what my lead vocal sounds like on its own. I dreamed you in between starlight First, I copy it onto a new audio track and reverse it. Next, I add hybrid reverb, and I set the algorithm to shimmer with a pretty long decay. I choose one of the bigger spaces in the convolution impulse response menu, and adjust the blend, dry-wet, and other parameters to create an otherworldly vibe. When you are so good When you are so good When you are so good Then I use the EQ sound. I use the EQ section to remove the high end as well as some of the lower muddy areas. When you are so good Now I freeze and flatten the track. Increase the gain as needed, and reverse it again. I position the clip at the beginning of the song, and finally I add some tremolo. And then I add some more. More reverb and delay to taste, More reverb and delay to taste, and I automate the dry-wet on the reverb to create a build. and I automate the dry-wet on the reverb to create a build. I always walked alone in the woods. These reverse vocalizers work well on their own or blended with other tracks. It's an amazing way to create a mood that helps the listener instantly get lost in the music. Double Dash\"],\n",
              " ['Video Title: One Thing Plastica – Arpeggiator for rhythms',\n",
              "  \"Hi, I'm Matilde. One thing I like to do is use the D-Live arpeggiator to create rhythmic variations. Often, wanting to create a rhythmic pattern, I record just a few midi notes as a starting point. To make this simple pattern more interesting, I insert the Arpeggiator device, making sure that Sync mode is active. Not wanting to create classic arpeggios, I leave the number of steps at zero. Then I automate the Rate parameter of the arpeggiator. I double-click on the midi clip, open the Automations section and select Arpeggiator and Sync Rate. Finally, I draw a frequency automation curve, most often in the range of a half to a sixteenth, until I hear a rhythmic variation that I like. I like this approach because it puts me in a creative dialogue with the software, which stimulates me and helps me develop interesting ideas. To get more information, subscribe to our channel. Thank you!\"],\n",
              " ['Video Title: One Thing H Lite – Scrubbing for variations',\n",
              "  \"Hey, I'm Anton, and one thing I like to do is scrub along Live's playhead to create unique rhythms and sounds. First, I make sure that Permanent Scrub Area is turned on in Preferences so that I can freely click around the playhead. Here I have a beat. That's the foundation for the track. This other clip is a very simple percussive loop, with Warp turned on. Next, I change the global quantization to 16th notes, and create a resampling track to capture the percussion sounds. I arm it, hit record, and start scrubbing around the clip to find something interesting. After this, I move to Arrangement View, mute the percussion track, right-click on my resample track, and select Show Take Lanes. As I listen back, I select the parts that stand out to me. I'm going to use the same process to do the same thing on the other track. I'm going to use the same process to do the same thing on the other track. I'm going to use the same process to do the same thing on the other track. Now I'll do another pass. This time, I'll take a more fluid approach. Back in Session View, I unmute my percussion track and change the global quantization to None, with Legato turned on. I mute the first resample track, create a second one, arm it, and repeat the process. But this time, I'm searching for something more textural. If I zoom in while scrubbing, it can deteriorate the sounds even further. This also works well with a synth sample and adjusted warp settings. This method continues to surprise me. It generates inspiring results not only with rhythms, but also with melodic material. with rhythms but also with melodic material.\"],\n",
              " ['Video Title: One Thing Junichi Oguro – Composing with video clips',\n",
              "  'Hello, my name is Junichi Omiya. My one thing is to compose music along with video clips. First, shoot a short video clip. I like things that have different rhythms and sound characteristics. When I get home, I cut out the parts I like and combine them to create a visual pattern. Use warp to match the tempo that matches the video. Then I create a sonic groove and finally add other instruments. And then we will complete it. If you can shoot video clips like this and focus on watching as well as listening, your ideas will expand. You can approach music production from a completely new perspective. Thank you for watching this video. Please subscribe to our channel.'],\n",
              " ['Video Title: One Thing Dennis DeSantis – Humanizing clips',\n",
              "  \"Hi, I'm Dennis, and this is one thing I do to put a little life or humanness back into strictly quantized clips. So I have a pattern here that's snapped directly to the grid. If I want to create a little bit of smear between the notes and these chords, I drag in a groove file. It doesn't matter which one, because I'm not using the timing offset at all. I apply it to the clip, and then I turn up the randomization amount. So if I turn it up to 100, it kind of falls apart. It sounds like I programmed this drunk. But I find that if I use about 10%, I get a nice offset between the notes and the chords. Often what I'll do is duplicate the track then, and take the groove off the second version, and then pan them a little bit. So then I get this offset between where they are in the stereo field, and also between the strictly quantized and the randomized version. And this is a nice way to get a little life back into these patterns without having to do a lot of work. Thanks for watching! I'll see you guys in the next video!\"],\n",
              " ['Video Title: One Thing XLII – Destroying everything',\n",
              "  \"Yes, it's Siri. My wanting is to pretend to be a fictional character and destroy my own songs. There's only one rule. Destroy everything. Even when I think this song is a little weird or I don't have the motivation to do so, I turn into a different personality like the Joker and destroy my song. The song itself doesn't have to be good. I'd rather it become bad. This is where you mess up the arrangement. Repeat the entire track as a quarter note, then reverse it in places to add automation. He applied a lot of guitar effects, cut out the slightest gaps to make glitches, applied a lot of autotune to the pitchless sound, and recreated the voice of someone who hates gates. I'll come. Yes, it's genuine. So, the one who is making the digital one I made the other day. Here, in order, I'm going to pick up my 있으96, Ga, and then Get Auto, which are like two albums that were produced in the same way as yesterday's one, right? Judy Beautiful, I found this site difficult and decided to change to this site. By asking another person who doesn't care about the feelings and rules of the series to do the song, you can find interesting developments and new techniques. Thanks to this, you don't hit the wall and it's much more fun. Please subscribe to my channel to stay creative.\"],\n",
              " ['Video Title: One Thing Catnapp – Against instinct',\n",
              "  \"Hi, I'm Ampi. And one thing I do when I get stuck is try and shift my perspective a little bit by choosing the sound that I like least. It can be a kick, a loop or a synth. So sometimes I just go through the presets and ask myself which one would I never use in my music? When I find it, I start a new track based on that sound in order to begin somewhere different. Developing habits can create a solid concept for your music but sometimes it helps to take a different path. One, two, three boys saying they have a choice when I'm missing my voice in the middle of the noise.\"],\n",
              " ['Video Title: One Thing illGates – Sampling chaos',\n",
              "  \"Hi, I'm Ill Gates and one thing that I love to do is make chaotic recordings of parameter movements while resampling them. I call the file that results a mud pie. To begin, I route my source audio into a new audio track for sampling. Here I'm using echo but any effect or combination of effects will work as long as it's generating chaos. I disable input filtering, turn the feedback down, change the dry wet to a hundred percent, and then begin recording while drastically manipulating the time parameter. Finally I'll go through and chop up all the best bits and cut them against the original track to make little fills and edits. I use this mud pie technique all the time. It's a great way to generate fresh ideas and it saves me countless hours of editing automation.\"],\n",
              " ['Video Title: One Thing Dot – Subtractive sampling',\n",
              "  \"Hi, I'm Kate, and one thing I like to do is subtract from musically dense loops and sampled material. For this example, I'll start with this vocal sample. I have some saturation and delay to further enhance the space and tone. I like the way this sounds on its own, but in context with the other tracks, it's too heavy and distracting. At this point, I freeze and flatten the sample track, and look at where the waveform sits in relationship to the other elements in the arrangement. I cut away sections of the sample from parts of the track that have a lot of activity, leaving only small pieces sprinkled in between. Sometimes I do the opposite, layering parts of the vocal on top of specific notes or beats that I want to emphasize, and cut away the rest. This technique is a great way to add rich samples to my music, and turn them into something unique without overpowering the rest of the song.\"],\n",
              " ['Video Title: One Thing Fake Blonde – Chopping with chance',\n",
              "  \"Hi, I'm Mason, and one thing I do to keep things moving is use chance to create unexpected sample chops. Here I have this vocal sample and I'm trying to find interesting bits by chopping it manually. But when I work this way, I often feel boxed in by the left-to-right way of thinking. If I hit this wall, I drag in simpler, drop in the sample, and draw a few trigger notes. To make sure I don't miss anything nice, I route the audio from my simpler to a new audio track so I'm ready to record. Then I insert the LFO device after simpler, adjust the shape of the waveform, and map it to the start parameter. I play with the LFO's depth, offset, and rate until I like what I hear and hit record. To add some movement, I'll use the LFO to create a new sample. I add another LFO and do the same for parameters like transpose and filter frequency. The results are different each time I do this because there's so many settings I can play with. This workflow forces me to give up control and use what the sampler gives back. It helps to bypass muscle memory and uncover fresh ideas. Now, I quickly finished a thing with my physical pretty please subscribe to Boomeranger TV so you can run classes without having to recipe. Thanks so much for watching!\"],\n",
              " ['Video Title: One Thing John Kameel Farah – Building scales',\n",
              "  \"Hi, I'm John and one thing I like to do when I improvise is to slowly build up a giant weird scale. I usually start off with a drone in the left hand, which can be anything, dissonant or consonant. Then I start to meditate on a few notes and slowly add to it, as if I'm an archaeologist dusting off sand to reveal an object. I uncover a large asymmetrical scale. It's like a giant staircase where each step is a totally different size. What I love about it is that I can follow my intuition and it comes out completely different every time. As I open up my Rolling Stone I'm able to go through everything in a questioned type of way. I recognize watching this video every two weeks. I want to express myself and say to the world in the tv program that I struggle to compare with people just because of the правда. The truth is I understand best! It's telling stories, LEARNS something! that's surely about estate. Om. God bless you all!\"],\n",
              " ['Video Title: One Thing Arbour – Recording the speaker',\n",
              "  \"Hi, I'm Hans, and one thing I like to do is record my mix out of my speakers and layer it under the original mix. Here I have two audio tracks. One is my full song, and the other is a microphone track. First, I position the microphone about one to two feet away from my speaker, depending on how much of the room I want to capture. Then, I arm the microphone track, set my levels, and record the entire song. I record the whole track, and then I add EQ to cut low frequencies, then saturation, and sometimes even a little reverb. Now, on the recorded track, I add EQ to cut low frequencies, then saturation, and sometimes even a little reverb. Finally, I adjust the parameters to blend everything together. This is an easy way to take my in-the-box mix and make it less predictable and more organic. I like to set a reverb theme to a low-light setting on 40 karats duos, and widest frequencies to get more\"],\n",
              " ['Video Title: One Thing Charlie McClean – Practice mindfulness',\n",
              "  \"Hi, I'm Charlie, and one thing that I like to do to help artists nurture their creativity is using a simple mindfulness technique. Spend an hour each day creating, without thought or concern for its quality or its purpose. If you're a songwriter, write free-form words and prose. Don't think, don't re-read or edit. Let it all go. As a producer, experiment with sound design, but don't save anything, even if you like it. For instrumentalists and vocalists, explore free-form improvisation, being spontaneous and focusing on the journey, not the result. Then, go back to your normal work habits, but keep in mind the sense of freedom you experience when you create without constraint or care. Give your mind permission to accept that your creativity is endless, and that there will always be more. If you practice this a little every day, then you'll never lose touch with what inspires you.\"],\n",
              " ['Video Title: One Thing Ayako Okamura – Tuned ambience',\n",
              "  \"Hello, this is Ayako. My one thing is to turn random recorded sounds into musical instruments with scales. First, let's take the ventilation sound. It's okay if you don't have a clear pitch. The chirping of birds, the sound of water, anything is fine. Next, use EQ. Apply a narrow bandpass filter to bring out the basic pitch. LFOs are useful for adding movement. This time, sample it as you did, drag it to the sampler, and then apply the effect. This will allow you to play it like an instrument with pitches. By looking at the spectrum and amplifying specific frequencies, you can turn any sound into an interesting instrument. The possibilities are endless. Easily find out what kind of instrument the instrument sounds like at organizations.com and pay the functor for reconstruction, facilities, and content requirements with the NYCH Pass.\"],\n",
              " ['Video Title: One Thing Ulises Lozano – Combining tracks',\n",
              "  \"Hi, I'm Uli. One thing I do when I get stuck working on a project is to combine it with another sketch that has a completely different tempo and style. So right now I'm working on this reggaeton cumbiaton beat. And here I have a sketch that I was working on. It's a techno sketch. This is how they sound combined. Or for example I have a drum and bass sketch that I was previously working on too. And this is how they sound combined. So this will bring something totally new, fresh and unexpected to the project, which will trigger more inspiration to come. So let's continue.\"],\n",
              " ['Video Title: One Thing Rachel K Collier – Embracing nonsense',\n",
              "  \"Hi, I'm Rachel and one thing I like to do when I'm producing a track is to break out of the serious producer mindset by recording nonsense into my microphone. Sometimes I've got a basic beat and a bass line like this. But I'm not always sure how to move forward. Then I try to get into a playful mindset. I look around my place and grab random things to sample. Try not to think about frequency range, dynamics and any other musical details. I record playing these things to my track. Then I do the same with my voice. Just being silly. I went to the shop and bought some biscuits. I drag the audio into simpler, set it to slice mode and search for sounds that are not recognisable. Then I turn on the audio. I turn it into a rhythm. Finally, I'll repeat the process a few times until I can't find any new textures. For me, this playful mindset is a great way to get new ideas quickly and leads to a very productive session where I'm kinder to myself and I just have more fun making music. Finally, I try to focus on my music these days. I enrich my mind with五 loan Pierre Bor месяц & Feliz Natal's Candidate List Cameras Environment Automotive Opera Music\"],\n",
              " ['Video Title: One Thing KMRU – Sampling broken instruments',\n",
              "  \"Hi, I'm Kamaru and one thing I like to do is to sample broken instruments. I'm always searching for broken or binded instruments to go there and capture their sound. Each of them has its own kind of magic. Because the tuning is usually off, I'm focusing more on the percussive sounds. When I'm back, I'll layer the samples with other sounds like synths, clean instrument samples or fill recordings to create unique textures. Using these sounds helps me to stay open-minded, to think beyond chord progression and keys and to make the process of creating limitless. Fun fact, I have a Robert set-up where I can record items as qualquer 1962 was coming my way. I recorded funky beats several times but that type was not 好 dataset Remember we had to that type a few years ago 3\"],\n",
              " ['Video Title: One Thing Chuck Sutton – Expression with foley',\n",
              "  \"Hi, I'm Chuck, and one thing I like to do is map velocity to controls other than volume so my percussion samples can feel more alive. First, I go outside with my phone to capture foley sounds. These can be rocks, trees, shells, anything I can strike or rustle. Now in Live, I drag my recordings onto a new audio track, right-click and turn off my grid, and split the audio clips to separate my favorite parts. When I'm done, I open up a blank sampler, highlight the clips I divided, and drag them in. Then, I click on the Zone tab to find the green Key Editor, select All, and drag both sides to the middle to the letter R. I have 10 samples, so I click on the bottom zone and use the right arrow key to move it to the 10th space. This way, when I right-click and select Distribute Ranges Equally, all 10 samples are assigned to their own MIDI note. Now, in the MIDI tab, I set the velocity destination to Pitch, and set the velocity amount to around 50% so softer taps feel deeper, and harder taps feel brighter. To take it one step further, I can also select Time as the destination and set it to 100% to play the speed of the envelopes. It becomes very noticeable when I bring the Sustain all the way down and shorten the Decay. Finally, for a nice stereo effect, I set the Random Pan percentage just above 10%, and now it's starting to fly around my ears. Now, it's starting to fly around my ears. Mapping velocity to textual parameters makes creating feel more tactile, and adds realism in an effective way. Let's see how this works. Let's try it out. Let's see how it works. Let's try it out. Let's try it out.\"],\n",
              " ['Video Title: One Thing Maya Shenfeld – Composing with overtones',\n",
              "  \"Hi, I'm Maja and one thing I like to do is sketch out the harmonic spectrum of one fundamental as a starting point for a drone composition. First, I open this website and type in a fundamental frequency. I usually pick a frequency below 200 Hz. The site displays the corresponding overtone series and I write it down. Then, I create the harmonic series in Live, using Operator to generate sine waves. Next, I play with the balance and automate the levels, creating a progression. I often duplicate some of the partials and slightly detune them to create a beating. As a final step, I replace some of the sine waves with recordings of tunable instruments. This adds more grain, texture and complexity. I also add a little bit of a For me, unfolding the harmonic potential that is there in between equally tempered notes and scales is an inspiring way to begin a new composition. I'm using the same technique to create a new composition. I'm using the same technique to create a new composition.\"],\n",
              " ['Video Title: One Thing Lucky Paul – Rhythmic chance',\n",
              "  \"Hi, I'm Paul and this is my mobile studio. One thing I like to do is to make rhythms with chants. I make some random noise with percussion and instantly loop it. I've customised my set so I can react and add to the loop on impulse. I like to keep my music as live and improvised as possible. And this method adds an element of surprise and keeps me inspired. Let's follow this rest of the way and stay on track. If we've dropped a beat somewhere else, we could play the Calm song. This way we'll also follow that beat again. And we're new해엔 This week we will continue to quiet our voices with one minimal piece of music. So we will hit the still moments for an interval from time to time and we'll see more details in the course as well. Slaman This is great for twoyd\"],\n",
              " ['Video Title: One Thing BlankForms – Delay as a Tone Shaper',\n",
              "  \"Hey, I'm Blank Forms. One thing I like to do is use delay not as a delay but as a tone shaper. So here's the raw signal from this synth with no delay. I put the delay at 100% wet and the feedback all the way down, just hearing one instance of the delay. And as I bring the delay time up, it's going to get grittier and a bit noisier. And finally, I adjust the modulation, which moves the delay time and makes the pitch sway subtly. I can do the same thing with a software delay. I turn it to 100% wet and the feedback to zero, so that I'm just getting a single instance. I turn up the frequency of the delay and I switch the delay division to something quick, like 32nd or 64th notes. I turn up the wobble on the noise, sometimes a little bit of reverb. And finally, I use the filter to shape the frequency spectrum a bit. I love this technique because it gives the original signal, a feeling of age and degradation.\"],\n",
              " ['Video Title: One Thing Sasha Perera – Chords to monophonic lines',\n",
              "  \"Hi, I'm Sasha. One thing I like to do is to transform chords from my initial composition into monophonic lines. A lot of my songwriting ideas start very basic. By recording chords. And vocals. When I'm happy with the composition, I add bass. And other monophonic lines. I just go by ear and don't think about the harmonic function of each note. But they will naturally cover the notes. Contained in the chords. In the end, I mute or delete the initial chord track. I feel I write better songs on straight chords. But transforming them into monophonic lines gives me much more scope for complex arrangements. Simply exciting! If you have any questions, leave a comment. Or type, at least, I put a link into my hometown, the official message. That would mean a lot to me. See you next week, here in London. Thank you for watching! Make sure to subscribe for more videos. Can. Bye. Bye!\"],\n",
              " ['Video Title: One Thing Kodh – Bespoke dice',\n",
              "  \"Hi, I'm Ben and one thing I like to do is use a dice game to narrow down my choices when I start a new piece. A few years ago, I bought some blank dice and wrote musical elements on them like tempo ranges, keys, and instruments. When I want to start a new song, I roll the dice and they tell me things like that the tempo should be between 120 and 130 bpm, that the song should be in A minor, and that I should start by playing the bass. It may be difficult to do what I do, but I will try to do what I do. It's difficult to start a piece from scratch, but by creating in this way, you avoid paralyzing the initial decision and it's an instant pleasure.\"],\n",
              " ['Video Title: One Thing Lorena de Tena – Jamming with mutes',\n",
              "  \"Hi, I'm Lorena and one thing I like to do is create pattern variations by muting MIDI notes on the fly. I start by improvising and recording a MIDI pattern, something quite dense and complex. I then create a second MIDI track and choose the track I just recorded as input. While I'm recording on the second MIDI track, I select random groups of notes on the first track and mute them with the MIDI pattern. Then I press the 0 key. When I'm done, I choose a different sound for the track I just recorded. Sometimes I use it alone, other times I combine it with the track I just recorded. And then I do it with the original track. Improvising by muting notes is a quick and fun way to create subtle variations of dense patterns that can then be freely combined into complex and diverse arrangements. Now the track that exchanges Nesbitt notes, writing the ninja, making the guide with the MIDI pattern is a quick way so it's not a bold green Chemistry of...? It's just a Barefoot對不對. Step... Which pantry am I going to make the pattern from? I can't tell you. That's why I have it stuck. Big... preachy girl! Raymonduga! Encitorial! How to make a bracelet? It's difficult, but amazing. Yes, by Suree Pearce one.\"],\n",
              " ['Video Title: One Thing Frank Zerban – Drums to bass',\n",
              "  \"Hi, I'm Frank and one thing I like to do is turn MIDI drum patterns into basslines. I often come up with a drum pattern I like, but then I struggle to find a bassline. When that happens, I just copy the MIDI clip from my drum track to my bass track. Often it sounds quite good already, so I just tweak a little until I feel it's perfect. This method is kind of a classic, but still a great shortcut to create basslines for your drums. Thanks for watching!\"],\n",
              " ['Video Title: One Thing Ally Mobbs – Focused sampling',\n",
              "  \"Hi, I'm Ali, and one thing I like to do is focus on one object and try to get as many sounds out of it as possible. I often go out and search for any kind of objects that make sounds. I'll use mics and contact mics to record the physical sounds. If it's a battery powered sound toy like this, I might open it up and modify it by circuit bending, and even add a line out. Afterwards, I will chop the recordings into drum racks, and integrate them into my music. When procrastinating with making music, this method helps me to still be productive and kickstart inspiration. I hope you enjoyed this video. If you did, please give it a thumbs up and subscribe to my channel.\"],\n",
              " ['Video Title: One Thing Brian Funk – Record first',\n",
              "  \"Hi, I'm Brian, and one thing I like to do is record my first moments with gear that I've never used before. Instead of reading the manual or watching tutorials first, I'll hit record and plug it in. I'm focusing on the sound, rather than how the pedal works. I like to run different sounds through it. It's not about perfection, it's about fun and exploration. After a while, I will listen back for some cool sounds. This technique is a great way to capture happy accidents I wouldn't normally make after learning how to use something properly. Great! So that's video! What a activating quality!\"],\n",
              " ['Video Title: One Thing Aphir – Formant-shifting vocals',\n",
              "  \"Hi, I'm Becky, and one thing I like to do is to use Live's Warping to alter the tone of my vocals so they don't sound like my regular singing voice. Here's my original lead vocal track. First, I solo the track, select the vocal clip, and activate Warp in Complex Pro mode. The further I transpose, the stronger the formant shifting. Usually, I choose about 5 semitones and play with the formant setting until I hear the vibe I'm after. Now, I freeze and flatten the track. Which allows me to pitch it back to the original. This slightly alters the formants again, so I adjust the formant parameter to keep the current vibe, or even get closer to what I want. Formant shifting my vocals gives me that uncanny valley sound that I like, and the freedom to alter my voice so that I can step into different moods and characters in my song. As for the different trazings, Ikeeping the same rhythm yet after soloing serves a separate fact of the sequence. In order to get the odd sounds<|ja|> out while changing the formant setting, is just a lot more excitement on my voice. Hopefully everyone was able to find balance of the process and to rounding out the columns for my vocals. If you Sang Para file liked my video that's totally up foroku. Also, click the Subscribe button to support my channel.\"],\n",
              " ['Video Title: One Thing JWords – Alternating rhythms',\n",
              "  \"Hi, I'm J-Wers and one thing I like to do is use a gate to create alternating rhythms. Here, I have a basic kick drum track as a starting point. Then, I experiment with my modules until I have something I like. Then, I'll record the audio and name it texture. The new track sounds a little busy alongside the original kick, so I add a gate to it. Open the side change section, activate the EQ, and set the key. Set it to high pass. Then, I bring the threshold down until I start to hear the loop come through the gate and adjust the return to taste. Next, I turn on the side change and select kick as the main source. Finally, I adjust the threshold once more until the kick and the texture track are alternating and not getting in each other's way. Then, I create a couple of stocking LAUGHS on the beat like it's theui neurotrips. This is a simple way to create alternating rhythms like it's kind of response to make my drums more transparent and interesting. How you can create question mark sounds Addut einfach Addut\"],\n",
              " ['Video Title: One Thing Ricky Tinez – Rhythms in rhythms',\n",
              "  \"Hey I'm Ricky and one thing I do is find new rhythms within rhythms I have already recorded. I start by recording the audio of an external synth, just a couple bars worth of movement. Then I change the track monitoring from in to auto and disarm recording so I can hear the track playback. In the sample editor I make sure that the loop button is activated. I highlight a section and hit command plus L to activate the loop and start to search for new rhythms. This creates different parts that are all unique yet match the vibe of the track. In the arrangement, I can extend or shorten the loop section by dragging the edge of the clip and it will repeat. Then if I want to change the track, I can do that. I can also change the length of the loop section to be smaller or smaller, or I can just change the length of the loop section to it up, I just split the clip by selecting Edit Split. I create different sections by selecting an even smaller portion of the loop and because I have the loop point set, it's always going to restart in time on the one. When I search for new parts within ideas I have already recorded, new elements emerge.\"],\n",
              " ['Video Title: One Thing Stoni – Percussify',\n",
              "  \"Hi, I'm Stoney. One thing I like to do for inspiration is grab a bunch of loops, throw them into Ableton Live, and go into Beats Warp Mode and start manipulating the parameters. Let me show you guys how I get that done. So I come into the browser and I audition different loops. Grab the loop, drop into an audio clip. Make sure Warp is on. It's a loop. I come here, assign that to Beats, and make sure I'm in one shot. And then I start manipulating the parameters. And automatically you can hear the difference in the loop. It becomes very percussive and it cuts out all the different sounds that's inside of the loop. Then I'll come back up and listen. And then choose what feels good to me. Okay. Okay. I like it right about there. I always do that in the beginning. It helps me to listen to loops differently until I know where to take them. The next time you hear the loop, you end up with a loop that sounds pretty good. Yep. The next time you hear this sound, you'll always feel like you're listening. Next time you hear something, call or go anywhere near the loop. You can see how much of the loop you've pulled. Oh, no. It didn't work. It didn't work.\"],\n",
              " ['Video Title: One Thing Cloudchord – One loop per chord',\n",
              "  \"Hi, I'm Cloud Chord, and one thing I like to do is create a separate loop for each chord. Here I have a beat with a simple two-chord progression and a guitar track. First I drop a looper onto the guitar track, set the length, and rename it to match the chord that I'll play, which is C major. I place a loop bracket around the length of the first chord and press record. The highlighted icon shows that looper is in overdone mode. That means I can do a few passes and add some variety each time. Then I drag the loop onto a new audio track. I place a second looper on the second looper. I place a looper on my guitar track and repeat the process for the second chord, which is D minor. Sometimes I experiment with the looper's parameters. I drag the recording to my loops channel and label the clips accordingly. Now I have loops saved in the loopers above so I can chop and warp the audio on my loops channel to create complex layers. I like this method because it gives me a unique soundscape for each chord and creates a unique sound. I armshear proclaimed by a sweetness of forcément Once I am good enough with the loops, I get an Mete talk participation technique with this technique. Such a quick lull accuses me of what these一起 coral Peninsula sounds suddenly sound. I am trying to make these and old musical instruments they can feel comfortable after they got squished. Xing 셋 You need a new lot to have both a luthier and a orchestra instrument.\"],\n",
              " ['Video Title: One Thing Mike Parvizi – Shifting loops',\n",
              "  \"Hey, I'm Mike. One thing I've found is that auditioning random loops from an unquantized sample can be a great way of sparking ideas to start a song. I'll start by recording myself playing bass for a few minutes. Then I'll go back and select one or two bar phrases with arbitrary start points to see how they sound. I'll also record the rest of the song. In my experience, the best ideas come out when you take a step back and let the magic happen. And this technique is a great way of letting the chord progressions write themselves. traveler A b u w s e m a b l d y c p s o\"],\n",
              " ['Video Title: One Thing Ninajirachi – Textured drum layers',\n",
              "  \"Hey I'm Nina and one thing I like to do is use field recordings to add texture to my drums. I start by recording ambient sounds. I'm mostly interested in textures with an organic quality. When I'm back, I open the audio file in Simpler, chop it up in slice mode, and copy my MIDI drum clip to this track so that each drum note triggers a different slice. Finally, I adjust the transient detection sensitivity, transpose the MIDI, and play with filter and envelope settings until I hear something I like. I'm using the Simpler to add a layer of sound to my drum. Layering sounds from the outside world makes my drums less predictable and it helps me to glue my arrangements together.\"],\n",
              " ['Video Title: One Thing Rokeya – Searching for rhythmic sounds',\n",
              "  \"Hi, I'm Alessandra and one thing I like to do is go outdoors to capture rhythmic sounds. I love doing feed recording, but walking without a precise plan often doesn't seem very productive. When I focus on something concrete, like rhythmic sounds, I have more ideas about what to look for. Suddenly I find all kinds of rhythms. Fast, slow, surprising or obvious. Back in the studio, select my favorites. I start exploring them through looping, reverse, pitching and adding effects. Contractors soccer who collects the null tejler V свет with the AGA web sortate in battle by doenfyrdàn and ad자щение Jah prefers oilerty to the temporary disposes leather GG&EJM Here todde that I believe myself as dominions mie pastor yere are more law to do leestre. I went to this live broadcast while he with the freak hardb šichara dure men retro omics and really cevolo ir 객 hours straight to my music with the د 's arg were Ek watch the race of him with a good. The discovery invited to the sea that of the lancer is of no use therefore I sцевsolare from the keyboard below of the lipsticks. After answering the pans that we did went in the car he would not have to do no more than sokedi.\"],\n",
              " ['Video Title: One Thing Mans O – Building complex rhythms',\n",
              "  \"Hi, I'm Roman, and one thing I like to do is create polyrhythms in Live's Arrangement view. First, I start with some empty tracks. I shorten the loop bar to half a bar and the rack to a 32nd. Then, I take some drum samples, bring them to the beginning of the track, and cut the long samples to about a 16th. I select a section a little longer than the first sample and duplicate it repeatedly with command D until the loop fills. I do the same with the next sample, selecting a different start, defining the rhythm with the coexistence of starts. To create more complex rhythms or different meters, I change the grid to triplets. Finally, I move the samples around and mute some until I'm happy with the result. I like this method because it increases my listening and helps me create grooves that are interesting, bodily, and good starting points for building entire tracks. If you want to see more videos of music methods, you can see them on my YouTube channel. If you want to see more music videos, you can see them on my YouTube channel. Subscribe to the channel! Subscribe to the channel! Subscribe to the channel!\"],\n",
              " ['Video Title: One Thing David Heartbreak – Naming first',\n",
              "  \"Yo, my name is Heartbreak and one thing that I like to do to escape writer's block is I like to name my songs before I make them. I have a perfect example for you. It's a track that's called The Feels. Let's take a listen to it. Now I decided to make an IDM track called The Feels. By naming my track in advance, the first thing that I know that I needed is I needed to have something that was emotional. I started with a chord progression with lush and ambient pads and once I had that going, I then added in a reggae guitar to give it even more of an organic vibe. The benefits of using this technique are it narrows my focus, it makes my sound design more cohesive and on top of that, it allows me to be more creative and have more fun and ultimately that's what it's all about. Like and subscribe for more videos, videos, and more. Head to Head VS Head ventilation for your vocals. See you next time! Bye!\"],\n",
              " ['Video Title: One Thing Kingzquest – Randomizing chords',\n",
              "  \"Hi, I'm Tiffany. One thing I like to do is use follow actions to discover inspiring chord progressions. I keep a MIDI library of chords in different keys, so I can easily just drag and drop them into my session. I place the chords in a follow action group. Here I've chosen D minor. I select them all, set the follow action to any, and record the results of these random progressions in arrangement view. So once I have something I like, I'll try out different inversions for smoother voice leading. This method helps me stop focusing just on what technically works, and get in touch with what inspires me. At first I thought a癣D is something that's still simple, simple but wissenable. But you can read up a little later... I've recently started reading music videos. And I know this is all a good way of socializing with music... So don't worry, go watch a piece when you have time to. You're good. You too.\"],\n",
              " ['Video Title: One Thing Ed Bahonie – Finishing songs live',\n",
              "  \"Hi, I am Ed Bahony and one thing I like to do is take my unfinished tracks from a studio situation and bring them into a live situation where I can finish them as part of my live performance. Sometimes when I'm writing a track it feels like it's almost there but then I find myself going around in circles trying to finish it by writing extra parts. Maybe the track doesn't need extra parts. Perhaps it only needs little variations here and there. That's where I stop myself and decide to explore these questions in a live situation where I can react instantly to the feedback of the audience. I might change the length or repetitions of parts, vary the lyrics a bit, throw in delays, distort the drums or play with dramatic filtering. This way I find out what works and what doesn't without overthinking it. Me playing an unfinished song live is a breakfast with me. brilliant way to finish a song. I think tonight I learned what this song is about.\"]]"
            ]
          },
          "execution_count": 62,
          "metadata": {},
          "output_type": "execute_result"
        }
      ],
      "source": [
        "formatted_entries"
      ]
    },
    {
      "cell_type": "code",
      "execution_count": null,
      "metadata": {
        "id": "PgJSlNmebE3g",
        "outputId": "eb0fcbc6-3539-4e80-a0bf-14856325fd9d"
      },
      "outputs": [
        {
          "name": "stdout",
          "output_type": "stream",
          "text": [
            "Transcriptions saved to /Users/abnormalisdope/Desktop/Current Coding Projects/2024 Projects/Ableton_Tip_App/transcriptions_raw.csv\n"
          ]
        }
      ],
      "source": [
        "# Data will be stored in a CSV file, then analyzed by ChatGPT for grammar and content improvements\n",
        "\n",
        "import csv\n",
        "\n",
        "# Specify the destination file path\n",
        "csv_filename = '/Users/abnormalisdope/Desktop/Current Coding Projects/2024 Projects/Ableton_Tip_App/transcriptions_raw.csv'  # Update this path\n",
        "\n",
        "# Write to CSV file\n",
        "with open(csv_filename, 'w', newline='', encoding='utf-8') as file:\n",
        "    writer = csv.writer(file)\n",
        "    writer.writerow(['Video Title', 'Transcription'])  # Header\n",
        "    for entry in formatted_entries:\n",
        "        writer.writerow(entry)\n",
        "\n",
        "print(f\"Transcriptions saved to {csv_filename}\")\n"
      ]
    },
    {
      "cell_type": "markdown",
      "source": [
        "# Conclusion\n",
        "## In conclusion, this Python project has enabled me to transform a collection of Ableton producer tips into a valuable resource. By converting, translating, and posting these tips on a dedicated website, I have created a convenient hub of knowledge for myself and my friends to overcome writer's block and enhance our music production skills. Moving forward, I look forward to expanding this resource with even more tips, ensuring that it continues to serve as a helpful source of advice and inspiration in our creative endeavors.\n",
        "\n",
        "site: https://dans314.pythonanywhere.com/\n",
        "\n",
        "\n"
      ],
      "metadata": {
        "id": "hlD3ajLZdQ2w"
      }
    }
  ],
  "metadata": {
    "kernelspec": {
      "display_name": "Python 3",
      "language": "python",
      "name": "python3"
    },
    "language_info": {
      "codemirror_mode": {
        "name": "ipython",
        "version": 3
      },
      "file_extension": ".py",
      "mimetype": "text/x-python",
      "name": "python",
      "nbconvert_exporter": "python",
      "pygments_lexer": "ipython3",
      "version": "3.9.6"
    },
    "colab": {
      "provenance": []
    }
  },
  "nbformat": 4,
  "nbformat_minor": 0
}